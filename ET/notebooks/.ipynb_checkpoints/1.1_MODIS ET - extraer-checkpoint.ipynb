{
 "cells": [
  {
   "cell_type": "markdown",
   "metadata": {},
   "source": [
    "# ET MODIS - extraer\n",
    "_Autor:_    __Jesús Casado__ <br> _Revisión:_ __1/1/2021__ <br>\n",
    "\n",
    "__Introducción__<br>\n",
    "Datos de MODIS sobre cobertura de nieve en la cuenca del Deva. \n",
    "1. Se cargan los datos originales (8 días) y se agregan a diversas frecuencias temporales (mensual y anual). Los datos se muestran en mapas y series.\n",
    "2. Introducción al análisis de EOFs sobre los datos anteriores.\n",
    "\n",
    "__Cosas que arreglar__ <br>\n",
    "Cómo leer atributos del archivo _hdf_ de MODIS.\n",
    "\n",
    "***\n",
    "\n",
    "__Índice__ <br>\n",
    "__[1 Cartografía](#1-Cartografía)__<br>\n",
    "\n",
    "__[2 Datos MODIS: Terra y Aqua](#2-Datos-MODIS:-Terra-y-Aqua)__<br>\n",
    "[2.1 Cargar datos brutos](#2.1-Cargar-datos-brutos)<br>\n",
    "[2.2 Rellenar mapas faltantes](#2.2-Rellenar-mapas-faltantes)<br>\n",
    "[2.3 Exportar como netCDF](#2.3-Exportar-como-netCDF)<br>"
   ]
  },
  {
   "cell_type": "code",
   "execution_count": 1,
   "metadata": {},
   "outputs": [],
   "source": [
    "import os\n",
    "rutaBase = os.getcwd().replace('\\\\', '/') + '/'"
   ]
  },
  {
   "cell_type": "code",
   "execution_count": 2,
   "metadata": {},
   "outputs": [],
   "source": [
    "import numpy as np\n",
    "import pandas as pd\n",
    "import matplotlib.pyplot as plt\n",
    "from pandas.plotting import register_matplotlib_converters\n",
    "register_matplotlib_converters()\n",
    "%matplotlib inline\n",
    "import seaborn as sns\n",
    "sns.set_style(\"whitegrid\")\n",
    "from mpl_toolkits.axes_grid1 import make_axes_locatable\n",
    "from matplotlib.gridspec import GridSpec\n",
    "from matplotlib import cm\n",
    "from matplotlib.colors import ListedColormap, BoundaryNorm, LinearSegmentedColormap\n",
    "from netCDF4 import Dataset, num2date, date2num\n",
    "from datetime import datetime\n",
    "from calendar import monthrange\n",
    "import time\n",
    "import geopandas as gpd\n",
    "import matplotlib.patheffects as pe\n",
    "import matplotlib.animation as animation\n",
    "from IPython.display import HTML\n",
    "from pyproj import Proj, transform, CRS\n",
    "#os.environ['PROJ_LIB'] = r'C:\\Anaconda3\\pkgs\\proj4-4.9.3-vc14_5\\Library\\share'"
   ]
  },
  {
   "cell_type": "code",
   "execution_count": 3,
   "metadata": {},
   "outputs": [],
   "source": [
    "os.chdir(rutaBase + '../../../MODIS/py/')\n",
    "from funciones_MODIS import *\n",
    "#from funciones_EOF import *\n",
    "os.chdir(rutaBase)"
   ]
  },
  {
   "cell_type": "code",
   "execution_count": 4,
   "metadata": {},
   "outputs": [],
   "source": [
    "os.chdir(rutaBase + '../../py')\n",
    "#from class_MODIS import *\n",
    "from funciones_raster import *"
   ]
  },
  {
   "cell_type": "markdown",
   "metadata": {},
   "source": [
    "## 1 Cartografía"
   ]
  },
  {
   "cell_type": "code",
   "execution_count": 5,
   "metadata": {},
   "outputs": [],
   "source": [
    "# ruta cartografía\n",
    "#rutaGIS = 'C:/Users/jcr693/OneDrive - UNICAN - Estudiantes/Proyectos/IAHR2020/GIS/'\n",
    "rutaGIS = os.path.join(rutaBase, '../../data/GIS/')\n",
    "\n",
    "# importar polígonos de las cuencas\n",
    "cuenca = gpd.read_file(rutaGIS + \"mask_465_deva.shp\")\n",
    "\n",
    "# importar mdt de la cuenca\n",
    "DEM = read_ascii(rutaGIS + 'dem_465_deva.asc', crs=25830)\n",
    "DEM.variable = 'elevación'\n",
    "DEM.units = 'm.s.n.m'"
   ]
  },
  {
   "cell_type": "code",
   "execution_count": 6,
   "metadata": {},
   "outputs": [
    {
     "data": {
      "image/png": "[encoded data removed]",
      "text/plain": [
       "<Figure size 360x360 with 1 Axes>"
      ]
     },
     "metadata": {},
     "output_type": "display_data"
    }
   ],
   "source": [
    "fig, ax = plt.subplots(figsize=(5, 5))\n",
    "\n",
    "cuenca.boundary.plot(ax=ax, edgecolor='k')\n",
    "ax.imshow(DEM.data, cmap='pink', extent=DEM.extent)\n",
    "\n",
    "ax.set_title('DEM cuenca del DEVA-1265', fontsize=13, fontweight='bold')\n",
    "ax.set_aspect('equal')\n",
    "ax.axis('off');"
   ]
  },
  {
   "cell_type": "markdown",
   "metadata": {},
   "source": [
    "## 2 Datos MODIS: Terra y Aqua\n",
    "\n",
    "### 2.1 Cargar datos brutos"
   ]
  },
  {
   "cell_type": "code",
   "execution_count": 7,
   "metadata": {},
   "outputs": [],
   "source": [
    "# rutas de entrada y salida\n",
    "rutaMODIS = 'C:/Users/jcr693/OneDrive - UNICAN - Estudiantes/Cartografia/MODIS/'"
   ]
  },
  {
   "cell_type": "code",
   "execution_count": 8,
   "metadata": {},
   "outputs": [],
   "source": [
    "# parámetros de la extracción de datos de MODIS\n",
    "products = {'Terra': 'MOD16A2', 'Aqua': 'MYD16A2'}\n",
    "var = 'ET_500m'\n",
    "units = 'm^2/m^2'\n",
    "description = 'Serie temporal de mapas de ET de la cuenca del Deva obtenidos a partir de MODIS'\n",
    "dateslim = None#('2013-10-01', '2015-09-30')#None\n",
    "tiles = ['h17v04']"
   ]
  },
  {
   "cell_type": "code",
   "execution_count": 9,
   "metadata": {},
   "outputs": [],
   "source": [
    "# definir extensión a extraer de MODIS\n",
    "left, bottom, right, top = cuenca.to_crs(sinusoidal).bounds.loc[0,:]\n",
    "cellsize = DEM.cellsize\n",
    "extent = [left - cellsize, right + cellsize, bottom - cellsize, top + cellsize]"
   ]
  },
  {
   "cell_type": "code",
   "execution_count": 10,
   "metadata": {},
   "outputs": [
    {
     "name": "stdout",
     "output_type": "stream",
     "text": [
      "TERRA\n",
      "-----\n",
      "Seleccionar archivos\n",
      "nº de archivos (fechas): 863\n",
      "\n",
      "Generar atributos globales\n",
      "dimensión:\t\t(2400, 2400)\n",
      "esquina inf. izqda.:\t(-1111950.52, 4447802.08)\n",
      "esquina sup. dcha.:\t(      0.00, 5559752.60)\n",
      "\n",
      "Crear máscaras\n",
      "dimensión:\t\t(  48,   49)\n",
      "esquina inf. izqda.:\t(-394443.47, 4782916.80)\n",
      "esquina sup. dcha.:\t(-372195.19, 4804701.58)\n",
      "\n",
      "Importar datos\n",
      "Fecha 863 de 863: 2019-11-01\t||\tTile  1 de  1: h17v04\n",
      "Paso 863 de 863:\t2019-11-01\n",
      "\n",
      "AQUA\n",
      "----\n",
      "Seleccionar archivos\n",
      "nº de archivos (fechas): 797\n",
      "\n",
      "Generar atributos globales\n",
      "dimensión:\t\t(2400, 2400)\n",
      "esquina inf. izqda.:\t(-1111950.52, 4447802.08)\n",
      "esquina sup. dcha.:\t(      0.00, 5559752.60)\n",
      "\n",
      "Crear máscaras\n",
      "dimensión:\t\t(  48,   49)\n",
      "esquina inf. izqda.:\t(-394443.47, 4782916.80)\n",
      "esquina sup. dcha.:\t(-372195.19, 4804701.58)\n",
      "\n",
      "Importar datos\n",
      "Fecha 797 de 797: 2019-11-01\t||\tTile  1 de  1: h17v04\n",
      "Paso 797 de 797:\t2019-11-01\n",
      "\n"
     ]
    }
   ],
   "source": [
    "ET = {}\n",
    "\n",
    "for sat in products:\n",
    "\n",
    "    print(sat.upper())\n",
    "    print('-' * len(sat))\n",
    "    product = products[sat]\n",
    "\n",
    "    # extraer datos de MODIS\n",
    "    modis = MODIS_extract(rutaMODIS, product, var, tiles, dateslim=dateslim,\n",
    "                          extent=extent, verbose=True)\n",
    "\n",
    "    # reproyectar a UTM-30N según el vecino más cercano\n",
    "    modis.reproyectar(DEM.crs, cellsize, n_neighbors=1, weights='distance', p=1, fillna=-999,\n",
    "                               snap=DEM, inplace=True)\n",
    "    \n",
    "    # recortar a la cuenca\n",
    "    modis.recortar(cuenca, buffer=10, inplace=True)\n",
    "    \n",
    "    # eliminar datos negativos\n",
    "    modis.data[modis.data < 0] = np.nan\n",
    "\n",
    "    # definir unidades y variable\n",
    "    modis.units = units\n",
    "    modis.variable = var.split('_')[0]\n",
    "\n",
    "    # ruta y archivo donde guardar los datos extraios\n",
    "    rutaExport = os.path.join(rutaBase, '../data/')\n",
    "    if os.path.exists(rutaExport) == False:\n",
    "        os.makedirs(rutaExport)\n",
    "    filename = '{0}_{1}_Deva.nc'.format(sat, var)\n",
    "    # exportar los datos como netCDF\n",
    "    MODIS2netCDF(rutaExport + filename, modis, description)\n",
    "\n",
    "    # guardar datos en un diccionario\n",
    "    ET[sat] = modis\n",
    "\n",
    "    print('\\n')    "
   ]
  },
  {
   "cell_type": "markdown",
   "metadata": {},
   "source": [
    "### 2.2 Rellenar mapas faltantes"
   ]
  },
  {
   "cell_type": "code",
   "execution_count": 11,
   "metadata": {},
   "outputs": [
    {
     "ename": "NameError",
     "evalue": "name 'copy' is not defined",
     "output_type": "error",
     "traceback": [
      "\u001b[1;31m---------------------------------------------------------------------------\u001b[0m",
      "\u001b[1;31mNameError\u001b[0m                                 Traceback (most recent call last)",
      "\u001b[1;32m<ipython-input-11-87770029c1ef>\u001b[0m in \u001b[0;36m<module>\u001b[1;34m\u001b[0m\n\u001b[0;32m      1\u001b[0m \u001b[1;31m# rellenar mapas que falten con datos del otro satélite\u001b[0m\u001b[1;33m\u001b[0m\u001b[1;33m\u001b[0m\u001b[1;33m\u001b[0m\u001b[0m\n\u001b[1;32m----> 2\u001b[1;33m \u001b[0mTerra_\u001b[0m\u001b[1;33m,\u001b[0m \u001b[0mAqua_\u001b[0m \u001b[1;33m=\u001b[0m \u001b[0mmissingMaps\u001b[0m\u001b[1;33m(\u001b[0m\u001b[0mET\u001b[0m\u001b[1;33m[\u001b[0m\u001b[1;34m'Terra'\u001b[0m\u001b[1;33m]\u001b[0m\u001b[1;33m,\u001b[0m \u001b[0mET\u001b[0m\u001b[1;33m[\u001b[0m\u001b[1;34m'Aqua'\u001b[0m\u001b[1;33m]\u001b[0m\u001b[1;33m)\u001b[0m\u001b[1;33m\u001b[0m\u001b[1;33m\u001b[0m\u001b[0m\n\u001b[0m\u001b[0;32m      3\u001b[0m \u001b[1;33m\u001b[0m\u001b[0m\n\u001b[0;32m      4\u001b[0m \u001b[1;31m# guardar en el diccionario\u001b[0m\u001b[1;33m\u001b[0m\u001b[1;33m\u001b[0m\u001b[1;33m\u001b[0m\u001b[0m\n\u001b[0;32m      5\u001b[0m ET = {'Aqua': Aqua_,\n",
      "\u001b[1;32m~\\Documents\\GitHub\\MODIS\\py\\funciones_MODIS.py\u001b[0m in \u001b[0;36mmissingMaps\u001b[1;34m(Terra, Aqua, verbose)\u001b[0m\n\u001b[0;32m   1341\u001b[0m     \"\"\"\n\u001b[0;32m   1342\u001b[0m \u001b[1;33m\u001b[0m\u001b[0m\n\u001b[1;32m-> 1343\u001b[1;33m     \u001b[0mTerra_\u001b[0m \u001b[1;33m=\u001b[0m \u001b[0mcopy\u001b[0m\u001b[1;33m.\u001b[0m\u001b[0mdeepcopy\u001b[0m\u001b[1;33m(\u001b[0m\u001b[0mTerra\u001b[0m\u001b[1;33m)\u001b[0m\u001b[1;33m\u001b[0m\u001b[1;33m\u001b[0m\u001b[0m\n\u001b[0m\u001b[0;32m   1344\u001b[0m     \u001b[0mAqua_\u001b[0m \u001b[1;33m=\u001b[0m \u001b[0mcopy\u001b[0m\u001b[1;33m.\u001b[0m\u001b[0mdeepcopy\u001b[0m\u001b[1;33m(\u001b[0m\u001b[0mAqua\u001b[0m\u001b[1;33m)\u001b[0m\u001b[1;33m\u001b[0m\u001b[1;33m\u001b[0m\u001b[0m\n\u001b[0;32m   1345\u001b[0m \u001b[1;33m\u001b[0m\u001b[0m\n",
      "\u001b[1;31mNameError\u001b[0m: name 'copy' is not defined"
     ]
    }
   ],
   "source": [
    "# rellenar mapas que falten con datos del otro satélite\n",
    "Terra_, Aqua_ = missingMaps(ET['Terra'], ET['Aqua'])\n",
    "\n",
    "# guardar en el diccionario\n",
    "ET = {'Aqua': Aqua_,\n",
    "      'Terra': Terra_}"
   ]
  },
  {
   "cell_type": "code",
   "execution_count": null,
   "metadata": {},
   "outputs": [],
   "source": [
    "t = -40\n",
    "\n",
    "fig, axes = plt.subplots(ncols=2, figsize=(10, 5))\n",
    "for ax, sat in zip(axes, ET):\n",
    "    ET[sat].plot(t, ax=ax)\n",
    "    cuenca.plot(color='lightgray', alpha=.7, ax=ax, zorder=0)\n",
    "    cuenca.boundary.plot(color='k', ax=ax)\n",
    "    ax.set_title(sat, fontsize=13);"
   ]
  },
  {
   "cell_type": "markdown",
   "metadata": {},
   "source": [
    "### 2.3 Exportar como netCDF"
   ]
  },
  {
   "cell_type": "code",
   "execution_count": null,
   "metadata": {},
   "outputs": [],
   "source": [
    "for sat in ET:\n",
    "\n",
    "    # ruta y archivo donde guardar los datos extraios\n",
    "    rutaExport = os.path.join(rutaBase, '../data/')\n",
    "    if os.path.exists(rutaExport) == False:\n",
    "        os.makedirs(rutaExport)\n",
    "    filename = '{0}_{1}_Deva_rellenado.nc'.format(sat, var)\n",
    "    \n",
    "    # exportar los datos como netCDF\n",
    "    MODIS2netCDF(rutaExport + filename, ET[sat], description)"
   ]
  }
 ],
 "metadata": {
  "kernelspec": {
   "display_name": "Python 3",
   "language": "python",
   "name": "python3"
  },
  "language_info": {
   "codemirror_mode": {
    "name": "ipython",
    "version": 3
   },
   "file_extension": ".py",
   "mimetype": "text/x-python",
   "name": "python",
   "nbconvert_exporter": "python",
   "pygments_lexer": "ipython3",
   "version": "3.9.0"
  },
  "varInspector": {
   "cols": {
    "lenName": 16,
    "lenType": 16,
    "lenVar": 40
   },
   "kernels_config": {
    "python": {
     "delete_cmd_postfix": "",
     "delete_cmd_prefix": "del ",
     "library": "var_list.py",
     "varRefreshCmd": "print(var_dic_list())"
    },
    "r": {
     "delete_cmd_postfix": ") ",
     "delete_cmd_prefix": "rm(",
     "library": "var_list.r",
     "varRefreshCmd": "cat(var_dic_list()) "
    }
   },
   "types_to_exclude": [
    "module",
    "function",
    "builtin_function_or_method",
    "instance",
    "_Feature"
   ],
   "window_display": false
  }
 },
 "nbformat": 4,
 "nbformat_minor": 4
}
