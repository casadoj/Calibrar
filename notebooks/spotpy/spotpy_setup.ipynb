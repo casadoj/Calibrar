{
 "cells": [
  {
   "cell_type": "markdown",
   "metadata": {},
   "source": [
    "# SPOTPY - configuración\n",
    "***\n",
    "_Autor:_    __Jesús Casado__ <br> _Revisión:_ __6/12/2019__ <br>\n",
    "\n",
    "__Introducción__<br>\n",
    "Se define la configuración para calibrar el modelo de grado-día que simula la cobertura de nieve.\n",
    "\n",
    "* La función objetivo es el `f1_score`. Para aplicarlo a matrices 3D, se utiliza la función `rendimiento_clasificacion` en _funciones_rendimiento_espacial.ipynb_.\n",
    "\n",
    "__Cosas a mejorar__ <br>\n",
    "* Flexibilizar la función objetivo.\n",
    "\n",
    "__Índice__ <br>\n",
    "\n",
    "*** "
   ]
  },
  {
   "cell_type": "code",
   "execution_count": 1,
   "metadata": {},
   "outputs": [],
   "source": [
    "import os\n",
    "from spotpy.parameter import Uniform\n",
    "import numpy as np\n",
    "import yaml"
   ]
  },
  {
   "cell_type": "code",
   "execution_count": 2,
   "metadata": {},
   "outputs": [],
   "source": [
    "rutaBase = os.getcwd()"
   ]
  },
  {
   "cell_type": "code",
   "execution_count": 3,
   "metadata": {},
   "outputs": [],
   "source": [
    "os.chdir(os.path.join(rutaBase, '../'))\n",
    "%run ModeloNieve.ipynb\n",
    "%run funciones_rendimiento_espacial.ipynb\n",
    "os.chdir(rutaBase)"
   ]
  },
  {
   "cell_type": "markdown",
   "metadata": {},
   "source": [
    "# leer archivo de parámetros\n",
    "with open(\"parametros.yml\", \"r\") as ymlfile:\n",
    "    pars = yaml.load(ymlfile, Loader=yaml.FullLoader)"
   ]
  },
  {
   "cell_type": "code",
   "execution_count": 57,
   "metadata": {},
   "outputs": [],
   "source": [
    "class spotpy_setup(object):\n",
    "    \n",
    "    def __init__(self, PCP, TMP, SCobs, pars, RAD=None, obj_func=rendimiento_clasificacion):\n",
    "        \"\"\"Declarar los parámetros, su ditribución y la configuración de su búsqueda (rango, máxima variación, valor inicial...)\n",
    "        \n",
    "        Entradas:\n",
    "        ---------\n",
    "        PCP:      raster3D (t, y, x). Precipitación\n",
    "        TMP:      raster3D (t, y, x). Temperatura\n",
    "        SCobs:    raster3D (t', y, x). Cobertura de nieve\n",
    "        pars:     dict. Parámetros a calibrar: 'min' y 'max' definen el rando de búsqueda, y 'ini' el valor iniical\n",
    "        RAD:      raster3D (12, y, x). Mapas de radiación mensual\n",
    "        obj:func: callable.\n",
    "        \"\"\"\n",
    "        \n",
    "        # definir archivos de entrada\n",
    "        self.PCP = PCP\n",
    "        self.TMP = TMP\n",
    "        self.RAD = RAD\n",
    "        self.SCobs = SCobs\n",
    "        \n",
    "        # definir parámetros de la calibración\n",
    "        self.params = []\n",
    "        for name in pars:\n",
    "            Min, Max, Ini = pars[name]['min'], pars[name]['max'], pars[name]['ini']\n",
    "            self.params.append(Uniform(name, Min, Max, 1., Ini, Min, Max))\n",
    "        self.obj_func = obj_func\n",
    "\n",
    "        \n",
    "    def parameters(self):\n",
    "        \"\"\"Muestrear parámetros\"\"\"\n",
    "        \n",
    "        return spotpy.parameter.generate(self.params)\n",
    "    \n",
    "    def simulation(self, parametros):\n",
    "        \"\"\"Ejecutar la simulación\"\"\"\n",
    "        \n",
    "        # valores de los parametros\n",
    "        Tb, DDF1, DDF2 = parametros\n",
    "        # calcular modelo de nieve\n",
    "        SWE, SM = degreeDayMethod(self.PCP, self.TMP, RAD=self.RAD, Ts=0., Tb=Tb, DDF1=DDF1,\n",
    "                                  DDF2=DDF2, verbose=False)\n",
    "        # reclasificar SWE en un mapa binario de 'snow cover'\n",
    "        SCsim = snowCover(SWE, threshold=1)\n",
    "        # agregar simulación a paso 8 días\n",
    "        SCsim = remuestrearMODIS(self.SCobs, SCsim, func='max')\n",
    "        \n",
    "        data = SCsim.data.data.flatten()\n",
    "        mask = SCsim.data.mask.flatten()\n",
    "        \n",
    "        return data[~mask]\n",
    "        \n",
    "    def evaluation(self):\n",
    "        \"\"\"Definir la observación/objetivo\"\"\"\n",
    "        \n",
    "        data = self.SCobs.data.data.flatten()\n",
    "        mask = self.SCobs.data.mask.flatten()\n",
    "        return data[~mask]\n",
    "        \n",
    "    def objectivefunction(self, simulation, evaluation):#, score='f1', average='weighted'):\n",
    "        \"\"\"Se calcula el rendimiento de la simulación\n",
    "        \n",
    "        Entradas:\n",
    "        ---------\n",
    "        simulation: \n",
    "        evaluation:\n",
    "        score:      \n",
    "        average:    \n",
    "        \"\"\"\n",
    "        \n",
    "        # eliminar pasos con NaN bien en la 'simulation' o 'evaluation'\n",
    "        aux = np.vstack((simulation, evaluation))\n",
    "        mask = np.any(np.isnan(aux), axis=0)\n",
    "        df = pd.DataFrame(data=aux[:,~mask], index=['sim', 'obs']).T\n",
    "        \n",
    "        # como spotpy sólo minimiza, se calcula la diferencia al f1 óptimo (1)\n",
    "        rend = 1 - f1_score(df.obs, df.sim, average='weighted')\n",
    "        \n",
    "        return rend"
   ]
  }
 ],
 "metadata": {
  "kernelspec": {
   "display_name": "Python 3",
   "language": "python",
   "name": "python3"
  },
  "language_info": {
   "codemirror_mode": {
    "name": "ipython",
    "version": 3
   },
   "file_extension": ".py",
   "mimetype": "text/x-python",
   "name": "python",
   "nbconvert_exporter": "python",
   "pygments_lexer": "ipython3",
   "version": "3.9.0"
  }
 },
 "nbformat": 4,
 "nbformat_minor": 4
}
