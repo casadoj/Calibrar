{
 "cells": [
  {
   "cell_type": "markdown",
   "metadata": {},
   "source": [
    "_Autor:_    __Jesús Casado__ <br> _Revisión:_ __10/11/2019__ <br>\n",
    "\n",
    "__Introducción__<br>\n",
    "Se aplica el método grado-día sobre un caso ejemplo, la cuenca alta del río Deva.\n",
    "\n",
    "__Cosas a mejorar__ <br>\n",
    "* La temperatura a usar puede ser la mínima o la media. Analizar.\n",
    "* Crear mapas climáticos para las celdas de MODIS.\n",
    "* Crear capas ASCII con la resolución de MODIS.\n",
    "\n",
    "***\n",
    "\n",
    "__Índice__ <br>\n",
    "[__1. Datos__](#1.-Datos)<br>\n",
    "[1.1 Precipitación y temperatura](#1.1-Precipitación-y-temperatura)<br>\n",
    "[1.2 Radiación](#1.2-Radiación)<br>\n",
    "\n",
    "[__2. Método de grado-día__](#2.-Método-de-grado-día)<br>\n",
    "\n",
    "[__3. Cálculo__](#3.-Cálculo)<br>"
   ]
  },
  {
   "cell_type": "code",
   "execution_count": 1,
   "metadata": {},
   "outputs": [],
   "source": [
    "import os\n",
    "rutaBase = os.getcwd().replace('\\\\', '/') + '/'"
   ]
  },
  {
   "cell_type": "code",
   "execution_count": 2,
   "metadata": {},
   "outputs": [],
   "source": [
    "import numpy as np\n",
    "import pandas as pd"
   ]
  },
  {
   "cell_type": "code",
   "execution_count": 3,
   "metadata": {},
   "outputs": [],
   "source": [
    "import numpy.ma as ma"
   ]
  },
  {
   "cell_type": "code",
   "execution_count": 4,
   "metadata": {},
   "outputs": [],
   "source": [
    "import matplotlib.pyplot as plt\n",
    "from pandas.plotting import register_matplotlib_converters\n",
    "register_matplotlib_converters()\n",
    "import seaborn as sns\n",
    "sns.set()"
   ]
  },
  {
   "cell_type": "code",
   "execution_count": 5,
   "metadata": {},
   "outputs": [],
   "source": [
    "from netCDF4 import Dataset\n",
    "from datetime import date, datetime, timedelta"
   ]
  },
  {
   "cell_type": "code",
   "execution_count": 6,
   "metadata": {},
   "outputs": [],
   "source": [
    "os.chdir(rutaBase + '../py/')\n",
    "from read_write import write_ascii, read_ascii\n",
    "os.chdir(rutaBase)"
   ]
  },
  {
   "cell_type": "code",
   "execution_count": 47,
   "metadata": {},
   "outputs": [],
   "source": [
    "from sklearn.neighbors import KNeighborsRegressor, KNeighborsClassifier"
   ]
  },
  {
   "cell_type": "code",
   "execution_count": 64,
   "metadata": {},
   "outputs": [],
   "source": [
    "import geopandas as gpd"
   ]
  },
  {
   "cell_type": "code",
   "execution_count": 40,
   "metadata": {},
   "outputs": [],
   "source": [
    "%run ModeloNieve.ipynb"
   ]
  },
  {
   "cell_type": "code",
   "execution_count": 41,
   "metadata": {},
   "outputs": [],
   "source": [
    "%run funciones_raster.ipynb"
   ]
  },
  {
   "cell_type": "markdown",
   "metadata": {},
   "source": [
    "## 1. Datos"
   ]
  },
  {
   "cell_type": "code",
   "execution_count": 42,
   "metadata": {},
   "outputs": [],
   "source": [
    "rutaData = 'C:/Users/jcr693/OneDrive - UNICAN - Estudiantes/Proyectos/IAHR2020/data/'\n",
    "os.chdir(rutaData)"
   ]
  },
  {
   "cell_type": "code",
   "execution_count": 190,
   "metadata": {},
   "outputs": [],
   "source": [
    "# ruta cartografía\n",
    "rutaGIS = 'C:/Users/jcr693/OneDrive - UNICAN - Estudiantes/Proyectos/IAHR2020/GIS/'\n",
    "\n",
    "# importar polígonos de las cuencas\n",
    "cuenca = gpd.read_file(rutaGIS + \"mask_465_deva.shp\")"
   ]
  },
  {
   "cell_type": "markdown",
   "metadata": {},
   "source": [
    "### 1.2. Precipitación y temperatura"
   ]
  },
  {
   "cell_type": "code",
   "execution_count": 124,
   "metadata": {},
   "outputs": [],
   "source": [
    "# Cargar netCDF con los datos climáticos\n",
    "nc = Dataset('clima_1265.nc', 'r', format='NETCDF4')\n",
    "\n",
    "# extraer variables\n",
    "X = nc['X'][:].data\n",
    "Y = nc['Y'][:].data\n",
    "dates = nc['time'][:].data\n",
    "dates = np.array([date(1979, 1, 1) + timedelta(days=int(d)) for d in dates])\n",
    "pcp = nc['pcp'][::]\n",
    "tmp = nc['tmp'][::]\n",
    "\n",
    "nc.close()"
   ]
  },
  {
   "cell_type": "code",
   "execution_count": 133,
   "metadata": {},
   "outputs": [
    {
     "data": {
      "image/png": "[encoded data removed]",
      "text/plain": [
       "<Figure size 720x360 with 2 Axes>"
      ]
     },
     "metadata": {},
     "output_type": "display_data"
    }
   ],
   "source": [
    "fig, axes = plt.subplots(ncols=2, figsize=(10, 5))\n",
    "\n",
    "t = 100\n",
    "for ax, data, cmap in zip(axes, [pcp, tmp], ['Blues', 'coolwarm']):\n",
    "    ax.imshow(data[t,:,:], extent=[X.min(), X.max(), Y.min(), Y.max()], \n",
    "              cmap=cmap)\n",
    "    cuenca.boundary.plot(color='k', ax=ax)\n",
    "\n",
    "    ax.axis('off');"
   ]
  },
  {
   "cell_type": "markdown",
   "metadata": {},
   "source": [
    "### 1.2. Radiación"
   ]
  },
  {
   "cell_type": "code",
   "execution_count": 89,
   "metadata": {},
   "outputs": [],
   "source": [
    "rad = ma.masked_array(np.zeros((12, len(Y), len(X))), pcp[:12,:,:].mask)\n",
    "for i in range(1, 6):\n",
    "    read_ascii('rad{0:02d}.asc'.format(i))\n",
    "    radi = read_ascii.data\n",
    "    rad_attrs = read_ascii.attributes\n",
    "    # recortar filas y columnas sin dato\n",
    "    maskC = np.all(np.isnan(radi.data), axis=0)\n",
    "    maskR = np.all(np.isnan(radi.data), axis=1)\n",
    "    radi_ = radi[~maskR,:][:,~maskC]\n",
    "    # convertir en NaN la máscara\n",
    "    radi_d = radi_.data\n",
    "    radi_d[radi_.mask] = np.nan\n",
    "    # asignar mapa\n",
    "    rad[i-1,:,:] = radi_d.copy()\n",
    "    rad[12-i,:,:] = radi_d.copy()"
   ]
  },
  {
   "cell_type": "code",
   "execution_count": 117,
   "metadata": {},
   "outputs": [],
   "source": [
    "# coordenadas de lo raster de radiación\n",
    "ncol, nrow, xll, yll, cs, noDATA = rad_attrs\n",
    "Xrad = np.arange(xll + cs / 2, xll + (ncol + .5) * cs, cs)\n",
    "Xrad = Xrad[~maskC]\n",
    "Yrad = np.arange(yll + cs / 2, yll + (nrow + .5) * cs, cs)[::-1]\n",
    "Yrad = Yrad[~maskR]"
   ]
  },
  {
   "cell_type": "code",
   "execution_count": 119,
   "metadata": {},
   "outputs": [
    {
     "data": {
      "image/png": "[encoded data removed]",
      "text/plain": [
       "<Figure size 432x288 with 1 Axes>"
      ]
     },
     "metadata": {},
     "output_type": "display_data"
    }
   ],
   "source": [
    "fig, ax = plt.subplots()\n",
    "ax.imshow(rad[0,:,:], extent=[Xrad.min(), Xrad.max(), Yrad.min(), Yrad.max()])\n",
    "cuenca.boundary.plot(color='k', ax=ax)\n",
    "\n",
    "ax.axis('off');"
   ]
  },
  {
   "cell_type": "markdown",
   "metadata": {},
   "source": [
    "### 1.3. Nieve MODIS"
   ]
  },
  {
   "cell_type": "code",
   "execution_count": 30,
   "metadata": {},
   "outputs": [],
   "source": [
    "rutaMODIS = rutaBase + '../../MODIS/output/SnowCover/'"
   ]
  },
  {
   "cell_type": "code",
   "execution_count": 31,
   "metadata": {},
   "outputs": [
    {
     "name": "stdout",
     "output_type": "stream",
     "text": [
      "<class 'netCDF4._netCDF4.Dataset'>\n",
      "root group (NETCDF4 data model, file format HDF5):\n",
      "    description: Serie temporal de mapas de SC de la cuenca del Deva obtenidos a partir de MODIS\n",
      "    history: Creado el 2020-11-08\n",
      "    source: https://e4ftl01.cr.usgs.gov/\n",
      "    coordinateSystem: epsg:25830\n",
      "    dimensions(sizes): \n",
      "    variables(dimensions): \n",
      "    groups: Terra, Aqua\n"
     ]
    }
   ],
   "source": [
    "# Cargar netCDF con los datos climáticos\n",
    "nc = Dataset(rutaMODIS + 'MODIS_Maximum_Snow_Extent.nc', 'r', format='NETCDF4')\n",
    "print(nc)\n",
    "\n",
    "# extraer datos en un diccionario\n",
    "SC = {'Terra': {}, 'Aqua': {}}\n",
    "for sat, product in zip(['Terra', 'Aqua'], ['MOD16A2', 'MYD16A2']):\n",
    "    # evapotranspiración\n",
    "    SC[sat]['SC'] = nc[sat][product][::]\n",
    "    # fechas\n",
    "    SC[sat]['dates'] = [datetime(1, 1, 1) + timedelta(time) for time in nc[sat]['time'][:]]\n",
    "    # coordenadas\n",
    "    SC[sat]['X'] = nc[sat]['X'][:]\n",
    "    SC[sat]['Y'] = nc[sat]['Y'][:]\n",
    "\n",
    "nc.close()"
   ]
  },
  {
   "cell_type": "markdown",
   "metadata": {},
   "source": [
    "#### Terra"
   ]
  },
  {
   "cell_type": "code",
   "execution_count": 169,
   "metadata": {},
   "outputs": [],
   "source": [
    "Xmodis = SC['Terra']['X'].data.astype(int)\n",
    "Ymodis = SC['Terra']['Y'].data.astype(int)\n",
    "Tmodis = SC['Terra']['dates']\n",
    "sc = SC['Terra']['SC'].data\n",
    "sc[SC['Terra']['SC'].mask] = np.nan"
   ]
  },
  {
   "cell_type": "markdown",
   "metadata": {},
   "source": [
    "##### Interpolar a una malla regular"
   ]
  },
  {
   "cell_type": "code",
   "execution_count": 178,
   "metadata": {},
   "outputs": [
    {
     "name": "stdout",
     "output_type": "stream",
     "text": [
      "Resolución espacial\n",
      "X: 464.583 m\tY: 463.447 m\n"
     ]
    }
   ],
   "source": [
    "# resolución espacial\n",
    "csX = np.diff(Xmodis).mean()\n",
    "csY = np.array([Ymodis[i] - Ymodis[i+1] for i in range(len(Ymodis) - 1)]).mean()\n",
    "print('Resolución espacial')\n",
    "print('X: {0:.3f} m\\tY: {1:.3f} m'.format(csX, csY))"
   ]
  },
  {
   "cell_type": "code",
   "execution_count": 179,
   "metadata": {},
   "outputs": [],
   "source": [
    "ncol = len(Xmodis)\n",
    "nrow = len(Ymodis)\n",
    "ntime = len(Tmodis)"
   ]
  },
  {
   "cell_type": "code",
   "execution_count": 180,
   "metadata": {},
   "outputs": [],
   "source": [
    "# definir coordenadas de la malla regular a interpolar\n",
    "cs = 465\n",
    "#Xgrid = np.linspace(Xmodis.min(), Xmodis.min() + (cs * ncol), ncol, endpoint=False)\n",
    "#Ygrid = np.linspace(Ymodis.min(), Ymodis.min() + (cs * nrow), nrow, endpoint=False)\n",
    "Xgrid = np.arange(Xmodis.min(), Xmodis.max() + cs, cs)\n",
    "Ygrid = np.arange(Ymodis.min(), Ymodis.max() + cs, cs)"
   ]
  },
  {
   "cell_type": "code",
   "execution_count": 181,
   "metadata": {},
   "outputs": [],
   "source": [
    "XXmodis, YYmodis = np.meshgrid(Xmodis, Ymodis)\n",
    "XXgrid, YYgrid = np.meshgrid(Xgrid, Ygrid)"
   ]
  },
  {
   "cell_type": "code",
   "execution_count": 183,
   "metadata": {},
   "outputs": [],
   "source": [
    "# interpolar\n",
    "# ..........\n",
    "sc_ = np.zeros((ntime, len(Ygrid), len(Xgrid))) * np.nan\n",
    "for i in range(sc_.shape[0]):\n",
    "    sc_[i,:,:] = interpolarNN(XXmodis, YYmodis, sc[i,:,:], XXgrid, YYgrid)"
   ]
  },
  {
   "cell_type": "code",
   "execution_count": 184,
   "metadata": {},
   "outputs": [],
   "source": [
    "# RECORTE\n",
    "# ......."
   ]
  },
  {
   "cell_type": "code",
   "execution_count": 187,
   "metadata": {},
   "outputs": [],
   "source": [
    "# recortar el raster\n",
    "sc1265, Xsc, Ysc = recortar3D(sc_, Xgrid, Ygrid, cuenca, crs=25830, buffer=None)"
   ]
  },
  {
   "cell_type": "code",
   "execution_count": null,
   "metadata": {},
   "outputs": [],
   "source": []
  },
  {
   "cell_type": "code",
   "execution_count": 145,
   "metadata": {},
   "outputs": [],
   "source": [
    "## máscara de las celdas de la malla regular fuera del ámbito del mapa original\n",
    "#maskGrid = np.zeros((XXgrid.flatten().shape[0]), dtype=bool)\n",
    "#for i, (x, y) in enumerate(zip(XXgrid.flatten(), YYgrid.flatten())):\n",
    "#    d = np.sqrt((x - XXmodis[:,0])**2 + (y - YYmodis[:,1])**2)\n",
    "#    if d.min() > cs:# * np.sqrt(2): \n",
    "#        maskGrid[i] = 1\n",
    "#maskGrid = maskGrid.reshape(XXgrid.shape)"
   ]
  },
  {
   "cell_type": "code",
   "execution_count": 188,
   "metadata": {},
   "outputs": [
    {
     "data": {
      "text/plain": [
       "(92, 46, 47)"
      ]
     },
     "execution_count": 188,
     "metadata": {},
     "output_type": "execute_result"
    }
   ],
   "source": [
    "sc1265.shape"
   ]
  },
  {
   "cell_type": "code",
   "execution_count": 189,
   "metadata": {},
   "outputs": [
    {
     "data": {
      "image/png": "[encoded data removed]",
      "text/plain": [
       "<Figure size 432x288 with 1 Axes>"
      ]
     },
     "metadata": {},
     "output_type": "display_data"
    }
   ],
   "source": [
    "fig, ax = plt.subplots()\n",
    "ax.imshow(sc1265[0,::-1,:], extent=[Xsc.min(), Xsc.max(), Ysc.min(), Ysc.max()])\n",
    "cuenca.boundary.plot(color='k', ax=ax)\n",
    "ax.set_aspect('equal')\n",
    "ax.axis('off');"
   ]
  },
  {
   "cell_type": "code",
   "execution_count": 56,
   "metadata": {},
   "outputs": [],
   "source": [
    "# crear máscara 3D con la forma del array interpolado\n",
    "maskGrid3D = np.broadcast_to(maskGrid == True, sc_.shape)"
   ]
  },
  {
   "cell_type": "code",
   "execution_count": 61,
   "metadata": {},
   "outputs": [],
   "source": [
    "# enmascarar\n",
    "sc_ = ma.array(sc_, mask=maskGrid3D)"
   ]
  },
  {
   "cell_type": "code",
   "execution_count": 164,
   "metadata": {},
   "outputs": [
    {
     "data": {
      "image/png": "[encoded data removed]",
      "text/plain": [
       "<Figure size 720x720 with 1 Axes>"
      ]
     },
     "metadata": {},
     "output_type": "display_data"
    }
   ],
   "source": [
    "i = 10\n",
    "plt.figure(figsize=(10,10))\n",
    "plt.scatter(XXmodis, YYmodis, marker='s', c=sc[i,:,:], s=30, cmap='coolwarm')\n",
    "plt.scatter(XXgrid, YYgrid, c=sc_[i,:,:], marker='+', lw=1, s=18, cmap='coolwarm_r')\n",
    "plt.title(dates[i], fontweight='bold')\n",
    "plt.axis('off');"
   ]
  },
  {
   "cell_type": "code",
   "execution_count": null,
   "metadata": {},
   "outputs": [],
   "source": [
    "cs"
   ]
  },
  {
   "cell_type": "code",
   "execution_count": null,
   "metadata": {},
   "outputs": [],
   "source": [
    "atributos = [ncol, nrow, Xgrid.min() - cs / 2, Ygrid.min() - cs / 2, cs, -9999]\n",
    "atributos"
   ]
  },
  {
   "cell_type": "code",
   "execution_count": null,
   "metadata": {},
   "outputs": [],
   "source": [
    "write_ascii(rutaData + 'Ejemplo_SC.asc', sc_[10,::-1,:], atributos, epsg='25830')"
   ]
  },
  {
   "cell_type": "markdown",
   "metadata": {},
   "source": [
    "## 2. Método de grado-día"
   ]
  },
  {
   "cell_type": "code",
   "execution_count": null,
   "metadata": {},
   "outputs": [],
   "source": [
    "def degreeDayMethod(pcp, tmp, dates, rad=None, Ts=0., Tb=0., DDF1=2., DDF2=4., verbose=True):\n",
    "    \"\"\"Calcula la acumulación de nieve y su fusión por el método del índice grado-día.\n",
    "    \n",
    "    Entradas:\n",
    "    ---------\n",
    "    pcp:     array (t,x,y). Serie temporal de mapas de precipitación (mm)\n",
    "    tmp:     array (t,x,y). Serie temporal de mapas de temperatura (media o mínima) (°C)\n",
    "    dates:   array (t,). Fechas de los mapas\n",
    "    rad:     array (12,x,y). Serie mensual de mapas de radiación difusa normalizados. Si es None, no se utiliza la radiación para modificar los índices grado-día\n",
    "    Ts:      float. Umbral de temperatura por debajo del cual se asume que la precipitación es en forma de nieve\n",
    "    Tb:      float. Umbral de temperatura por encima del cual se produce derretimiento\n",
    "    DDF1:    float. Índice grado-día (mm/°C) para tiempo seco\n",
    "    DDF2:    float. Índice grado-día (mm/°C) para tiempo lluvioso\n",
    "    verbose: boolean. Mostrar por pantalla el proceso\n",
    "    \n",
    "    Salidas:\n",
    "    --------\n",
    "    swe:     array (t,x,y). Serie temporal de mapas de equivalente agua-nieve (mm)\n",
    "    sm:      array (t,x,y). Serie temporal de mapas de fusión de nieve (mm)\n",
    "    \"\"\"\n",
    "    \n",
    "    # array 3D en blanco\n",
    "    arr3D = ma.masked_array(np.zeros(pcp.shape), pcp.mask)\n",
    "    # array 2D en blanco\n",
    "    arr2D = ma.masked_array(np.zeros(pcp[0,:,:].shape), pcp[0,:,:].mask)\n",
    "    \n",
    "    # arrays donde guardar los resultados\n",
    "    swe = arr3D.copy()  # equivalente agua-nieve (snow-water equivalent)\n",
    "    sm = arr3D.copy()   # fusión de la nieve (snowmelt)\n",
    "    \n",
    "    for i, date in enumerate(dates):\n",
    "        if verbose:\n",
    "            print('Paso {0:<3} de {1:<3}:\\t{2}'.format(i+1, len(dates), date), end='\\r')\n",
    "            \n",
    "        # extraer mes\n",
    "        month = date.month\n",
    "\n",
    "        # extraer mapas con los datos\n",
    "        pcp_i = pcp[i,:,:]   # precipitación\n",
    "        tmp_i = tmp[i,:,:]   # temperatura\n",
    "        swe_0 = swe[i-1,:,:]  # equivalente agua-nieve inicial\n",
    "\n",
    "        # precipitación en forma de nieve\n",
    "        snowfall = arr2D.copy()\n",
    "        maskT = tmp_i < Ts\n",
    "        snowfall[maskT] = pcp_i[maskT]\n",
    "\n",
    "        # fusión de la nieve potencial (snowmeltP)\n",
    "        snowmeltP = arr2D.copy()\n",
    "        # en celdas sin lluvia\n",
    "        dry = pcp_i <= 0\n",
    "        if rad is None:\n",
    "            snowmeltP[dry] = DDF1 * (tmp_i[dry] - Tb)\n",
    "        else:\n",
    "            snowmeltP[dry] = DDF1 * rad[month-1,:,:][dry] * (tmp_i[dry] - Tb)\n",
    "        # en celdas con lluvia\n",
    "        rain = pcp_i > 0\n",
    "        if rad is None:\n",
    "            snowmeltP[rain] = DDF2 * (tmp_i[rain] - Tb)\n",
    "        else:\n",
    "            snowmeltP[rain] = DDF2 * rad[month-1,:,:][rain] * (tmp_i[rain] - Tb)\n",
    "        # convertir en 0 valores negativos (cuando la temperatura es inferior a Tb)\n",
    "        snowmeltP[snowmeltP < 0] = 0\n",
    "\n",
    "        # equivalente de agua-nieve disponible\n",
    "        swe_i = swe_0 + snowfall\n",
    "\n",
    "        # fusión de la nieve real (snowmelt_)\n",
    "        snowmeltR = np.minimum(swe_i, snowmeltP)\n",
    "        sm[i,:,:] = snowmeltR.copy()\n",
    "\n",
    "        # equivalente agua-nieve final\n",
    "        swe_i -= snowmeltR\n",
    "        swe[i,:,:] = swe_i.copy()\n",
    "        \n",
    "    return swe, sm"
   ]
  },
  {
   "cell_type": "markdown",
   "metadata": {},
   "source": [
    "## 3. Cálculo \n",
    "\n",
    "#### Recortar periodo de estudio"
   ]
  },
  {
   "cell_type": "code",
   "execution_count": null,
   "metadata": {},
   "outputs": [],
   "source": [
    "# fechas de inicio y fin\n",
    "start = datetime(2013, 10, 1).date()\n",
    "end = datetime(2015, 10, 1).date()\n",
    "\n",
    "# posición dentro de la serie temporal\n",
    "st = np.where(dates == start)[0][0]\n",
    "en = np.where(dates == end)[0][0]\n",
    "\n",
    "# recortar\n",
    "dates_ = dates[st:en]\n",
    "pcp_ = pcp[st:en,:,:]\n",
    "tmp_ = tmp[st:en,:,:]"
   ]
  },
  {
   "cell_type": "markdown",
   "metadata": {},
   "source": [
    "### Cálculo sin radiación"
   ]
  },
  {
   "cell_type": "code",
   "execution_count": null,
   "metadata": {},
   "outputs": [],
   "source": [
    "# calcular modelo de nieve\n",
    "swe, sm = degreeDayMethod(pcp_, tmp_, dates_, rad=None, Ts=0., Tb=0., DDF1=2., DDF2=4., verbose=True)"
   ]
  },
  {
   "cell_type": "markdown",
   "metadata": {},
   "source": [
    "### Cálculo con radiación"
   ]
  },
  {
   "cell_type": "code",
   "execution_count": null,
   "metadata": {},
   "outputs": [],
   "source": [
    "# calcular modelo de nieve\n",
    "swe2, sm2 = degreeDayMethod(pcp_, tmp_, dates_, rad=rad, Ts=0., Tb=0., DDF1=2., DDF2=4., verbose=True)"
   ]
  },
  {
   "cell_type": "markdown",
   "metadata": {},
   "source": [
    "### Comparativa"
   ]
  },
  {
   "cell_type": "code",
   "execution_count": null,
   "metadata": {},
   "outputs": [],
   "source": [
    "serie1 = pd.Series(swe.mean(axis=(1,2)), index=dates_)\n",
    "serie2 = pd.Series(swe2.mean(axis=(1,2)), index=dates_)\n",
    "\n",
    "plt.figure(figsize=(16, 4))\n",
    "plt.ylabel('SWE (mm)')\n",
    "plt.plot(serie1, label='sin rad')\n",
    "plt.plot(serie2, label='con rad')\n",
    "plt.legend();"
   ]
  },
  {
   "cell_type": "code",
   "execution_count": null,
   "metadata": {},
   "outputs": [],
   "source": [
    "serie1 = pd.Series(sm.mean(axis=(1,2)), index=dates_)\n",
    "serie2 = pd.Series(sm2.mean(axis=(1,2)), index=dates_)\n",
    "\n",
    "plt.figure(figsize=(16, 4))\n",
    "plt.ylabel('SM (mm)')\n",
    "plt.plot(serie1, label='sin rad');\n",
    "plt.plot(serie2, label='con rad');\n",
    "plt.legend();"
   ]
  },
  {
   "cell_type": "markdown",
   "metadata": {},
   "source": [
    "```Python\n",
    "fig, ax = plt.subplots(nrows=2, ncols=4, figsize=(20, 10))\n",
    "extent = [X.min(), X.max(), Y.min(), Y.max()]\n",
    "\n",
    "# mapa de precipitación media\n",
    "im = ax[0,0].imshow(pcp_i, extent=extent)\n",
    "cb = plt.colorbar(im, shrink=.6, ax=ax[0,0])\n",
    "cb.set_label('mm')\n",
    "ax[0,0].set_title('Precipitación {0}'.format(date))\n",
    "ax[0,0].axis('off');\n",
    "\n",
    "# mapa de temperatura media\n",
    "im = ax[0,1].imshow(tmp_i, extent=extent)\n",
    "cb = plt.colorbar(im, shrink=.6, ax=ax[0,1])\n",
    "cb.set_label('C')\n",
    "ax[0,1].set_title('Temperatura {0}'.format(date))\n",
    "ax[0,1].axis('off');\n",
    "\n",
    "# equivalente agua-nieve inicial\n",
    "im = ax[0,2].imshow(swe_0, extent=extent)\n",
    "cb = plt.colorbar(im, shrink=.6, ax=ax[0,2])\n",
    "cb.set_label('mm')\n",
    "ax[0,2].set_title('equivalente agua-nieve {0}'.format(dates_[i-1]))\n",
    "ax[0,2].axis('off');\n",
    "\n",
    "ax[0,3].axis('off')\n",
    "\n",
    "# precipitación en forma de nieve\n",
    "im = ax[1,0].imshow(snowfall)\n",
    "cb = plt.colorbar(im, shrink=.6, ax=ax[1,0])\n",
    "cb.set_label('mm')\n",
    "ax[1,0].set_title('snowfall')\n",
    "ax[1,0].axis('off');\n",
    "\n",
    "# fusión potencial\n",
    "im = ax[1,1].imshow(snowmelt)\n",
    "cb = plt.colorbar(im, shrink=.6, ax=ax[1,1])\n",
    "cb.set_label('mm')\n",
    "ax[1,1].set_title('snowmelt (P)')\n",
    "ax[1,1].axis('off');\n",
    "\n",
    "# fusión real\n",
    "im = ax[1,2].imshow(snowmelt_)\n",
    "cb = plt.colorbar(im, shrink=.6, ax=ax[1,2])\n",
    "cb.set_label('mm')\n",
    "ax[1,2].set_title('snowmelt (R)')\n",
    "ax[1,2].axis('off');\n",
    "\n",
    "# equivalente agua-nieve\n",
    "im = ax[1,3].imshow(swe_i)\n",
    "cb = plt.colorbar(im, shrink=.6, ax=ax[1,3])\n",
    "cb.set_label('mm')\n",
    "ax[1,3].set_title('swe')\n",
    "ax[1,3].axis('off');\n",
    "```"
   ]
  }
 ],
 "metadata": {
  "kernelspec": {
   "display_name": "Python 3",
   "language": "python",
   "name": "python3"
  },
  "language_info": {
   "codemirror_mode": {
    "name": "ipython",
    "version": 3
   },
   "file_extension": ".py",
   "mimetype": "text/x-python",
   "name": "python",
   "nbconvert_exporter": "python",
   "pygments_lexer": "ipython3",
   "version": "3.9.0"
  }
 },
 "nbformat": 4,
 "nbformat_minor": 4
}
