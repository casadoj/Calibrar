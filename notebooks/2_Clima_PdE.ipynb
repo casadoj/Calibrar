{
 "cells": [
  {
   "cell_type": "markdown",
   "metadata": {},
   "source": [
    "_Autor:_    __Jesús Casado__ <br> _Revisión:_ __4/12/2019__ <br>\n",
    "\n",
    "__Introducción__<br>\n",
    "\n",
    "\n",
    "__Cosas que arreglar__ <br>\n",
    "* El mapa climático no cubre por completo el polígono de la cuenca.\n",
    "* Rehacer mapas climáticos sobre la malla de MODIS.\n",
    "\n",
    "***\n",
    "\n",
    "__Índice__ <br>"
   ]
  },
  {
   "cell_type": "code",
   "execution_count": 1,
   "metadata": {},
   "outputs": [],
   "source": [
    "import os\n",
    "import numpy as np\n",
    "import pandas as pd\n",
    "import numpy.ma as ma\n",
    "import geopandas as gpd\n",
    "import matplotlib.pyplot as plt\n",
    "import seaborn as sns\n",
    "from netCDF4 import Dataset\n",
    "from datetime import date, datetime, timedelta\n",
    "from shapely.geometry.polygon import Polygon\n",
    "from matplotlib import path\n",
    "from sklearn.neighbors import KNeighborsRegressor, KNeighborsClassifier\n",
    "from pyproj import Proj, Transformer, CRS"
   ]
  },
  {
   "cell_type": "code",
   "execution_count": 2,
   "metadata": {},
   "outputs": [],
   "source": [
    "rutaBase = os.getcwd().replace('\\\\', '/') + '/'"
   ]
  },
  {
   "cell_type": "code",
   "execution_count": 5,
   "metadata": {},
   "outputs": [],
   "source": [
    "%run funciones_raster.ipynb"
   ]
  },
  {
   "cell_type": "markdown",
   "metadata": {},
   "source": [
    "## 1 Cartografía"
   ]
  },
  {
   "cell_type": "code",
   "execution_count": 9,
   "metadata": {},
   "outputs": [],
   "source": [
    "# ruta cartografía\n",
    "rutaGIS = os.path.join(rutaBase, '../data/GIS/')#'C:/Users/jcr693/OneDrive - UNICAN - Estudiantes/Proyectos/IAHR2020/GIS/'\n",
    "\n",
    "# importar polígonos de las cuencas\n",
    "cuenca = gpd.read_file(rutaGIS + \"mask_465_deva.shp\")\n",
    "\n",
    "# importar mdt de la cuenca\n",
    "DEM = read_ascii(rutaGIS + 'dem_465_deva.asc', crs=25830)\n",
    "DEM.variable = 'elevación'\n",
    "DEM.units = 'm.s.n.m'"
   ]
  },
  {
   "cell_type": "code",
   "execution_count": 10,
   "metadata": {},
   "outputs": [
    {
     "data": {
      "image/png": "[encoded data removed]",
      "text/plain": [
       "<Figure size 432x432 with 1 Axes>"
      ]
     },
     "metadata": {
      "needs_background": "light"
     },
     "output_type": "display_data"
    }
   ],
   "source": [
    "fig, ax = plt.subplots(figsize=(6, 6))\n",
    "\n",
    "cuenca.boundary.plot(ax=ax, edgecolor='k')\n",
    "ax.imshow(DEM.data, cmap='pink', extent=DEM.extent)\n",
    "\n",
    "ax.set_title('DEM cuenca del DEVA-1265', fontsize=13, fontweight='bold')\n",
    "ax.set_aspect('equal')\n",
    "ax.axis('off');"
   ]
  },
  {
   "cell_type": "markdown",
   "metadata": {},
   "source": [
    "## 2 Clima: precipitación y temperatura"
   ]
  },
  {
   "cell_type": "markdown",
   "metadata": {},
   "source": [
    "### 2.1 Cargar datos"
   ]
  },
  {
   "cell_type": "code",
   "execution_count": null,
   "metadata": {},
   "outputs": [],
   "source": [
    "# Cargar netCDF con los datos climáticos\n",
    "rutaData = 'C:/Users/jcr693/OneDrive - UNICAN - Estudiantes/Proyectos/IAHR2020/data/'\n",
    "nc = Dataset(rutaData + 'clima_PdE.nc', 'r', format='NETCDF4')\n",
    "\n",
    "# extraer variables\n",
    "X = nc['X'][:].data\n",
    "Y = nc['Y'][:].data\n",
    "dates = nc['time'][:].data\n",
    "dates = [datetime(1979, 1, 1).date()  + timedelta(days=int(d)) for d in dates]\n",
    "pcp = nc['pcp'][::]\n",
    "pcp[pcp.mask] = np.nan\n",
    "pcp = pcp.data\n",
    "tmp = nc['tmp'][::]\n",
    "tmp[tmp.mask] = np.nan\n",
    "tmp = tmp.data\n",
    "\n",
    "nc.close()"
   ]
  },
  {
   "cell_type": "markdown",
   "metadata": {},
   "source": [
    "### 2.1 Tratar datos"
   ]
  },
  {
   "cell_type": "code",
   "execution_count": null,
   "metadata": {},
   "outputs": [],
   "source": [
    "# crear objeto PCP, reproyectar y recortar\n",
    "PCP = raster3D(pcp, X, Y, dates, variable='precipitación', units='mm', label='P',\n",
    "            crs=CRS.from_epsg(25830))\n",
    "PCP.reproyectar(DEM.crs, DEM.cellsize, n_neighbors=4, weights='distance', p=2,\n",
    "                       snap=DEM, inplace=True)\n",
    "PCP.recortar(cuenca, buffer=10, inplace=True)"
   ]
  },
  {
   "cell_type": "code",
   "execution_count": null,
   "metadata": {},
   "outputs": [],
   "source": [
    "# crear objeto TMP, reproyectar y recortar\n",
    "TMP = raster3D(tmp, X, Y, dates, variable='temperatura', units='°C', label='T',\n",
    "            crs=CRS.from_epsg(25830))\n",
    "TMP.reproyectar(DEM.crs, DEM.cellsize, n_neighbors=4, weights='distance', p=2,\n",
    "                       snap=DEM, inplace=True)\n",
    "TMP.recortar(cuenca, buffer=10, inplace=True)"
   ]
  },
  {
   "cell_type": "code",
   "execution_count": null,
   "metadata": {},
   "outputs": [],
   "source": [
    "fig, axes = plt.subplots(ncols=2, figsize=(10, 5))\n",
    "t = -1000\n",
    "\n",
    "for i, (Var, ax) in enumerate(zip([PCP, TMP], axes)):\n",
    "    ax.imshow(Var.data[t,:,:], cmap='viridis', extent=np.array(Var.extent()))\n",
    "    cuenca.boundary.plot(ax=ax, edgecolor='k')\n",
    "    ax.set_title('{0} ({1}) {2}'.format(Var.variable, Var.units,\n",
    "                                         Var.times[t].strftime('%d-%m-%Y')),\n",
    "                 fontsize=13)\n",
    "    #ax.set_aspect('equal')\n",
    "    ax.axis('off');"
   ]
  },
  {
   "cell_type": "markdown",
   "metadata": {},
   "source": [
    "### 2.3 Exportar datos tratados"
   ]
  },
  {
   "cell_type": "code",
   "execution_count": null,
   "metadata": {},
   "outputs": [],
   "source": [
    "# declara el netCDF\n",
    "rutaExport = os.path.join(rutaBase, '../data/clima/')\n",
    "if os.path.exists(rutaExport) is False:\n",
    "    os.makedirs(rutaExport)\n",
    "nc = Dataset(rutaExport + 'clima_1265.nc', 'w', format='NETCDF4')\n",
    "\n",
    "# definir dimensiones\n",
    "time = nc.createDimension('time', len(PCP.times))\n",
    "x = nc.createDimension('x', len(PCP.X))\n",
    "y = nc.createDimension('y', len(PCP.Y))\n",
    "\n",
    "# definir variables\n",
    "times = nc.createVariable('time', 'i2', ('time',))\n",
    "times.units = 'days since {0}'.format(PCP.times[0])\n",
    "#times.calendar = \"gregorian\"\n",
    "xs = nc.createVariable('X', 'i4', ('x',))\n",
    "xs.units = 'm'\n",
    "ys = nc.createVariable('Y', 'i4', ('y',))\n",
    "ys.units = 'm'\n",
    "P = nc.createVariable('pcp', 'f4', ('time', 'y', 'x'))\n",
    "P.units = 'mm'\n",
    "T = nc.createVariable('tmp', 'f4', ('time', 'y', 'x'))\n",
    "T.units = '°C'\n",
    "\n",
    "# atributos\n",
    "nc.description = 'Caracterización climática de la cuenca alta del río Deva'\n",
    "nc.history = 'Created on {0}'.format(date.today())\n",
    "np.source = 'Jesús Casado Rodríguez'\n",
    "\n",
    "# asignar valores a las variables\n",
    "xs[:] = PCP.X\n",
    "ys[:] = PCP.Y\n",
    "times[:] = range(len(PCP.times))\n",
    "P[:,:,:] = PCP.data\n",
    "T[:,:,:] = TMP.data\n",
    "\n",
    "nc.close()"
   ]
  }
 ],
 "metadata": {
  "kernelspec": {
   "display_name": "Python 3",
   "language": "python",
   "name": "python3"
  },
  "language_info": {
   "codemirror_mode": {
    "name": "ipython",
    "version": 3
   },
   "file_extension": ".py",
   "mimetype": "text/x-python",
   "name": "python",
   "nbconvert_exporter": "python",
   "pygments_lexer": "ipython3",
   "version": "3.9.0"
  }
 },
 "nbformat": 4,
 "nbformat_minor": 4
}
