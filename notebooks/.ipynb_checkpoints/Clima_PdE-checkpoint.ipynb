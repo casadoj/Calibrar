{
 "cells": [
  {
   "cell_type": "markdown",
   "metadata": {},
   "source": [
    "_Autor:_    __Jesús Casado__ <br> _Revisión:_ __8/11/2019__ <br>\n",
    "\n",
    "__Introducción__<br>\n",
    "\n",
    "\n",
    "__Cosas que arreglar__ <br>\n",
    "\n",
    "***\n",
    "\n",
    "__Índice__ <br>"
   ]
  },
  {
   "cell_type": "code",
   "execution_count": 2,
   "metadata": {},
   "outputs": [],
   "source": [
    "import os\n",
    "rutaBase = os.getcwd().replace('\\\\', '/') + '/'"
   ]
  },
  {
   "cell_type": "code",
   "execution_count": 3,
   "metadata": {},
   "outputs": [],
   "source": [
    "import numpy.ma as ma"
   ]
  },
  {
   "cell_type": "code",
   "execution_count": 4,
   "metadata": {},
   "outputs": [],
   "source": [
    "import matplotlib.pyplot as plt\n",
    "import seaborn as sns"
   ]
  },
  {
   "cell_type": "code",
   "execution_count": 5,
   "metadata": {},
   "outputs": [],
   "source": [
    "from netCDF4 import Dataset\n",
    "from datetime import date, datetime, timedelta"
   ]
  },
  {
   "cell_type": "code",
   "execution_count": 13,
   "metadata": {},
   "outputs": [],
   "source": [
    "import shapefile as shp\n",
    "from shapely.geometry.polygon import Polygon\n",
    "from matplotlib import path"
   ]
  },
  {
   "cell_type": "code",
   "execution_count": 6,
   "metadata": {},
   "outputs": [],
   "source": [
    "os.chdir('../../Series/notebooks/Spain02/')\n",
    "%run funciones_Spain02.ipynb\n",
    "os.chdir(rutaBase)"
   ]
  },
  {
   "cell_type": "markdown",
   "metadata": {},
   "source": [
    "## Datos"
   ]
  },
  {
   "cell_type": "markdown",
   "metadata": {},
   "source": [
    "### METEO"
   ]
  },
  {
   "cell_type": "markdown",
   "metadata": {},
   "source": [
    "```Python\n",
    "# datos de METEO\n",
    "rutaMETEO = 'C:/Users/jcr693/OneDrive - UNICAN - Estudiantes/Series/METEO/Spain02_v5.0_010reg_aa3d/'\n",
    "extract_Spain02('pr', rutaMETEO, lonlim=(-4.9, -4.55), latlim=(43.0, 43.25), datelim=('2010-10-01', '2011-09-30'), plot=False)\n",
    "extract_Spain02.data.shape\n",
    "```"
   ]
  },
  {
   "cell_type": "markdown",
   "metadata": {},
   "source": [
    "### IVERCAM"
   ]
  },
  {
   "cell_type": "markdown",
   "metadata": {},
   "source": [
    "```Python\n",
    "rutaData = 'C:/Users/jcr693/OneDrive - UNICAN - Estudiantes/Proyectos/IAHR2020/data/'\n",
    "os.chdir(rutaData)\n",
    "\n",
    "def seriesIVERCAM(file):\n",
    "    \"\"\"Importa los archivos csv con la serie temporal de mapas climáticos generados en IVERCAM.\n",
    "    \n",
    "    Entradas:\n",
    "    ---------\n",
    "    file:    string. Nombre del archivo\n",
    "    \n",
    "    Salidas:\n",
    "    --------\n",
    "    arr:    array (dates,X,Y). Matriz con los datos\n",
    "    X:      array. Coordenadas X del mapa\n",
    "    Y:      array. Coordenadas Y del mapa\n",
    "    dates:  array. Fechas de cada mapa\n",
    "    \"\"\"\n",
    "    \n",
    "    # importar csv\n",
    "    data = pd.read_csv(file)\n",
    "\n",
    "    # coordenadas X e Y\n",
    "    XX = data.X\n",
    "    X = np.sort(np.unique(XX))\n",
    "    YY = data.Y\n",
    "    Y = np.sort(np.unique(YY))[::-1]\n",
    "    nrow, ncol = len(Y), len(X)\n",
    "    \n",
    "    # fechas\n",
    "    data_ = data.drop(['X', 'Y'], axis=1)\n",
    "    dates = list(data_.columns)\n",
    "    ntime = len(dates)\n",
    "    \n",
    "    # array 3D\n",
    "    arr = np.empty((ntime, nrow, ncol))\n",
    "    arr[:,:,:] = np.nan\n",
    "    for n in range(data_.shape[0]):\n",
    "        i = np.where(Y == YY[n])[0][0]\n",
    "        j = np.where(X == XX[n])[0][0]\n",
    "        arr[:,i,j] = data_.iloc[n,:]\n",
    "\n",
    "    arr = ma.masked_where(np.isnan(arr), arr)\n",
    "    \n",
    "    return arr, X, Y, dates\n",
    "\n",
    "# precipitación\n",
    "pcp, Xp, Yp, Tp = seriesIVERCAM('pcp_pred_1000.csv')\n",
    "\n",
    "plt.figure()\n",
    "im = plt.imshow(pcp.mean(axis=0))\n",
    "cb = plt.colorbar(im, shrink=.75)\n",
    "plt.axis('off');\n",
    "\n",
    "# temperatura\n",
    "tmp, Xt, Yt, Tt = seriesIVERCAM('Tmed_pred_1000_IDWz.csv')\n",
    "\n",
    "plt.figure()\n",
    "im = plt.imshow(tmp.mean(axis=0))\n",
    "cb = plt.colorbar(im, shrink=.75)\n",
    "plt.axis('off');\n",
    "```"
   ]
  },
  {
   "cell_type": "markdown",
   "metadata": {},
   "source": [
    "#### NetCDF\n",
    "Guardo los mapas climáticos como un netCDF."
   ]
  },
  {
   "cell_type": "markdown",
   "metadata": {},
   "source": [
    "```Python\n",
    "# declara el netCDF\n",
    "nc = Dataset('clima_PdE.nc', 'w', format='NETCDF4')\n",
    "\n",
    "# definir dimensiones\n",
    "time = nc.createDimension('time', len(Tp))\n",
    "x = nc.createDimension('x', len(Xp))\n",
    "y = nc.createDimension('y', len(Yp))\n",
    "\n",
    "# definir variables\n",
    "times = nc.createVariable('time', 'i2', ('time',))\n",
    "times.units = 'days since {0}'.format(Tp[0])\n",
    "#times.calendar = \"gregorian\"\n",
    "xs = nc.createVariable('X', 'i4', ('x',))\n",
    "xs.units = 'm'\n",
    "ys = nc.createVariable('Y', 'i4', ('y',))\n",
    "ys.units = 'm'\n",
    "P = nc.createVariable('pcp', 'f4', ('time', 'y', 'x'))\n",
    "P.units = 'mm'\n",
    "T = nc.createVariable('tmp', 'f4', ('time', 'y', 'x'))\n",
    "T.units = '°C'\n",
    "\n",
    "# atributos\n",
    "nc.description = 'Caracterización climática de Picos de Europa'\n",
    "nc.history = 'Created on {0}'.format(date.today())\n",
    "np.source = 'Jesús Casado Rodríguez'\n",
    "\n",
    "# asignar valores a las variables\n",
    "xs[:] = Xp\n",
    "ys[:] = Yp\n",
    "times[:] = range(len(Tp))\n",
    "P[:,:,:] = pcp\n",
    "T[:,:,:] = tmp\n",
    "\n",
    "nc.close()\n",
    "```"
   ]
  },
  {
   "cell_type": "code",
   "execution_count": 10,
   "metadata": {},
   "outputs": [],
   "source": [
    "# Cargar netCDF con los datos climáticos\n",
    "nc = Dataset('clima_PdE.nc', 'r', format='NETCDF4')\n",
    "\n",
    "# extraer variables\n",
    "X = nc['X'][:].data\n",
    "Y = nc['Y'][:].data\n",
    "dates = nc['time'][:].data\n",
    "dates = [date(1979, 1, 1) + timedelta(days=int(dates[0])) for d in dates]\n",
    "pcp = nc['pcp'][::]\n",
    "tmp = nc['tmp'][::]\n",
    "\n",
    "nc.close()"
   ]
  },
  {
   "cell_type": "markdown",
   "metadata": {},
   "source": [
    "### Recortar mapas"
   ]
  },
  {
   "cell_type": "code",
   "execution_count": 14,
   "metadata": {},
   "outputs": [],
   "source": [
    "# ruta cartografía\n",
    "rutaGIS = 'C:/Users/jcr693/OneDrive - UNICAN - Estudiantes/Proyectos/IAHR2020/GIS/'\n",
    "\n",
    "# importar polígonos de las cuencas\n",
    "cuenca = shp.Reader(rutaGIS + \"mask_1265.shp\")"
   ]
  },
  {
   "cell_type": "code",
   "execution_count": 34,
   "metadata": {},
   "outputs": [],
   "source": [
    "def recortar3D(data, X, Y, mask, buffer=None):\n",
    "    \"\"\"Recorta los datos 3D según una máscara 2D.\n",
    "    \n",
    "    Entradas:\n",
    "    ---------\n",
    "    data:    array (T,Y,X). Serie temporal de mapas\n",
    "    X:       array. Coordenadas X de las columnas del mapa\n",
    "    Y:       array. Coordenadas Y de las filas del mapa\n",
    "    buffer:  boolean. Ditancia a la que hacer el buffer. Por defecto es None y no se hace\n",
    "    \n",
    "    Salidas:\n",
    "    --------\n",
    "    data_:   array (T,Y_,X_). Serie temporal de mapas recortados\n",
    "    X_:      array. Coordenadas X de las columnas del mapa 'data_'\n",
    "    Y_:      array. Coordenadas Y de las filas del mapa 'data_' \n",
    "    \"\"\"\n",
    "    \n",
    "    # extraer forma de la máscara\n",
    "    shape = cuenca.shapeRecords()[0]\n",
    "    \n",
    "    # coordenadas x e y de cada vértice del polígono\n",
    "    x = [i[0] for i in shape.shape.points[:]]\n",
    "    y = [i[1] for i in shape.shape.points[:]]\n",
    "    xy = [(x_, y_) for x_, y_ in zip(x, y)]\n",
    "\n",
    "    \n",
    "    # crear buffer de la cuenca\n",
    "    if buffer is not None:\n",
    "        # crear polígono de la cuenca\n",
    "        poly_cuenca = Polygon(xy)\n",
    "        # hacer buffer\n",
    "        buff_cuenca = poly_cuenca.buffer(buffer)\n",
    "        # extraer coordenadas de los vértices\n",
    "        X, Y = buff_cuenca.exterior.coords.xy\n",
    "        XY = [(x, y) for x, y in zip(X, Y)]\n",
    "        \n",
    "    # crear 'path' de la cuenca\n",
    "    path_cuenca = path.Path(xy)\n",
    "    \n",
    "    # puntos de cada celda del mapa\n",
    "    XX, YY = np.meshgrid(X, Y)\n",
    "    points = np.array((XX.flatten(), YY.flatten())).T\n",
    "\n",
    "    # máscara 2D con las celdas dentro de la máscara\n",
    "    mask2D = path_cuenca.contains_points(points).reshape(XX.shape)\n",
    "\n",
    "    # máscara 3D a partir de la anterior\n",
    "    mask3D = np.zeros(data.shape, dtype=bool)\n",
    "    mask3D[:,:,:] = mask2D[np.newaxis,:,:]\n",
    "\n",
    "    # recortar 'data' a la cuenca\n",
    "    data_ = data.copy()\n",
    "    data_[~mask3D] = np.nan\n",
    "\n",
    "    # eliminar filas y columnas sin datos\n",
    "    maskR = np.isnan(data_.sum(axis=0)).all(axis=1)\n",
    "    maskC = np.isnan(data_.sum(axis=0)).all(axis=0)\n",
    "    data_ = data_[:,~maskR,:][:,:,~maskC]\n",
    "    data_ = np.ma.masked_invalid(data_)\n",
    "    Y_ = Y[~maskR]\n",
    "    X_ = X[~maskC]\n",
    "    \n",
    "    return data_, X_, Y_"
   ]
  },
  {
   "cell_type": "code",
   "execution_count": 27,
   "metadata": {},
   "outputs": [],
   "source": [
    "# recortar mapa de precipitación\n",
    "pcp1265, X1265, Y1265 = recortar3D(pcp, X, Y, cuenca)"
   ]
  },
  {
   "cell_type": "code",
   "execution_count": 32,
   "metadata": {},
   "outputs": [],
   "source": [
    "# recortar mapa de precipitación\n",
    "tmp1265, X1265, Y1265 = recortar3D(tmp, X, Y, cuenca)"
   ]
  },
  {
   "cell_type": "code",
   "execution_count": 46,
   "metadata": {},
   "outputs": [
    {
     "data": {
      "image/png": "[encoded data removed]",
      "text/plain": [
       "<Figure size 720x360 with 4 Axes>"
      ]
     },
     "metadata": {
      "needs_background": "light"
     },
     "output_type": "display_data"
    }
   ],
   "source": [
    "fig, ax = plt.subplots(ncols=2, figsize=(10, 5))\n",
    "\n",
    "im = ax[0].imshow(pcp1265.mean(axis=0))\n",
    "cb = plt.colorbar(im, shrink=.6, ax=ax[0])\n",
    "cb.set_label('mm')\n",
    "ax[0].set_title('Precipitación media')\n",
    "ax[0].axis('off');\n",
    "\n",
    "im = ax[1].imshow(tmp1265.mean(axis=0))\n",
    "cb = plt.colorbar(im, shrink=.6, ax=ax[1])\n",
    "cb.set_label('C')\n",
    "ax[1].set_title('Temperatura media')\n",
    "ax[1].axis('off');"
   ]
  },
  {
   "cell_type": "code",
   "execution_count": 47,
   "metadata": {},
   "outputs": [
    {
     "ename": "TypeError",
     "evalue": "object of type 'method' has no len()",
     "output_type": "error",
     "traceback": [
      "\u001b[1;31m---------------------------------------------------------------------------\u001b[0m",
      "\u001b[1;31mAttributeError\u001b[0m                            Traceback (most recent call last)",
      "\u001b[1;32mC:\\ProgramFiles\\acaconda3\\lib\\site-packages\\matplotlib\\cbook\\__init__.py\u001b[0m in \u001b[0;36mindex_of\u001b[1;34m(y)\u001b[0m\n\u001b[0;32m   1673\u001b[0m     \u001b[1;32mtry\u001b[0m\u001b[1;33m:\u001b[0m\u001b[1;33m\u001b[0m\u001b[1;33m\u001b[0m\u001b[0m\n\u001b[1;32m-> 1674\u001b[1;33m         \u001b[1;32mreturn\u001b[0m \u001b[0my\u001b[0m\u001b[1;33m.\u001b[0m\u001b[0mindex\u001b[0m\u001b[1;33m.\u001b[0m\u001b[0mvalues\u001b[0m\u001b[1;33m,\u001b[0m \u001b[0my\u001b[0m\u001b[1;33m.\u001b[0m\u001b[0mvalues\u001b[0m\u001b[1;33m\u001b[0m\u001b[1;33m\u001b[0m\u001b[0m\n\u001b[0m\u001b[0;32m   1675\u001b[0m     \u001b[1;32mexcept\u001b[0m \u001b[0mAttributeError\u001b[0m\u001b[1;33m:\u001b[0m\u001b[1;33m\u001b[0m\u001b[1;33m\u001b[0m\u001b[0m\n",
      "\u001b[1;31mAttributeError\u001b[0m: 'Reader' object has no attribute 'index'",
      "\nDuring handling of the above exception, another exception occurred:\n",
      "\u001b[1;31mTypeError\u001b[0m                                 Traceback (most recent call last)",
      "\u001b[1;32m<ipython-input-47-148b965d2580>\u001b[0m in \u001b[0;36m<module>\u001b[1;34m\u001b[0m\n\u001b[1;32m----> 1\u001b[1;33m \u001b[0mplt\u001b[0m\u001b[1;33m.\u001b[0m\u001b[0mplot\u001b[0m\u001b[1;33m(\u001b[0m\u001b[0mcuenca\u001b[0m\u001b[1;33m)\u001b[0m\u001b[1;33m\u001b[0m\u001b[1;33m\u001b[0m\u001b[0m\n\u001b[0m",
      "\u001b[1;32mC:\\ProgramFiles\\acaconda3\\lib\\site-packages\\matplotlib\\pyplot.py\u001b[0m in \u001b[0;36mplot\u001b[1;34m(scalex, scaley, data, *args, **kwargs)\u001b[0m\n\u001b[0;32m   2794\u001b[0m     return gca().plot(\n\u001b[0;32m   2795\u001b[0m         *args, scalex=scalex, scaley=scaley, **({\"data\": data} if data\n\u001b[1;32m-> 2796\u001b[1;33m         is not None else {}), **kwargs)\n\u001b[0m\u001b[0;32m   2797\u001b[0m \u001b[1;33m\u001b[0m\u001b[0m\n\u001b[0;32m   2798\u001b[0m \u001b[1;33m\u001b[0m\u001b[0m\n",
      "\u001b[1;32mC:\\ProgramFiles\\acaconda3\\lib\\site-packages\\matplotlib\\axes\\_axes.py\u001b[0m in \u001b[0;36mplot\u001b[1;34m(self, scalex, scaley, data, *args, **kwargs)\u001b[0m\n\u001b[0;32m   1663\u001b[0m         \"\"\"\n\u001b[0;32m   1664\u001b[0m         \u001b[0mkwargs\u001b[0m \u001b[1;33m=\u001b[0m \u001b[0mcbook\u001b[0m\u001b[1;33m.\u001b[0m\u001b[0mnormalize_kwargs\u001b[0m\u001b[1;33m(\u001b[0m\u001b[0mkwargs\u001b[0m\u001b[1;33m,\u001b[0m \u001b[0mmlines\u001b[0m\u001b[1;33m.\u001b[0m\u001b[0mLine2D\u001b[0m\u001b[1;33m.\u001b[0m\u001b[0m_alias_map\u001b[0m\u001b[1;33m)\u001b[0m\u001b[1;33m\u001b[0m\u001b[1;33m\u001b[0m\u001b[0m\n\u001b[1;32m-> 1665\u001b[1;33m         \u001b[0mlines\u001b[0m \u001b[1;33m=\u001b[0m \u001b[1;33m[\u001b[0m\u001b[1;33m*\u001b[0m\u001b[0mself\u001b[0m\u001b[1;33m.\u001b[0m\u001b[0m_get_lines\u001b[0m\u001b[1;33m(\u001b[0m\u001b[1;33m*\u001b[0m\u001b[0margs\u001b[0m\u001b[1;33m,\u001b[0m \u001b[0mdata\u001b[0m\u001b[1;33m=\u001b[0m\u001b[0mdata\u001b[0m\u001b[1;33m,\u001b[0m \u001b[1;33m**\u001b[0m\u001b[0mkwargs\u001b[0m\u001b[1;33m)\u001b[0m\u001b[1;33m]\u001b[0m\u001b[1;33m\u001b[0m\u001b[1;33m\u001b[0m\u001b[0m\n\u001b[0m\u001b[0;32m   1666\u001b[0m         \u001b[1;32mfor\u001b[0m \u001b[0mline\u001b[0m \u001b[1;32min\u001b[0m \u001b[0mlines\u001b[0m\u001b[1;33m:\u001b[0m\u001b[1;33m\u001b[0m\u001b[1;33m\u001b[0m\u001b[0m\n\u001b[0;32m   1667\u001b[0m             \u001b[0mself\u001b[0m\u001b[1;33m.\u001b[0m\u001b[0madd_line\u001b[0m\u001b[1;33m(\u001b[0m\u001b[0mline\u001b[0m\u001b[1;33m)\u001b[0m\u001b[1;33m\u001b[0m\u001b[1;33m\u001b[0m\u001b[0m\n",
      "\u001b[1;32mC:\\ProgramFiles\\acaconda3\\lib\\site-packages\\matplotlib\\axes\\_base.py\u001b[0m in \u001b[0;36m__call__\u001b[1;34m(self, *args, **kwargs)\u001b[0m\n\u001b[0;32m    223\u001b[0m                 \u001b[0mthis\u001b[0m \u001b[1;33m+=\u001b[0m \u001b[0margs\u001b[0m\u001b[1;33m[\u001b[0m\u001b[1;36m0\u001b[0m\u001b[1;33m]\u001b[0m\u001b[1;33m,\u001b[0m\u001b[1;33m\u001b[0m\u001b[1;33m\u001b[0m\u001b[0m\n\u001b[0;32m    224\u001b[0m                 \u001b[0margs\u001b[0m \u001b[1;33m=\u001b[0m \u001b[0margs\u001b[0m\u001b[1;33m[\u001b[0m\u001b[1;36m1\u001b[0m\u001b[1;33m:\u001b[0m\u001b[1;33m]\u001b[0m\u001b[1;33m\u001b[0m\u001b[1;33m\u001b[0m\u001b[0m\n\u001b[1;32m--> 225\u001b[1;33m             \u001b[1;32myield\u001b[0m \u001b[1;32mfrom\u001b[0m \u001b[0mself\u001b[0m\u001b[1;33m.\u001b[0m\u001b[0m_plot_args\u001b[0m\u001b[1;33m(\u001b[0m\u001b[0mthis\u001b[0m\u001b[1;33m,\u001b[0m \u001b[0mkwargs\u001b[0m\u001b[1;33m)\u001b[0m\u001b[1;33m\u001b[0m\u001b[1;33m\u001b[0m\u001b[0m\n\u001b[0m\u001b[0;32m    226\u001b[0m \u001b[1;33m\u001b[0m\u001b[0m\n\u001b[0;32m    227\u001b[0m     \u001b[1;32mdef\u001b[0m \u001b[0mget_next_color\u001b[0m\u001b[1;33m(\u001b[0m\u001b[0mself\u001b[0m\u001b[1;33m)\u001b[0m\u001b[1;33m:\u001b[0m\u001b[1;33m\u001b[0m\u001b[1;33m\u001b[0m\u001b[0m\n",
      "\u001b[1;32mC:\\ProgramFiles\\acaconda3\\lib\\site-packages\\matplotlib\\axes\\_base.py\u001b[0m in \u001b[0;36m_plot_args\u001b[1;34m(self, tup, kwargs)\u001b[0m\n\u001b[0;32m    387\u001b[0m             \u001b[0my\u001b[0m \u001b[1;33m=\u001b[0m \u001b[0m_check_1d\u001b[0m\u001b[1;33m(\u001b[0m\u001b[0mtup\u001b[0m\u001b[1;33m[\u001b[0m\u001b[1;33m-\u001b[0m\u001b[1;36m1\u001b[0m\u001b[1;33m]\u001b[0m\u001b[1;33m)\u001b[0m\u001b[1;33m\u001b[0m\u001b[1;33m\u001b[0m\u001b[0m\n\u001b[0;32m    388\u001b[0m         \u001b[1;32melse\u001b[0m\u001b[1;33m:\u001b[0m\u001b[1;33m\u001b[0m\u001b[1;33m\u001b[0m\u001b[0m\n\u001b[1;32m--> 389\u001b[1;33m             \u001b[0mx\u001b[0m\u001b[1;33m,\u001b[0m \u001b[0my\u001b[0m \u001b[1;33m=\u001b[0m \u001b[0mindex_of\u001b[0m\u001b[1;33m(\u001b[0m\u001b[0mtup\u001b[0m\u001b[1;33m[\u001b[0m\u001b[1;33m-\u001b[0m\u001b[1;36m1\u001b[0m\u001b[1;33m]\u001b[0m\u001b[1;33m)\u001b[0m\u001b[1;33m\u001b[0m\u001b[1;33m\u001b[0m\u001b[0m\n\u001b[0m\u001b[0;32m    390\u001b[0m \u001b[1;33m\u001b[0m\u001b[0m\n\u001b[0;32m    391\u001b[0m         \u001b[0mx\u001b[0m\u001b[1;33m,\u001b[0m \u001b[0my\u001b[0m \u001b[1;33m=\u001b[0m \u001b[0mself\u001b[0m\u001b[1;33m.\u001b[0m\u001b[0m_xy_from_xy\u001b[0m\u001b[1;33m(\u001b[0m\u001b[0mx\u001b[0m\u001b[1;33m,\u001b[0m \u001b[0my\u001b[0m\u001b[1;33m)\u001b[0m\u001b[1;33m\u001b[0m\u001b[1;33m\u001b[0m\u001b[0m\n",
      "\u001b[1;32mC:\\ProgramFiles\\acaconda3\\lib\\site-packages\\matplotlib\\cbook\\__init__.py\u001b[0m in \u001b[0;36mindex_of\u001b[1;34m(y)\u001b[0m\n\u001b[0;32m   1674\u001b[0m         \u001b[1;32mreturn\u001b[0m \u001b[0my\u001b[0m\u001b[1;33m.\u001b[0m\u001b[0mindex\u001b[0m\u001b[1;33m.\u001b[0m\u001b[0mvalues\u001b[0m\u001b[1;33m,\u001b[0m \u001b[0my\u001b[0m\u001b[1;33m.\u001b[0m\u001b[0mvalues\u001b[0m\u001b[1;33m\u001b[0m\u001b[1;33m\u001b[0m\u001b[0m\n\u001b[0;32m   1675\u001b[0m     \u001b[1;32mexcept\u001b[0m \u001b[0mAttributeError\u001b[0m\u001b[1;33m:\u001b[0m\u001b[1;33m\u001b[0m\u001b[1;33m\u001b[0m\u001b[0m\n\u001b[1;32m-> 1676\u001b[1;33m         \u001b[0my\u001b[0m \u001b[1;33m=\u001b[0m \u001b[0m_check_1d\u001b[0m\u001b[1;33m(\u001b[0m\u001b[0my\u001b[0m\u001b[1;33m)\u001b[0m\u001b[1;33m\u001b[0m\u001b[1;33m\u001b[0m\u001b[0m\n\u001b[0m\u001b[0;32m   1677\u001b[0m         \u001b[1;32mreturn\u001b[0m \u001b[0mnp\u001b[0m\u001b[1;33m.\u001b[0m\u001b[0marange\u001b[0m\u001b[1;33m(\u001b[0m\u001b[0my\u001b[0m\u001b[1;33m.\u001b[0m\u001b[0mshape\u001b[0m\u001b[1;33m[\u001b[0m\u001b[1;36m0\u001b[0m\u001b[1;33m]\u001b[0m\u001b[1;33m,\u001b[0m \u001b[0mdtype\u001b[0m\u001b[1;33m=\u001b[0m\u001b[0mfloat\u001b[0m\u001b[1;33m)\u001b[0m\u001b[1;33m,\u001b[0m \u001b[0my\u001b[0m\u001b[1;33m\u001b[0m\u001b[1;33m\u001b[0m\u001b[0m\n\u001b[0;32m   1678\u001b[0m \u001b[1;33m\u001b[0m\u001b[0m\n",
      "\u001b[1;32mC:\\ProgramFiles\\acaconda3\\lib\\site-packages\\matplotlib\\cbook\\__init__.py\u001b[0m in \u001b[0;36m_check_1d\u001b[1;34m(x)\u001b[0m\n\u001b[0;32m   1396\u001b[0m     \u001b[0mdimension\u001b[0m\u001b[1;33m;\u001b[0m \u001b[0mleaves\u001b[0m \u001b[0meverything\u001b[0m \u001b[1;32melse\u001b[0m \u001b[0muntouched\u001b[0m\u001b[1;33m.\u001b[0m\u001b[1;33m\u001b[0m\u001b[1;33m\u001b[0m\u001b[0m\n\u001b[0;32m   1397\u001b[0m     '''\n\u001b[1;32m-> 1398\u001b[1;33m     \u001b[1;32mif\u001b[0m \u001b[1;32mnot\u001b[0m \u001b[0mhasattr\u001b[0m\u001b[1;33m(\u001b[0m\u001b[0mx\u001b[0m\u001b[1;33m,\u001b[0m \u001b[1;34m'shape'\u001b[0m\u001b[1;33m)\u001b[0m \u001b[1;32mor\u001b[0m \u001b[0mlen\u001b[0m\u001b[1;33m(\u001b[0m\u001b[0mx\u001b[0m\u001b[1;33m.\u001b[0m\u001b[0mshape\u001b[0m\u001b[1;33m)\u001b[0m \u001b[1;33m<\u001b[0m \u001b[1;36m1\u001b[0m\u001b[1;33m:\u001b[0m\u001b[1;33m\u001b[0m\u001b[1;33m\u001b[0m\u001b[0m\n\u001b[0m\u001b[0;32m   1399\u001b[0m         \u001b[1;32mreturn\u001b[0m \u001b[0mnp\u001b[0m\u001b[1;33m.\u001b[0m\u001b[0matleast_1d\u001b[0m\u001b[1;33m(\u001b[0m\u001b[0mx\u001b[0m\u001b[1;33m)\u001b[0m\u001b[1;33m\u001b[0m\u001b[1;33m\u001b[0m\u001b[0m\n\u001b[0;32m   1400\u001b[0m     \u001b[1;32melse\u001b[0m\u001b[1;33m:\u001b[0m\u001b[1;33m\u001b[0m\u001b[1;33m\u001b[0m\u001b[0m\n",
      "\u001b[1;31mTypeError\u001b[0m: object of type 'method' has no len()"
     ]
    },
    {
     "data": {
      "image/png": "[encoded data removed]",
      "text/plain": [
       "<Figure size 432x288 with 1 Axes>"
      ]
     },
     "metadata": {
      "needs_background": "light"
     },
     "output_type": "display_data"
    }
   ],
   "source": [
    "plt.plot(cuenca)"
   ]
  },
  {
   "cell_type": "code",
   "execution_count": 33,
   "metadata": {},
   "outputs": [
    {
     "data": {
      "image/png": "[encoded data removed]",
      "text/plain": [
       "<Figure size 432x288 with 2 Axes>"
      ]
     },
     "metadata": {
      "needs_background": "light"
     },
     "output_type": "display_data"
    }
   ],
   "source": [
    "im = plt.imshow(tmp1265.mean(axis=0))\n",
    "cb = plt.colorbar(im, shrink=.75)\n",
    "plt.axis('off');"
   ]
  },
  {
   "cell_type": "code",
   "execution_count": 37,
   "metadata": {},
   "outputs": [],
   "source": [
    "\n",
    "# declara el netCDF\n",
    "nc = Dataset('clima_1265.nc', 'w', format='NETCDF4')\n",
    "\n",
    "# definir dimensiones\n",
    "time = nc.createDimension('time', len(dates))\n",
    "x = nc.createDimension('x', len(X1265))\n",
    "y = nc.createDimension('y', len(Y1265))\n",
    "\n",
    "# definir variables\n",
    "times = nc.createVariable('time', 'i2', ('time',))\n",
    "times.units = 'days since {0}'.format(dates[0])\n",
    "#times.calendar = \"gregorian\"\n",
    "xs = nc.createVariable('X', 'i4', ('x',))\n",
    "xs.units = 'm'\n",
    "ys = nc.createVariable('Y', 'i4', ('y',))\n",
    "ys.units = 'm'\n",
    "P = nc.createVariable('pcp', 'f4', ('time', 'y', 'x'))\n",
    "P.units = 'mm'\n",
    "T = nc.createVariable('tmp', 'f4', ('time', 'y', 'x'))\n",
    "T.units = '°C'\n",
    "\n",
    "# atributos\n",
    "nc.description = 'Caracterización climática de la cuenca alta del río Deva'\n",
    "nc.history = 'Created on {0}'.format(date.today())\n",
    "np.source = 'Jesús Casado Rodríguez'\n",
    "\n",
    "# asignar valores a las variables\n",
    "xs[:] = X1265\n",
    "ys[:] = Y1265\n",
    "times[:] = range(len(dates))\n",
    "P[:,:,:] = pcp1265\n",
    "T[:,:,:] = tmp1265\n",
    "\n",
    "nc.close()"
   ]
  },
  {
   "cell_type": "code",
   "execution_count": null,
   "metadata": {},
   "outputs": [],
   "source": []
  }
 ],
 "metadata": {
  "kernelspec": {
   "display_name": "Python 3",
   "language": "python",
   "name": "python3"
  },
  "language_info": {
   "codemirror_mode": {
    "name": "ipython",
    "version": 3
   },
   "file_extension": ".py",
   "mimetype": "text/x-python",
   "name": "python",
   "nbconvert_exporter": "python",
   "pygments_lexer": "ipython3",
   "version": "3.7.7"
  }
 },
 "nbformat": 4,
 "nbformat_minor": 4
}
