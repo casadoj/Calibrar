{
 "cells": [
  {
   "cell_type": "markdown",
   "metadata": {},
   "source": [
    "_Autor:_    __Jesús Casado__ <br> _Revisión:_ __8/11/2019__ <br>\n",
    "\n",
    "__Introducción__<br>\n",
    "\n",
    "\n",
    "__Cosas que arreglar__ <br>\n",
    "* El mapa climático no cubre por completo el polígono de la cuenca.\n",
    "* Rehacer mapas climáticos sobre la malla de MODIS.\n",
    "\n",
    "***\n",
    "\n",
    "__Índice__ <br>"
   ]
  },
  {
   "cell_type": "code",
   "execution_count": 1,
   "metadata": {},
   "outputs": [],
   "source": [
    "import os\n",
    "rutaBase = os.getcwd().replace('\\\\', '/') + '/'"
   ]
  },
  {
   "cell_type": "code",
   "execution_count": 2,
   "metadata": {},
   "outputs": [],
   "source": [
    "import numpy.ma as ma"
   ]
  },
  {
   "cell_type": "code",
   "execution_count": 3,
   "metadata": {},
   "outputs": [],
   "source": [
    "#import rasterio"
   ]
  },
  {
   "cell_type": "code",
   "execution_count": 4,
   "metadata": {},
   "outputs": [],
   "source": [
    "import geopandas as gpd"
   ]
  },
  {
   "cell_type": "code",
   "execution_count": 5,
   "metadata": {},
   "outputs": [],
   "source": [
    "import matplotlib.pyplot as plt\n",
    "import seaborn as sns"
   ]
  },
  {
   "cell_type": "code",
   "execution_count": 6,
   "metadata": {},
   "outputs": [],
   "source": [
    "from netCDF4 import Dataset\n",
    "from datetime import date, datetime, timedelta"
   ]
  },
  {
   "cell_type": "code",
   "execution_count": 7,
   "metadata": {},
   "outputs": [],
   "source": [
    "#import shapefile as shp\n",
    "from shapely.geometry.polygon import Polygon\n",
    "from matplotlib import path"
   ]
  },
  {
   "cell_type": "code",
   "execution_count": 8,
   "metadata": {},
   "outputs": [],
   "source": [
    "from sklearn.neighbors import KNeighborsRegressor, KNeighborsClassifier"
   ]
  },
  {
   "cell_type": "code",
   "execution_count": 9,
   "metadata": {},
   "outputs": [],
   "source": [
    "os.chdir(rutaBase + '../py/')\n",
    "from read_write import write_ascii, read_ascii\n",
    "os.chdir(rutaBase)"
   ]
  },
  {
   "cell_type": "code",
   "execution_count": 10,
   "metadata": {},
   "outputs": [],
   "source": [
    "os.chdir('../../Series/notebooks/Spain02/')\n",
    "%run funciones_Spain02.ipynb\n",
    "os.chdir(rutaBase)"
   ]
  },
  {
   "cell_type": "code",
   "execution_count": 11,
   "metadata": {},
   "outputs": [],
   "source": [
    "%run funciones_raster.ipynb"
   ]
  },
  {
   "cell_type": "markdown",
   "metadata": {},
   "source": [
    "## Datos"
   ]
  },
  {
   "cell_type": "markdown",
   "metadata": {},
   "source": [
    "### METEO"
   ]
  },
  {
   "cell_type": "markdown",
   "metadata": {},
   "source": [
    "```Python\n",
    "# datos de METEO\n",
    "rutaMETEO = 'C:/Users/jcr693/OneDrive - UNICAN - Estudiantes/Series/METEO/Spain02_v5.0_010reg_aa3d/'\n",
    "extract_Spain02('pr', rutaMETEO, lonlim=(-4.9, -4.55), latlim=(43.0, 43.25), datelim=('2010-10-01', '2011-09-30'), plot=False)\n",
    "extract_Spain02.data.shape\n",
    "```"
   ]
  },
  {
   "cell_type": "markdown",
   "metadata": {},
   "source": [
    "### IVERCAM"
   ]
  },
  {
   "cell_type": "code",
   "execution_count": 12,
   "metadata": {},
   "outputs": [],
   "source": [
    "rutaData = 'C:/Users/jcr693/OneDrive - UNICAN - Estudiantes/Proyectos/IAHR2020/data/'\n",
    "os.chdir(rutaData)"
   ]
  },
  {
   "cell_type": "markdown",
   "metadata": {},
   "source": [
    "#### NetCDF\n",
    "Guardo los mapas climáticos como un netCDF."
   ]
  },
  {
   "cell_type": "markdown",
   "metadata": {},
   "source": [
    "```Python\n",
    "# declara el netCDF\n",
    "nc = Dataset('clima_PdE.nc', 'w', format='NETCDF4')\n",
    "\n",
    "# definir dimensiones\n",
    "time = nc.createDimension('time', len(Tp))\n",
    "x = nc.createDimension('x', len(Xp))\n",
    "y = nc.createDimension('y', len(Yp))\n",
    "\n",
    "# definir variables\n",
    "times = nc.createVariable('time', 'i2', ('time',))\n",
    "times.units = 'days since {0}'.format(Tp[0])\n",
    "#times.calendar = \"gregorian\"\n",
    "xs = nc.createVariable('X', 'i4', ('x',))\n",
    "xs.units = 'm'\n",
    "ys = nc.createVariable('Y', 'i4', ('y',))\n",
    "ys.units = 'm'\n",
    "P = nc.createVariable('pcp', 'f4', ('time', 'y', 'x'))\n",
    "P.units = 'mm'\n",
    "T = nc.createVariable('tmp', 'f4', ('time', 'y', 'x'))\n",
    "T.units = '°C'\n",
    "\n",
    "# atributos\n",
    "nc.description = 'Caracterización climática de Picos de Europa'\n",
    "nc.history = 'Created on {0}'.format(date.today())\n",
    "np.source = 'Jesús Casado Rodríguez'\n",
    "\n",
    "# asignar valores a las variables\n",
    "xs[:] = Xp\n",
    "ys[:] = Yp\n",
    "times[:] = range(len(Tp))\n",
    "P[:,:,:] = pcp\n",
    "T[:,:,:] = tmp\n",
    "\n",
    "nc.close()\n",
    "```"
   ]
  },
  {
   "cell_type": "code",
   "execution_count": 13,
   "metadata": {},
   "outputs": [],
   "source": [
    "# Cargar netCDF con los datos climáticos\n",
    "nc = Dataset('clima_PdE.nc', 'r', format='NETCDF4')\n",
    "\n",
    "# extraer variables\n",
    "X = nc['X'][:].data\n",
    "Y = nc['Y'][:].data\n",
    "dates = nc['time'][:].data\n",
    "dates = [date(1979, 1, 1) + timedelta(days=int(dates[0])) for d in dates]\n",
    "pcp = nc['pcp'][::]\n",
    "tmp = nc['tmp'][::]\n",
    "\n",
    "nc.close()"
   ]
  },
  {
   "cell_type": "markdown",
   "metadata": {},
   "source": [
    "### Interpolar mapas"
   ]
  },
  {
   "cell_type": "code",
   "execution_count": 14,
   "metadata": {},
   "outputs": [],
   "source": [
    "# matrices de coordenadas X e Y de los datos orginales\n",
    "XX, YY = np.meshgrid(X, Y)"
   ]
  },
  {
   "cell_type": "code",
   "execution_count": 15,
   "metadata": {},
   "outputs": [
    {
     "data": {
      "text/plain": [
       "(161, 93, 309956.20566559, 4763369.969803, 465.0, -9999.0)"
      ]
     },
     "execution_count": 15,
     "metadata": {},
     "output_type": "execute_result"
    }
   ],
   "source": [
    "# máscara del raster MODIS en el Deva\n",
    "read_ascii('../GIS/mask_465_deva.asc')\n",
    "maskAscii = read_ascii.data\n",
    "ncol, nrow, xll, yll, cs, nodata = read_ascii.attributes\n",
    "ncol, nrow, xll, yll, cs, nodata"
   ]
  },
  {
   "cell_type": "code",
   "execution_count": 16,
   "metadata": {},
   "outputs": [
    {
     "data": {
      "text/plain": [
       "(46, 47)"
      ]
     },
     "execution_count": 16,
     "metadata": {},
     "output_type": "execute_result"
    }
   ],
   "source": [
    "# eliminar filas y columnas con todo Nan\n",
    "maskR = np.all(maskAscii.mask == True, axis=1)\n",
    "maskC = np.all(maskAscii.mask == True, axis=0)\n",
    "maskAscii = maskAscii[~maskR,:][:,~maskC]\n",
    "maskAscii.shape"
   ]
  },
  {
   "cell_type": "code",
   "execution_count": 17,
   "metadata": {},
   "outputs": [],
   "source": [
    "# matrices de coordenadas X e Y de la malla de MODIS\n",
    "Xgrid = np.linspace(xll, xll + ncol * cs, ncol, endpoint=False)\n",
    "Xgrid += cs / 2\n",
    "Xgrid = Xgrid[~maskC]\n",
    "Ygrid = np.linspace(yll, yll + nrow * cs, nrow, endpoint=False)[::-1]\n",
    "Ygrid += cs / 2\n",
    "Ygrid = Ygrid[~maskR]\n",
    "\n",
    "XXgrid, YYgrid = np.meshgrid(Xgrid, Ygrid)"
   ]
  },
  {
   "cell_type": "code",
   "execution_count": 18,
   "metadata": {},
   "outputs": [],
   "source": [
    "# interpolar\n",
    "pcp_ = np.zeros((len(dates), len(Ygrid), len(Xgrid))) * np.nan\n",
    "for i in range(len(dates)):\n",
    "    pcp_[i,:,:] = interpolarNN(XX, YY, pcp[i,:,:], XXgrid, YYgrid, n_neighbors=4,\n",
    "                               p=2)"
   ]
  },
  {
   "cell_type": "code",
   "execution_count": 19,
   "metadata": {},
   "outputs": [],
   "source": [
    "# interpolar\n",
    "tmp_ = np.zeros((len(dates), len(Ygrid), len(Xgrid))) * np.nan\n",
    "for i in range(len(dates)):\n",
    "    tmp_[i,:,:] = interpolarNN(XX, YY, tmp[i,:,:], XXgrid, YYgrid, n_neighbors=4,\n",
    "                               p=2)"
   ]
  },
  {
   "cell_type": "markdown",
   "metadata": {},
   "source": [
    "### Recortar mapas"
   ]
  },
  {
   "cell_type": "code",
   "execution_count": 21,
   "metadata": {},
   "outputs": [],
   "source": [
    "# ruta cartografía\n",
    "rutaGIS = 'C:/Users/jcr693/OneDrive - UNICAN - Estudiantes/Proyectos/IAHR2020/GIS/'\n",
    "\n",
    "# importar polígonos de las cuencas\n",
    "cuenca = gpd.read_file(rutaGIS + \"mask_465_deva.shp\")"
   ]
  },
  {
   "cell_type": "code",
   "execution_count": null,
   "metadata": {},
   "outputs": [],
   "source": [
    "os.chdir(rutaBase)\n",
    "%run funciones_raster.ipynb"
   ]
  },
  {
   "cell_type": "code",
   "execution_count": 29,
   "metadata": {},
   "outputs": [],
   "source": [
    "# recortar mapa de precipitación\n",
    "pcp1265, X1265, Y1265 = recortar3D(pcp_, Xgrid, Ygrid, cuenca, buffer=cs)"
   ]
  },
  {
   "cell_type": "code",
   "execution_count": 28,
   "metadata": {},
   "outputs": [],
   "source": [
    "# recortar mapa de precipitación\n",
    "tmp1265, X1265, Y1265 = recortar3D(tmp_, Xgrid, Ygrid, cuenca, buffer=cs)"
   ]
  },
  {
   "cell_type": "code",
   "execution_count": 30,
   "metadata": {},
   "outputs": [
    {
     "data": {
      "image/png": "[encoded data removed]",
      "text/plain": [
       "<Figure size 720x360 with 4 Axes>"
      ]
     },
     "metadata": {
      "needs_background": "light"
     },
     "output_type": "display_data"
    }
   ],
   "source": [
    "fig, ax = plt.subplots(ncols=2, figsize=(10, 5))\n",
    "extent = [X1265.min(), X1265.max(), Y1265.min(), Y1265.max()]\n",
    "\n",
    "# mapa de precipitación media\n",
    "im = ax[0].imshow(pcp1265.mean(axis=0), extent=extent)\n",
    "#ax[0].plot(x, y, 'k', lw=1)\n",
    "cb = plt.colorbar(im, shrink=.6, ax=ax[0])\n",
    "cuenca.boundary.plot(color='k', ax=ax[0])\n",
    "cb.set_label('mm')\n",
    "ax[0].set_title('Precipitación media')\n",
    "ax[0].set_aspect('equal')\n",
    "ax[0].axis('off');\n",
    "\n",
    "# mapa de temperatura media\n",
    "im = ax[1].imshow(tmp1265.mean(axis=0), extent=extent)\n",
    "#ax[1].plot(x, y, 'k', lw=1)\n",
    "cb = plt.colorbar(im, shrink=.6, ax=ax[1])\n",
    "cuenca.boundary.plot(color='k', ax=ax[1])\n",
    "cb.set_label('C')\n",
    "ax[1].set_title('Temperatura media')\n",
    "ax[1].set_aspect('equal')\n",
    "ax[1].axis('off');"
   ]
  },
  {
   "cell_type": "markdown",
   "metadata": {},
   "source": [
    "#### Guardar clima del Deva"
   ]
  },
  {
   "cell_type": "code",
   "execution_count": 31,
   "metadata": {},
   "outputs": [],
   "source": [
    "# declara el netCDF\n",
    "nc = Dataset('clima_1265.nc', 'w', format='NETCDF4')\n",
    "\n",
    "# definir dimensiones\n",
    "time = nc.createDimension('time', len(dates))\n",
    "x = nc.createDimension('x', len(X1265))\n",
    "y = nc.createDimension('y', len(Y1265))\n",
    "\n",
    "# definir variables\n",
    "times = nc.createVariable('time', 'i2', ('time',))\n",
    "times.units = 'days since {0}'.format(dates[0])\n",
    "#times.calendar = \"gregorian\"\n",
    "xs = nc.createVariable('X', 'i4', ('x',))\n",
    "xs.units = 'm'\n",
    "ys = nc.createVariable('Y', 'i4', ('y',))\n",
    "ys.units = 'm'\n",
    "P = nc.createVariable('pcp', 'f4', ('time', 'y', 'x'))\n",
    "P.units = 'mm'\n",
    "T = nc.createVariable('tmp', 'f4', ('time', 'y', 'x'))\n",
    "T.units = '°C'\n",
    "\n",
    "# atributos\n",
    "nc.description = 'Caracterización climática de la cuenca alta del río Deva'\n",
    "nc.history = 'Created on {0}'.format(date.today())\n",
    "np.source = 'Jesús Casado Rodríguez'\n",
    "\n",
    "# asignar valores a las variables\n",
    "xs[:] = X1265\n",
    "ys[:] = Y1265\n",
    "times[:] = range(len(dates))\n",
    "P[:,:,:] = pcp1265\n",
    "T[:,:,:] = tmp1265\n",
    "\n",
    "nc.close()"
   ]
  },
  {
   "cell_type": "code",
   "execution_count": null,
   "metadata": {},
   "outputs": [],
   "source": []
  }
 ],
 "metadata": {
  "kernelspec": {
   "display_name": "Python 3",
   "language": "python",
   "name": "python3"
  },
  "language_info": {
   "codemirror_mode": {
    "name": "ipython",
    "version": 3
   },
   "file_extension": ".py",
   "mimetype": "text/x-python",
   "name": "python",
   "nbconvert_exporter": "python",
   "pygments_lexer": "ipython3",
   "version": "3.9.0"
  }
 },
 "nbformat": 4,
 "nbformat_minor": 4
}
