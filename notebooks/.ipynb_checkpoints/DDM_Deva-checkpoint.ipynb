{
 "cells": [
  {
   "cell_type": "markdown",
   "metadata": {},
   "source": [
    "_Autor:_    __Jesús Casado__ <br> _Revisión:_ __8/11/2019__ <br>\n",
    "\n",
    "__Introducción__<br>\n",
    "Se aplica el método grado-día sobre un caso ejemplo, la cuenca alta del río Deva.\n",
    "\n",
    "__Cosas a mejorar__ <br>\n",
    "* La temperatura a usar puede ser la mínima o la media. Analizar.\n",
    "\n",
    "***\n",
    "\n",
    "__Índice__ <br>\n",
    "[__1. Datos__](#1.-Datos)<br>\n",
    "[1.1 Precipitación y temperatura](#1.1-Precipitación-y-temperatura)<br>\n",
    "[1.2 Radiación](#1.2-Radiación)<br>\n",
    "\n",
    "[__2. Método de grado-día__](#2.-Método-de-grado-día)<br>\n",
    "\n",
    "[__3. Cálculo__](#3.-Cálculo)<br>"
   ]
  },
  {
   "cell_type": "code",
   "execution_count": 1,
   "metadata": {},
   "outputs": [],
   "source": [
    "import os\n",
    "rutaBase = os.getcwd().replace('\\\\', '/') + '/'"
   ]
  },
  {
   "cell_type": "code",
   "execution_count": 2,
   "metadata": {},
   "outputs": [],
   "source": [
    "import numpy as np\n",
    "import pandas as pd"
   ]
  },
  {
   "cell_type": "code",
   "execution_count": 3,
   "metadata": {},
   "outputs": [],
   "source": [
    "import numpy.ma as ma"
   ]
  },
  {
   "cell_type": "code",
   "execution_count": 4,
   "metadata": {},
   "outputs": [],
   "source": [
    "import matplotlib.pyplot as plt\n",
    "from pandas.plotting import register_matplotlib_converters\n",
    "register_matplotlib_converters()\n",
    "import seaborn as sns\n",
    "sns.set()"
   ]
  },
  {
   "cell_type": "code",
   "execution_count": 5,
   "metadata": {},
   "outputs": [],
   "source": [
    "from netCDF4 import Dataset\n",
    "from datetime import date, datetime, timedelta"
   ]
  },
  {
   "cell_type": "code",
   "execution_count": 6,
   "metadata": {},
   "outputs": [],
   "source": [
    "os.chdir(rutaBase + '../py/')\n",
    "from read_write import write_ascii, read_ascii\n",
    "os.chdir(rutaBase)"
   ]
  },
  {
   "cell_type": "markdown",
   "metadata": {},
   "source": [
    "## 1. Datos"
   ]
  },
  {
   "cell_type": "code",
   "execution_count": 7,
   "metadata": {},
   "outputs": [],
   "source": [
    "rutaData = 'C:/Users/jcr693/OneDrive - UNICAN - Estudiantes/Proyectos/IAHR2020/data/'\n",
    "os.chdir(rutaData)"
   ]
  },
  {
   "cell_type": "markdown",
   "metadata": {},
   "source": [
    "### 1.2. Precipitación y temperatura"
   ]
  },
  {
   "cell_type": "code",
   "execution_count": 8,
   "metadata": {},
   "outputs": [],
   "source": [
    "# Cargar netCDF con los datos climáticos\n",
    "nc = Dataset('clima_1265.nc', 'r', format='NETCDF4')\n",
    "\n",
    "# extraer variables\n",
    "X = nc['X'][:].data\n",
    "Y = nc['Y'][:].data\n",
    "dates = nc['time'][:].data\n",
    "dates = np.array([date(1979, 1, 1) + timedelta(days=int(d)) for d in dates])\n",
    "pcp = nc['pcp'][::]\n",
    "tmp = nc['tmp'][::]\n",
    "\n",
    "nc.close()"
   ]
  },
  {
   "cell_type": "markdown",
   "metadata": {},
   "source": [
    "### 1.2. Radiación"
   ]
  },
  {
   "cell_type": "code",
   "execution_count": 10,
   "metadata": {},
   "outputs": [],
   "source": [
    "rad = ma.masked_array(np.zeros((12, len(Y), len(X))), pcp[:12,:,:].mask)\n",
    "for i in range(1, 6):\n",
    "    read_ascii('rad{0:02d}_1265.asc'.format(i))\n",
    "    rad[i-1,:,:] = read_ascii.data.copy()\n",
    "    rad[12-i,:,:] = read_ascii.data.copy()"
   ]
  },
  {
   "cell_type": "markdown",
   "metadata": {},
   "source": [
    "### 1.3. Nieve MODIS"
   ]
  },
  {
   "cell_type": "code",
   "execution_count": 47,
   "metadata": {},
   "outputs": [],
   "source": [
    "rutaMODIS = rutaBase + '../../MODIS/output/SnowCover/'"
   ]
  },
  {
   "cell_type": "code",
   "execution_count": 98,
   "metadata": {},
   "outputs": [
    {
     "name": "stdout",
     "output_type": "stream",
     "text": [
      "<class 'netCDF4._netCDF4.Dataset'>\n",
      "root group (NETCDF4 data model, file format HDF5):\n",
      "    description: Serie temporal de mapas de SC de la cuenca del Deva obtenidos a partir de MODIS\n",
      "    history: Creado el 2020-11-08\n",
      "    source: https://e4ftl01.cr.usgs.gov/\n",
      "    coordinateSystem: epsg:25830\n",
      "    dimensions(sizes): \n",
      "    variables(dimensions): \n",
      "    groups: Terra, Aqua\n"
     ]
    }
   ],
   "source": [
    "# Cargar netCDF con los datos climáticos\n",
    "nc = Dataset(rutaMODIS + 'MODIS_Maximum_Snow_Extent.nc', 'r', format='NETCDF4')\n",
    "print(nc)\n",
    "\n",
    "# extraer datos en un diccionario\n",
    "SC = {'Terra': {}, 'Aqua': {}}\n",
    "for sat, product in zip(['Terra', 'Aqua'], ['MOD16A2', 'MYD16A2']):\n",
    "    # evapotranspiración\n",
    "    SC[sat]['SC'] = nc[sat][product][::]\n",
    "    # fechas\n",
    "    SC[sat]['dates'] = [datetime(1, 1, 1) + timedelta(time) for time in nc[sat]['time'][:]]\n",
    "    # coordenadas\n",
    "    SC[sat]['X'] = nc[sat]['X'][:]\n",
    "    SC[sat]['Y'] = nc[sat]['Y'][:]\n",
    "\n",
    "nc.close()"
   ]
  },
  {
   "cell_type": "code",
   "execution_count": 87,
   "metadata": {},
   "outputs": [],
   "source": [
    "Xmodis = SC['Terra']['X']\n",
    "Ymodis = SC['Terra']['Y']\n",
    "Tmodis = SC['Terra']['dates']\n",
    "sc = SC['Terra']['SC']"
   ]
  },
  {
   "cell_type": "code",
   "execution_count": 91,
   "metadata": {},
   "outputs": [
    {
     "data": {
      "image/png": "[encoded data removed]",
      "text/plain": [
       "<Figure size 432x288 with 1 Axes>"
      ]
     },
     "metadata": {},
     "output_type": "display_data"
    }
   ],
   "source": [
    "plt.imshow(sc[10,:,:])\n",
    "plt.axis('off');"
   ]
  },
  {
   "cell_type": "code",
   "execution_count": 108,
   "metadata": {},
   "outputs": [
    {
     "data": {
      "text/plain": [
       "masked_array(data=[4785563, 4785100, 4784636, 4784173, 4783709, 4783246,\n",
       "                   4782783, 4782319, 4781856, 4781392, 4780929, 4780465,\n",
       "                   4780002, 4779538, 4779075, 4778611, 4778148, 4777685,\n",
       "                   4777221, 4776758, 4776294, 4775831, 4775367, 4774904,\n",
       "                   4774440, 4773977, 4773513, 4773050, 4772586, 4772123,\n",
       "                   4771660, 4771196, 4770733, 4770269, 4769806, 4769342,\n",
       "                   4768879, 4768415, 4767952, 4767488, 4767025, 4766562,\n",
       "                   4766098, 4765635, 4765171, 4764708, 4764244, 4763781],\n",
       "             mask=False,\n",
       "       fill_value=999999,\n",
       "            dtype=uint32)"
      ]
     },
     "execution_count": 108,
     "metadata": {},
     "output_type": "execute_result"
    }
   ],
   "source": [
    "Ymodis"
   ]
  },
  {
   "cell_type": "code",
   "execution_count": 110,
   "metadata": {},
   "outputs": [
    {
     "data": {
      "text/plain": [
       "464"
      ]
     },
     "execution_count": 110,
     "metadata": {},
     "output_type": "execute_result"
    }
   ],
   "source": [
    "4785100 - 4784636"
   ]
  },
  {
   "cell_type": "code",
   "execution_count": 102,
   "metadata": {},
   "outputs": [
    {
     "data": {
      "text/plain": [
       "[49, 48, 348036.5, 4763548.5, 465, -9999]"
      ]
     },
     "execution_count": 102,
     "metadata": {},
     "output_type": "execute_result"
    }
   ],
   "source": [
    "cellsize = Xmodis[1] - Xmodis[0]\n",
    "atributos = [len(Xmodis), len(Ymodis), Xmodis.min() - cellsize/2, Ymodis.min() - cellsize/2, cellsize, -9999]\n",
    "atributos"
   ]
  },
  {
   "cell_type": "code",
   "execution_count": 103,
   "metadata": {},
   "outputs": [],
   "source": [
    "write_ascii(rutaData + 'Ejemplo_SC.asc', sc[10,:,:], atributos, epsg='25830')"
   ]
  },
  {
   "cell_type": "code",
   "execution_count": 82,
   "metadata": {},
   "outputs": [],
   "source": [
    "SC_mean = SC['Terra']['SC'].mean(axis=1)"
   ]
  },
  {
   "cell_type": "code",
   "execution_count": 83,
   "metadata": {},
   "outputs": [
    {
     "data": {
      "text/plain": [
       "<matplotlib.image.AxesImage at 0x17b8a7df488>"
      ]
     },
     "execution_count": 83,
     "metadata": {},
     "output_type": "execute_result"
    },
    {
     "name": "stderr",
     "output_type": "stream",
     "text": [
      "C:\\ProgramFiles\\acaconda3\\lib\\site-packages\\matplotlib\\image.py:397: UserWarning: Warning: converting a masked element to nan.\n",
      "  dv = (np.float64(self.norm.vmax) -\n",
      "C:\\ProgramFiles\\acaconda3\\lib\\site-packages\\matplotlib\\image.py:398: UserWarning: Warning: converting a masked element to nan.\n",
      "  np.float64(self.norm.vmin))\n",
      "C:\\ProgramFiles\\acaconda3\\lib\\site-packages\\matplotlib\\image.py:405: UserWarning: Warning: converting a masked element to nan.\n",
      "  a_min = np.float64(newmin)\n",
      "C:\\ProgramFiles\\acaconda3\\lib\\site-packages\\matplotlib\\image.py:410: UserWarning: Warning: converting a masked element to nan.\n",
      "  a_max = np.float64(newmax)\n",
      "<string>:6: UserWarning: Warning: converting a masked element to nan.\n",
      "C:\\ProgramFiles\\acaconda3\\lib\\site-packages\\numpy\\ma\\core.py:722: UserWarning: Warning: converting a masked element to nan.\n",
      "  data = np.array(a, copy=False, subok=subok)\n"
     ]
    },
    {
     "data": {
      "image/png": "[encoded data removed]",
      "text/plain": [
       "<Figure size 432x288 with 1 Axes>"
      ]
     },
     "metadata": {},
     "output_type": "display_data"
    }
   ],
   "source": [
    "plt.imshow(SC_mean)"
   ]
  },
  {
   "cell_type": "markdown",
   "metadata": {},
   "source": [
    "## 2. Método de grado-día"
   ]
  },
  {
   "cell_type": "code",
   "execution_count": 37,
   "metadata": {},
   "outputs": [],
   "source": [
    "def degreeDayMethod(pcp, tmp, dates, rad=None, Ts=0., Tb=0., DDF1=2., DDF2=4., verbose=True):\n",
    "    \"\"\"Calcula la acumulación de nieve y su fusión por el método del índice grado-día.\n",
    "    \n",
    "    Entradas:\n",
    "    ---------\n",
    "    pcp:     array (t,x,y). Serie temporal de mapas de precipitación (mm)\n",
    "    tmp:     array (t,x,y). Serie temporal de mapas de temperatura (media o mínima) (°C)\n",
    "    dates:   array (t,). Fechas de los mapas\n",
    "    rad:     array (12,x,y). Serie mensual de mapas de radiación difusa normalizados. Si es None, no se utiliza la radiación para modificar los índices grado-día\n",
    "    Ts:      float. Umbral de temperatura por debajo del cual se asume que la precipitación es en forma de nieve\n",
    "    Tb:      float. Umbral de temperatura por encima del cual se produce derretimiento\n",
    "    DDF1:    float. Índice grado-día (mm/°C) para tiempo seco\n",
    "    DDF2:    float. Índice grado-día (mm/°C) para tiempo lluvioso\n",
    "    verbose: boolean. Mostrar por pantalla el proceso\n",
    "    \n",
    "    Salidas:\n",
    "    --------\n",
    "    swe:     array (t,x,y). Serie temporal de mapas de equivalente agua-nieve (mm)\n",
    "    sm:      array (t,x,y). Serie temporal de mapas de fusión de nieve (mm)\n",
    "    \"\"\"\n",
    "    \n",
    "    # array 3D en blanco\n",
    "    arr3D = ma.masked_array(np.zeros(pcp.shape), pcp.mask)\n",
    "    # array 2D en blanco\n",
    "    arr2D = ma.masked_array(np.zeros(pcp[0,:,:].shape), pcp[0,:,:].mask)\n",
    "    \n",
    "    # arrays donde guardar los resultados\n",
    "    swe = arr3D.copy()  # equivalente agua-nieve (snow-water equivalent)\n",
    "    sm = arr3D.copy()   # fusión de la nieve (snowmelt)\n",
    "    \n",
    "    for i, date in enumerate(dates):\n",
    "        if verbose:\n",
    "            print('Paso {0:<3} de {1:<3}:\\t{2}'.format(i+1, len(dates), date), end='\\r')\n",
    "            \n",
    "        # extraer mes\n",
    "        month = date.month\n",
    "\n",
    "        # extraer mapas con los datos\n",
    "        pcp_i = pcp[i,:,:]   # precipitación\n",
    "        tmp_i = tmp[i,:,:]   # temperatura\n",
    "        swe_0 = swe[i-1,:,:]  # equivalente agua-nieve inicial\n",
    "\n",
    "        # precipitación en forma de nieve\n",
    "        snowfall = arr2D.copy()\n",
    "        maskT = tmp_i < Ts\n",
    "        snowfall[maskT] = pcp_i[maskT]\n",
    "\n",
    "        # fusión de la nieve potencial (snowmeltP)\n",
    "        snowmeltP = arr2D.copy()\n",
    "        # en celdas sin lluvia\n",
    "        dry = pcp_i <= 0\n",
    "        if rad is None:\n",
    "            snowmeltP[dry] = DDF1 * (tmp_i[dry] - Tb)\n",
    "        else:\n",
    "            snowmeltP[dry] = DDF1 * rad[month-1,:,:][dry] * (tmp_i[dry] - Tb)\n",
    "        # en celdas con lluvia\n",
    "        rain = pcp_i > 0\n",
    "        if rad is None:\n",
    "            snowmeltP[rain] = DDF2 * (tmp_i[rain] - Tb)\n",
    "        else:\n",
    "            snowmeltP[rain] = DDF2 * rad[month-1,:,:][rain] * (tmp_i[rain] - Tb)\n",
    "        # convertir en 0 valores negativos (cuando la temperatura es inferior a Tb)\n",
    "        snowmeltP[snowmeltP < 0] = 0\n",
    "\n",
    "        # equivalente de agua-nieve disponible\n",
    "        swe_i = swe_0 + snowfall\n",
    "\n",
    "        # fusión de la nieve real (snowmelt_)\n",
    "        snowmeltR = np.minimum(swe_i, snowmeltP)\n",
    "        sm[i,:,:] = snowmeltR.copy()\n",
    "\n",
    "        # equivalente agua-nieve final\n",
    "        swe_i -= snowmeltR\n",
    "        swe[i,:,:] = swe_i.copy()\n",
    "        \n",
    "    return swe, sm"
   ]
  },
  {
   "cell_type": "markdown",
   "metadata": {},
   "source": [
    "## 3. Cálculo "
   ]
  },
  {
   "cell_type": "markdown",
   "metadata": {},
   "source": [
    "#### Recortar periodo de estudio"
   ]
  },
  {
   "cell_type": "code",
   "execution_count": 14,
   "metadata": {},
   "outputs": [],
   "source": [
    "# fechas de inicio y fin\n",
    "start = datetime(2013, 10, 1).date()\n",
    "end = datetime(2015, 10, 1).date()\n",
    "\n",
    "# posición dentro de la serie temporal\n",
    "st = np.where(dates == start)[0][0]\n",
    "en = np.where(dates == end)[0][0]\n",
    "\n",
    "# recortar\n",
    "dates_ = dates[st:en]\n",
    "pcp_ = pcp[st:en,:,:]\n",
    "tmp_ = tmp[st:en,:,:]"
   ]
  },
  {
   "cell_type": "markdown",
   "metadata": {},
   "source": [
    "### Cálculo sin radiación"
   ]
  },
  {
   "cell_type": "code",
   "execution_count": 38,
   "metadata": {},
   "outputs": [
    {
     "name": "stdout",
     "output_type": "stream",
     "text": [
      "Paso 730 de 730:\t2015-09-30\r"
     ]
    }
   ],
   "source": [
    "# calcular modelo de nieve\n",
    "swe, sm = degreeDayMethod(pcp_, tmp_, dates_, rad=None, Ts=0., Tb=0., DDF1=2., DDF2=4., verbose=True)"
   ]
  },
  {
   "cell_type": "markdown",
   "metadata": {},
   "source": [
    "### Cálculo sin radiación"
   ]
  },
  {
   "cell_type": "code",
   "execution_count": 39,
   "metadata": {},
   "outputs": [
    {
     "name": "stdout",
     "output_type": "stream",
     "text": [
      "Paso 730 de 730:\t2015-09-30\r"
     ]
    }
   ],
   "source": [
    "# calcular modelo de nieve\n",
    "swe2, sm2 = degreeDayMethod(pcp_, tmp_, dates_, rad=rad, Ts=0., Tb=0., DDF1=2., DDF2=4., verbose=True)"
   ]
  },
  {
   "cell_type": "markdown",
   "metadata": {},
   "source": [
    "### Comparativa"
   ]
  },
  {
   "cell_type": "code",
   "execution_count": 44,
   "metadata": {},
   "outputs": [
    {
     "data": {
      "image/png": "[encoded data removed]",
      "text/plain": [
       "<Figure size 1152x288 with 1 Axes>"
      ]
     },
     "metadata": {},
     "output_type": "display_data"
    }
   ],
   "source": [
    "serie1 = pd.Series(swe.mean(axis=(1,2)), index=dates_)\n",
    "serie2 = pd.Series(swe2.mean(axis=(1,2)), index=dates_)\n",
    "\n",
    "plt.figure(figsize=(16, 4))\n",
    "plt.ylabel('SWE (mm)')\n",
    "plt.plot(serie1, label='sin rad')\n",
    "plt.plot(serie2, label='con rad')\n",
    "plt.legend();"
   ]
  },
  {
   "cell_type": "code",
   "execution_count": 45,
   "metadata": {},
   "outputs": [
    {
     "data": {
      "image/png": "[encoded data removed]",
      "text/plain": [
       "<Figure size 1152x288 with 1 Axes>"
      ]
     },
     "metadata": {},
     "output_type": "display_data"
    }
   ],
   "source": [
    "serie1 = pd.Series(sm.mean(axis=(1,2)), index=dates_)\n",
    "serie2 = pd.Series(sm2.mean(axis=(1,2)), index=dates_)\n",
    "\n",
    "plt.figure(figsize=(16, 4))\n",
    "plt.ylabel('SM (mm)')\n",
    "plt.plot(serie1, label='sin rad');\n",
    "plt.plot(serie2, label='con rad');\n",
    "plt.legend();"
   ]
  },
  {
   "cell_type": "markdown",
   "metadata": {},
   "source": [
    "```Python\n",
    "fig, ax = plt.subplots(nrows=2, ncols=4, figsize=(20, 10))\n",
    "extent = [X.min(), X.max(), Y.min(), Y.max()]\n",
    "\n",
    "# mapa de precipitación media\n",
    "im = ax[0,0].imshow(pcp_i, extent=extent)\n",
    "cb = plt.colorbar(im, shrink=.6, ax=ax[0,0])\n",
    "cb.set_label('mm')\n",
    "ax[0,0].set_title('Precipitación {0}'.format(date))\n",
    "ax[0,0].axis('off');\n",
    "\n",
    "# mapa de temperatura media\n",
    "im = ax[0,1].imshow(tmp_i, extent=extent)\n",
    "cb = plt.colorbar(im, shrink=.6, ax=ax[0,1])\n",
    "cb.set_label('C')\n",
    "ax[0,1].set_title('Temperatura {0}'.format(date))\n",
    "ax[0,1].axis('off');\n",
    "\n",
    "# equivalente agua-nieve inicial\n",
    "im = ax[0,2].imshow(swe_0, extent=extent)\n",
    "cb = plt.colorbar(im, shrink=.6, ax=ax[0,2])\n",
    "cb.set_label('mm')\n",
    "ax[0,2].set_title('equivalente agua-nieve {0}'.format(dates_[i-1]))\n",
    "ax[0,2].axis('off');\n",
    "\n",
    "ax[0,3].axis('off')\n",
    "\n",
    "# precipitación en forma de nieve\n",
    "im = ax[1,0].imshow(snowfall)\n",
    "cb = plt.colorbar(im, shrink=.6, ax=ax[1,0])\n",
    "cb.set_label('mm')\n",
    "ax[1,0].set_title('snowfall')\n",
    "ax[1,0].axis('off');\n",
    "\n",
    "# fusión potencial\n",
    "im = ax[1,1].imshow(snowmelt)\n",
    "cb = plt.colorbar(im, shrink=.6, ax=ax[1,1])\n",
    "cb.set_label('mm')\n",
    "ax[1,1].set_title('snowmelt (P)')\n",
    "ax[1,1].axis('off');\n",
    "\n",
    "# fusión real\n",
    "im = ax[1,2].imshow(snowmelt_)\n",
    "cb = plt.colorbar(im, shrink=.6, ax=ax[1,2])\n",
    "cb.set_label('mm')\n",
    "ax[1,2].set_title('snowmelt (R)')\n",
    "ax[1,2].axis('off');\n",
    "\n",
    "# equivalente agua-nieve\n",
    "im = ax[1,3].imshow(swe_i)\n",
    "cb = plt.colorbar(im, shrink=.6, ax=ax[1,3])\n",
    "cb.set_label('mm')\n",
    "ax[1,3].set_title('swe')\n",
    "ax[1,3].axis('off');\n",
    "```"
   ]
  }
 ],
 "metadata": {
  "kernelspec": {
   "display_name": "Python 3",
   "language": "python",
   "name": "python3"
  },
  "language_info": {
   "codemirror_mode": {
    "name": "ipython",
    "version": 3
   },
   "file_extension": ".py",
   "mimetype": "text/x-python",
   "name": "python",
   "nbconvert_exporter": "python",
   "pygments_lexer": "ipython3",
   "version": "3.7.7"
  }
 },
 "nbformat": 4,
 "nbformat_minor": 4
}
