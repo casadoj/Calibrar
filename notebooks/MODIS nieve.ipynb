{
 "cells": [
  {
   "cell_type": "markdown",
   "metadata": {},
   "source": [
    "# Nieve MODIS\n",
    "_Autor:_    __Jesús Casado__ <br> _Revisión:_ __04/12/2020__ <br>\n",
    "\n",
    "__Introducción__<br>\n",
    "Datos de MODIS sobre cobertura de nieve en la cuenca del Deva. \n",
    "1. Se cargan los datos originales (8 días) y se agregan a diversas frecuencias temporales (mensual y anual). Los datos se muestran en mapas y series.\n",
    "2. Introducción al análisis de EOFs sobre los datos anteriores.\n",
    "\n",
    "__Cosas que arreglar__ <br>\n",
    "Cómo leer atributos del archivo _hdf_ de MODIS.\n",
    "\n",
    "***\n",
    "\n",
    "__Índice__ <br>\n",
    "__[Datos](#Datos)__<br>\n",
    "[DEM de la cuenca](#DEM-de-la-cuenca-(ETRS89-UTM30N))<br>\n",
    "[Evapotranspiración MODIS](#Evapotranspiración-MODIS)<br>\n",
    "\n",
    "__[Análisis](#Análisis)__<br>\n",
    "[8 diario](#8-diario)<br>\n",
    "[Mensual](#Mensual)<br>\n",
    "[Anual](#Anual)<br>\n",
    "[EOF](#EOF)<br>"
   ]
  },
  {
   "cell_type": "code",
   "execution_count": 1,
   "metadata": {},
   "outputs": [],
   "source": [
    "import os\n",
    "rutaBase = os.getcwd().replace('\\\\', '/') + '/'"
   ]
  },
  {
   "cell_type": "code",
   "execution_count": 2,
   "metadata": {},
   "outputs": [],
   "source": [
    "import numpy as np\n",
    "import pandas as pd\n",
    "import matplotlib.pyplot as plt\n",
    "from pandas.plotting import register_matplotlib_converters\n",
    "register_matplotlib_converters()\n",
    "plt.style.use('seaborn-whitegrid')\n",
    "#plt.style.use('dark_background')\n",
    "%matplotlib inline\n",
    "from mpl_toolkits.axes_grid1 import make_axes_locatable\n",
    "from matplotlib.gridspec import GridSpec\n",
    "from netCDF4 import Dataset, num2date, date2num\n",
    "#import h5py\n",
    "from datetime import datetime\n",
    "from calendar import monthrange\n",
    "import time\n",
    "\n",
    "import geopandas as gpd\n",
    "#import earthpy as et\n",
    "\n",
    "#from eofs.standard import Eof\n",
    "\n",
    "import matplotlib.animation as animation\n",
    "from IPython.display import HTML"
   ]
  },
  {
   "cell_type": "code",
   "execution_count": 3,
   "metadata": {},
   "outputs": [],
   "source": [
    "from shutil import copyfile"
   ]
  },
  {
   "cell_type": "code",
   "execution_count": 4,
   "metadata": {},
   "outputs": [],
   "source": [
    "from pyproj import Proj, transform, CRS\n",
    "os.environ['PROJ_LIB'] = r'C:\\Anaconda3\\pkgs\\proj4-4.9.3-vc14_5\\Library\\share'"
   ]
  },
  {
   "cell_type": "code",
   "execution_count": 5,
   "metadata": {},
   "outputs": [],
   "source": [
    "os.chdir(rutaBase + '../../MODIS/py/')\n",
    "from funciones_MODIS import *\n",
    "#from funciones_EOF import *\n",
    "os.chdir(rutaBase)"
   ]
  },
  {
   "cell_type": "code",
   "execution_count": 6,
   "metadata": {},
   "outputs": [],
   "source": [
    "import seaborn as sns\n",
    "sns.set_style(\"whitegrid\")"
   ]
  },
  {
   "cell_type": "code",
   "execution_count": 7,
   "metadata": {},
   "outputs": [],
   "source": [
    "os.chdir(rutaBase)\n",
    "%run class_MODIS.ipynb\n",
    "%run funciones_raster.ipynb"
   ]
  },
  {
   "cell_type": "markdown",
   "metadata": {},
   "source": [
    "***\n",
    "## Datos\n",
    "### DEM de la cuenca (ETRS89-UTM30N)"
   ]
  },
  {
   "cell_type": "code",
   "execution_count": 8,
   "metadata": {},
   "outputs": [],
   "source": [
    "# cargar shapefile\n",
    "#rutaCarto = 'C:/Users/jcr693/OneDrive - UNICAN - Estudiantes/Cartografia/Politico/Espana/'\n",
    "#ESP = gpd.read_file(rutaCarto + 'Provincias_ETRS89_30N.shp')"
   ]
  },
  {
   "cell_type": "code",
   "execution_count": 9,
   "metadata": {},
   "outputs": [],
   "source": [
    "# ruta cartografía\n",
    "rutaGIS = 'C:/Users/jcr693/OneDrive - UNICAN - Estudiantes/Proyectos/IAHR2020/GIS/'\n",
    "\n",
    "# importar polígonos de las cuencas\n",
    "cuenca = gpd.read_file(rutaGIS + \"mask_465_deva.shp\")\n",
    "#cuenca = gpd.read_file(rutaGIS + 'mask_1265.shp')"
   ]
  },
  {
   "cell_type": "code",
   "execution_count": 10,
   "metadata": {},
   "outputs": [],
   "source": [
    "## cargar DEM de la cuenca alta del Deva\n",
    "#dem100 = ascii2df(os.path.join(rutaBase, '../data/dem.asc'))\n",
    "#XXdem100 = dem100.columns\n",
    "#YYdem100 = dem100.index"
   ]
  },
  {
   "cell_type": "code",
   "execution_count": 11,
   "metadata": {},
   "outputs": [],
   "source": [
    "# importar mdt de la cuenca\n",
    "read_ascii(os.path.join(rutaGIS, 'dem_465_deva.asc'))\n",
    "dem = read_ascii.data\n",
    "ncols, nrows, xll, yll, cs, NODATA = read_ascii.attributes\n",
    "X = np.arange(xll, xll + ncols * cs, cs)\n",
    "Y = np.arange(yll, yll + nrows * cs, cs)[::-1]\n",
    "DEM = raster2D(dem, X, Y, CRS.from_epsg(25830))"
   ]
  },
  {
   "cell_type": "code",
   "execution_count": 12,
   "metadata": {},
   "outputs": [],
   "source": [
    "## recortar filas y columnas vacías\n",
    "#maskC = np.all(np.isnan(dem465), axis=0)\n",
    "#maskR = np.all(np.isnan(dem465), axis=1)\n",
    "#dem465 = dem465[~maskR,:][:,~maskC]\n",
    "#X = X[~maskC]\n",
    "#Y = Y[~maskR]\n",
    "\n",
    "#write_ascii(os.path.join(rutaGIS, 'dem_465_deva.asc'), dem.data, dem.attributes,\n",
    "#            format='%.1f ', epsg=dem.crs.to_epsg())"
   ]
  },
  {
   "cell_type": "code",
   "execution_count": 13,
   "metadata": {},
   "outputs": [
    {
     "data": {
      "image/png": "[encoded data removed]",
      "text/plain": [
       "<Figure size 432x432 with 1 Axes>"
      ]
     },
     "metadata": {},
     "output_type": "display_data"
    }
   ],
   "source": [
    "fig, ax = plt.subplots(figsize=(6, 6))\n",
    "\n",
    "#ESP.boundary.plot(ax=ax, edgecolor='gray', lw=1, ls=':')\n",
    "cuenca.boundary.plot(ax=ax, edgecolor='k')\n",
    "ax.imshow(DEM.data, cmap='pink', extent=DEM.extent)\n",
    "\n",
    "ax.set_title('DEM cuenca del DEVA-1265', fontsize=13, fontweight='bold')\n",
    "ax.set_aspect('equal')\n",
    "ax.axis('off');"
   ]
  },
  {
   "cell_type": "markdown",
   "metadata": {},
   "source": [
    "### Datos MODIS"
   ]
  },
  {
   "cell_type": "code",
   "execution_count": 14,
   "metadata": {},
   "outputs": [],
   "source": [
    "# rutas de entrada y salida\n",
    "rutaMODIS = 'C:/Users/jcr693/OneDrive - UNICAN - Estudiantes/Cartografia/MODIS/'\n",
    "# rutaExport = 'F:/Proyectos/GESDIVAH/SDM/Data/PdE/MODIS/'\n",
    "rutaExport = rutaBase + '../output/SnowCover/'\n",
    "if os.path.exists(rutaExport) == False:\n",
    "    os.makedirs(rutaExport)"
   ]
  },
  {
   "cell_type": "code",
   "execution_count": 15,
   "metadata": {},
   "outputs": [],
   "source": [
    "# parámetros de la extracción de datos de MODIS\n",
    "products = {'Terra': 'MOD10A2', 'Aqua': 'MYD10A2'}\n",
    "var = 'Maximum_Snow_Extent'\n",
    "units = '-'\n",
    "dateslim = ('2013-10-01', '2015-09-30')#None\n",
    "tiles = ['h17v04']\n",
    "clip = rutaBase + '../data/dem.asc'\n",
    "#ETRS89_30N = CRS.from_proj4('+proj=utm +zone=30 +ellps=GRS80 +units=m +no_defs') #'epsg:25830'\n",
    "coordsOut = DEM.crs\n",
    "cellsize = DEM.cellsize\n",
    "filename = 'MODIS_' + var + '.nc'"
   ]
  },
  {
   "cell_type": "markdown",
   "metadata": {},
   "source": [
    "```Python\n",
    "rutaProduct = rutaMODIS + 'MYD10A2/'\n",
    "for folder in os.listdir(rutaProduct):\n",
    "    if folder[-3:] in ['zip', 'xml', 'hdf']:\n",
    "        continue\n",
    "    else:\n",
    "        rutaDate = rutaProduct + folder + '/'\n",
    "        for file in os.listdir(rutaDate):\n",
    "            if file[-3:] == 'hdf':\n",
    "                copyfile(rutaDate + file, rutaProduct + file)\n",
    "            os.remove(rutaDate + file)\n",
    "        os.rmdir(rutaDate)\n",
    "```"
   ]
  },
  {
   "cell_type": "code",
   "execution_count": null,
   "metadata": {},
   "outputs": [],
   "source": [
    "if filename not in os.listdir(rutaExport):\n",
    "    "
   ]
  },
  {
   "cell_type": "code",
   "execution_count": 21,
   "metadata": {},
   "outputs": [
    {
     "name": "stdout",
     "output_type": "stream",
     "text": [
      "TERRA\n",
      "-----\n",
      "Seleccionar archivos\n",
      "nº de archivos (fechas):  92\n",
      "\n",
      "Generar atributos globales\n",
      "dimensión:\t\t(2400, 2400)\n",
      "esquina inf. izqda.:\t(-1111950.52, 4447802.08)\n",
      "esquina sup. dcha.:\t(      0.00, 5559752.60)\n",
      "\n",
      "Crear máscaras\n",
      "dimensión:\t\t(  48,   49)\n",
      "esquina inf. izqda.:\t(-394443.47, 4782916.80)\n",
      "esquina sup. dcha.:\t(-372195.19, 4804701.58)\n",
      "\n",
      "Importar datos\n",
      "Fecha 92 de 92: 2015-09-30\t||\tTile  1 de  1: h17v04\n",
      "Paso 92 de 92:\t2015-09-30\n",
      "\n",
      "AQUA\n",
      "----\n",
      "Seleccionar archivos\n",
      "nº de archivos (fechas):  92\n",
      "\n",
      "Generar atributos globales\n",
      "dimensión:\t\t(2400, 2400)\n",
      "esquina inf. izqda.:\t(-1111950.52, 4447802.08)\n",
      "esquina sup. dcha.:\t(      0.00, 5559752.60)\n",
      "\n",
      "Crear máscaras\n",
      "dimensión:\t\t(  48,   49)\n",
      "esquina inf. izqda.:\t(-394443.47, 4782916.80)\n",
      "esquina sup. dcha.:\t(-372195.19, 4804701.58)\n",
      "\n",
      "Importar datos\n",
      "Fecha 92 de 92: 2015-09-30\t||\tTile  1 de  1: h17v04\n",
      "Paso 92 de 92:\t2015-09-30\n",
      "\n"
     ]
    }
   ],
   "source": [
    "    ##########################\n",
    "    ### CARGAR DATOS BRUTOS###\n",
    "    ##########################\n",
    "    \n",
    "    # definir extensión a extraer de MODIS\n",
    "    left, bottom, right, top = cuenca.to_crs(sinusoidal).bounds.loc[0,:]\n",
    "    extent = [left - cellsize, right + cellsize, bottom - cellsize, top + cellsize]\n",
    "    \n",
    "    SC = {}\n",
    "    for sat in products:\n",
    "        print(sat.upper())\n",
    "        print('-' * len(sat))\n",
    "        product = products[sat]\n",
    "        \n",
    "        # extraer datos de MODIS\n",
    "        modis = MODIS_extract(rutaMODIS, product, var, tiles, dateslim=dateslim,\n",
    "                              extent=extent, verbose=True)\n",
    "\n",
    "        # reproyectar a UTM-30N según el vecino más cercano\n",
    "        modis.reproyectar(coordsOut, cellsize, n_neighbors=1, weights='distance', p=1,\n",
    "                          snap=DEM, inplace=True)\n",
    "\n",
    "        # recortar a la cuenca\n",
    "        modis.recortar(cuenca, buffer=10, inplace=True)\n",
    "        \n",
    "        # guardar datos como clase MODIS\n",
    "        SC[sat] = modis\n",
    "        \n",
    "        print('\\n')    \n",
    "\n",
    "    ######################\n",
    "    ### EXPORTAR DATOS ###\n",
    "    ######################\n",
    "    \n",
    "    # definir el netcdf\n",
    "    ncMODIS = Dataset(rutaExport + filename, 'w', format='NETCDF4')\n",
    "\n",
    "    # crear grupos\n",
    "    terra = ncMODIS.createGroup('Terra')\n",
    "    aqua = ncMODIS.createGroup('Aqua')\n",
    "\n",
    "    # crear atributos\n",
    "    ncMODIS.description = 'Serie temporal de mapas de SC de la cuenca del Deva obtenidos a partir de MODIS'\n",
    "    ncMODIS.history = 'Creado el ' + datetime.now().date().strftime('%Y-%m-%d')\n",
    "    ncMODIS.source = 'https://e4ftl01.cr.usgs.gov/'\n",
    "    ncMODIS.coordinateSystem = 'epsg:{0}'.format(modis.crs.to_epsg()) # 'SINUSOIDAL'\n",
    "\n",
    "    for group, sat, product in zip([terra, aqua], ['Terra', 'Aqua'], ['MOD16A2', 'MYD16A2']):\n",
    "        # crear las dimensiones\n",
    "        time = group.createDimension('time', len(SC[sat].times))\n",
    "        Y = group.createDimension('Y', len(SC[sat].Y))\n",
    "        X = group.createDimension('X', len(SC[sat].X))\n",
    "\n",
    "        # crear variables\n",
    "        Var = group.createVariable(product, 'f4', ('time', 'Y', 'X'))\n",
    "        Var.units = units\n",
    "        times = group.createVariable('time', 'f8', ('time',))\n",
    "        times.units = 'días desde el 0001-01-01'\n",
    "        times.calendar = 'Gregoriano'\n",
    "        Xs = group.createVariable('X', 'u4', ('X',))\n",
    "        Xs.units = 'm'\n",
    "        Ys = group.createVariable('Y', 'u4', ('Y',))\n",
    "        Ys.units = 'm'\n",
    "\n",
    "        # variable SC\n",
    "#         for ki in range(SC[sat]['SC'].shape[2]):\n",
    "#             et[ki,:,:] = SC[sat]['SC'][:,:,ki]\n",
    "        Var[:,:,:] = SC[sat].data[:,:,:]\n",
    "        # variable 'time'\n",
    "        deltas = [date - datetime(1, 1, 1).date() for date in SC[sat].times]\n",
    "        times[:] = [delta.days for delta in deltas]\n",
    "        # variable 'X'\n",
    "        Xs[:] = SC[sat].X # + cellsize / 2\n",
    "        # variable 'Y'\n",
    "        Ys[:] = SC[sat].Y # + cellsize / 2\n",
    "\n",
    "    ncMODIS.close()"
   ]
  },
  {
   "cell_type": "code",
   "execution_count": 24,
   "metadata": {},
   "outputs": [
    {
     "name": "stdout",
     "output_type": "stream",
     "text": [
      "<class 'netCDF4._netCDF4.Dataset'>\n",
      "root group (NETCDF4 data model, file format HDF5):\n",
      "    description: Serie temporal de mapas de SC de la cuenca del Deva obtenidos a partir de MODIS\n",
      "    history: Creado el 2020-12-04\n",
      "    source: https://e4ftl01.cr.usgs.gov/\n",
      "    coordinateSystem: epsg:25830\n",
      "    dimensions(sizes): \n",
      "    variables(dimensions): \n",
      "    groups: Terra, Aqua\n"
     ]
    }
   ],
   "source": [
    "###############################\n",
    "### IMPORTAR DATOS TRATADOS ###\n",
    "###############################\n",
    "\n",
    "# Cargar netcdf con los datos MODIS\n",
    "ncRead = Dataset(rutaExport + filename, 'r', format='NETCDF4')\n",
    "print(ncRead)\n",
    "\n",
    "# extraer datos en un diccionario\n",
    "SC = {}\n",
    "for sat, product in zip(['Terra', 'Aqua'], ['MOD16A2', 'MYD16A2']):\n",
    "    # evapotranspiración\n",
    "    data = ncRead[sat][product][::].data\n",
    "    units = ncRead[sat][product].units\n",
    "    # fechas\n",
    "    times = [datetime(1, 1, 1) + timedelta(time) for time in ncRead[sat]['time'][:].data]\n",
    "    # coordenadas\n",
    "    X = ncRead[sat]['X'][:].data\n",
    "    Y = ncRead[sat]['Y'][:].data\n",
    "    crs = CRS.from_epsg(ncRead.coordinateSystem.split(':')[1])\n",
    "    \n",
    "    SC[sat] = raster3D(data, X, Y, times, units=units, crs=crs)\n",
    "\n",
    "ncRead.close()"
   ]
  },
  {
   "cell_type": "code",
   "execution_count": 27,
   "metadata": {},
   "outputs": [
    {
     "data": {
      "image/png": "[encoded data removed]",
      "text/plain": [
       "<Figure size 864x432 with 2 Axes>"
      ]
     },
     "metadata": {},
     "output_type": "display_data"
    }
   ],
   "source": [
    "fig, axes = plt.subplots(ncols=2, figsize=(12, 6))\n",
    "t = 30\n",
    "\n",
    "for i, (sat, ax) in enumerate(zip(['Terra', 'Aqua'], axes)):\n",
    "    \n",
    "    SC[sat].plot(time=t, ax=ax)\n",
    "    cuenca.boundary.plot(ax=ax, edgecolor='k')\n",
    "\n",
    "    ax.set(xlim=(SC[sat].extent()[:2]),ylim=(SC[sat].extent()[2:]))\n",
    "    ax.set_title(sat, fontsize=13, fontweight='bold')\n",
    "    ax.set_aspect('equal')\n",
    "    ax.axis('off');"
   ]
  },
  {
   "cell_type": "markdown",
   "metadata": {},
   "source": [
    "## Análisis\n",
    "### 8 diario"
   ]
  },
  {
   "cell_type": "code",
   "execution_count": null,
   "metadata": {},
   "outputs": [],
   "source": [
    "from matplotlib import cm\n",
    "from matplotlib.colors import ListedColormap"
   ]
  },
  {
   "cell_type": "code",
   "execution_count": null,
   "metadata": {},
   "outputs": [],
   "source": [
    "viridis = cm.get_cmap('viridis', 11)\n",
    "newcolors = viridis(np.linspace(0, 1, 11))"
   ]
  },
  {
   "cell_type": "code",
   "execution_count": null,
   "metadata": {},
   "outputs": [],
   "source": [
    "colors = np.array(#[[1., 1., 1., 1.], # no decision\n",
    "                   #[0., 0., 0., 1.], # night\n",
    "                   [[99/255, 143/255, 89/255, 0.], # no snow\n",
    "                   #[93/255, 134/255, 245/255, 1.], # lake\n",
    "                   #[64/255, 109/255, 161/255, 1.], # ocean\n",
    "                   [100/255, 100/255, 100/255, 1.], # cloud\n",
    "                   #[120/255, 120/255, 220/255, 1.], # lake ice\n",
    "                   [220/255, 220/255, 220/255]]) # snow\n",
    "snowCmap = ListedColormap(colors)"
   ]
  },
  {
   "cell_type": "code",
   "execution_count": null,
   "metadata": {},
   "outputs": [],
   "source": [
    "snowClass = {0: 'missing data',\n",
    "             1: 'no decision',\n",
    "             11: 'night',\n",
    "             25: 'no snow',\n",
    "             37: 'lake',\n",
    "             39: 'ocean',\n",
    "             50: 'cloud',\n",
    "             100: 'lake ice',\n",
    "             200: 'snow',\n",
    "             254: 'detector saturated',\n",
    "             255: 'fill'}"
   ]
  },
  {
   "cell_type": "code",
   "execution_count": null,
   "metadata": {},
   "outputs": [],
   "source": [
    "# convertir en nan datos sin interés\n",
    "for sat in SC:\n",
    "    data = SC[sat].data\n",
    "    for clase in [0, 1, 11, 254, 255]:\n",
    "        data[data == clase] = np.nan"
   ]
  },
  {
   "cell_type": "code",
   "execution_count": null,
   "metadata": {},
   "outputs": [],
   "source": [
    "for sat in SC:\n",
    "    print(sat.upper())\n",
    "    print('-'*len(sat))\n",
    "    data = SC[sat].data\n",
    "    for clase in snowClass:\n",
    "        print('{0}: {1}'.format(snowClass[clase], sum(sum(sum(data == clase)))))\n",
    "    print()"
   ]
  },
  {
   "cell_type": "code",
   "execution_count": null,
   "metadata": {},
   "outputs": [],
   "source": [
    "# atributos del mapa\n",
    "X = SC['Terra'].X\n",
    "csX = int(np.diff(X).mean().round())\n",
    "xllcorner = X.min()\n",
    "ncols = X.shape[0]\n",
    "\n",
    "Y = SC['Terra'].Y\n",
    "csY = int(np.diff(Y).mean().round())\n",
    "yllcorner = Y.min()\n",
    "nrows = Y.shape[0]\n",
    "\n",
    "attrs = [ncols, nrows, xllcorner, yllcorner, csX, -9999]\n",
    "attrs"
   ]
  },
  {
   "cell_type": "code",
   "execution_count": null,
   "metadata": {},
   "outputs": [],
   "source": [
    "# guardar un mapa como ASCII\n",
    "#write_ascii(rutaExport + 'mapa.asc', SC['Terra']['SC'][i,:,:], attrs, epsg='25830')"
   ]
  },
  {
   "cell_type": "code",
   "execution_count": null,
   "metadata": {},
   "outputs": [],
   "source": [
    "i = 10\n",
    "plt.imshow(dem, cmap='pink', extent=[XXdem[0], XXdem[-1], YYdem[-1], YYdem[0]])\n",
    "im = plt.imshow(SC['Terra'].data[i,::-1,:], cmap=snowCmap, alpha=.7,\n",
    "                extent=[X.min(), X.max(), Y.min(), Y.max()])\n",
    "cb = plt.colorbar(im, shrink=.5)\n",
    "plt.axis('off');"
   ]
  },
  {
   "cell_type": "code",
   "execution_count": null,
   "metadata": {},
   "outputs": [],
   "source": [
    "plotMODISseries(SC, 'SC', 'dates', ylabel='Snow cover (-)', ymin=0)\n",
    "# plt.savefig(rutaExport + 'SC serie 8 días.png', dpi=300, tight_layout=True)"
   ]
  },
  {
   "cell_type": "code",
   "execution_count": null,
   "metadata": {},
   "outputs": [],
   "source": []
  },
  {
   "cell_type": "code",
   "execution_count": null,
   "metadata": {},
   "outputs": [],
   "source": [
    "def animate3Darray(data, dates, minmax, extent=None, dem=None, fps=2, dpi=100, pathfile=None, **kwargs):\n",
    "    \"\"\"\n",
    "    \"\"\"\n",
    "    \n",
    "    # extraer kwargs\n",
    "    figsize = kwargs.get('fisize', (5, 5))\n",
    "    cmap = kwargs.get('cmap', 'summer_r')\n",
    "    label = kwargs.get('label', '')\n",
    "    alpha = kwargs.get('alpha', 1)\n",
    "    \n",
    "    # definir configuración del gráfico en blanco\n",
    "    fig, ax = plt.subplots(figsize=figsize)\n",
    "    \n",
    "    if dem is not None:\n",
    "        plt.imshow(dem, cmap='pink', extent=extent)\n",
    "    ax.set_facecolor((1., 1., 1.))\n",
    "    im = ax.imshow(np.zeros(data.shape[1:]), extent=extent, animated=True, cmap=cmap, vmin=minmax[0], vmax=minmax[1], alpha=alpha)\n",
    "    plt.axis('off')\n",
    "    cb = plt.colorbar(im, shrink=.7)\n",
    "    cb.set_label(label, fontsize=12)\n",
    "    title = ax.text(.5, 1.05, '', fontsize=13, fontweight='bold',\n",
    "                    transform=ax.transAxes, horizontalalignment='center')\n",
    "\n",
    "    def updatefig(i, *args):\n",
    "        \"\"\"Función que define los zdatos a mostrar  el título en cada iteración\"\"\"\n",
    "        title.set_text(dates[i].date())\n",
    "        im.set_array(data[i,:,:])\n",
    "        return im,\n",
    "\n",
    "    # genera la animación iterando sobre 'updatefig' un número 'frames' de veces\n",
    "    ani = animation.FuncAnimation(fig, updatefig, frames=data.shape[0], interval=1000/fps,\n",
    "                                  blit=True)\n",
    "    # guardar vídeo\n",
    "    if pathfile is not None:\n",
    "        ani.save(pathfile, fps=fps, extra_args=['-vcodec', 'libx264'], dpi=dpi)\n",
    "        #ani.save(pathfile, writer=animation.PillowWriter, dpi=dpi)#, fps=fps)\n",
    "    # plt.show()\n",
    "\n",
    "    # ver vídeo en el 'notebook'\n",
    "    #return ani.to_html5_video()\n",
    "    return HTML(ani.to_html5_video())"
   ]
  },
  {
   "cell_type": "code",
   "execution_count": null,
   "metadata": {},
   "outputs": [],
   "source": [
    "# video of Terra's 8-daily data\n",
    "animate3Darray(SC['Terra']['SC'], SC['Terra']['dates'], extent=[X.min(), X.max(), Y.min(), Y.max()],\n",
    "               dem=dem, minmax=[0, 200], cmap=snowCmap, fps=1, pathfile=rutaExport + 'SCdeva_MODIS-Terra.mp4', alpha=.75)"
   ]
  },
  {
   "cell_type": "code",
   "execution_count": null,
   "metadata": {},
   "outputs": [],
   "source": [
    "# video of Aqua's 8-daily data\n",
    "animate3Darray(SC['Aqua']['SC'], SC['Aqua']['dates'], minmax=[0, 60],\n",
    "               cblabel='SC 8 días (mm)', fps=8, pathfile=rutaExport + 'SCdeva_MODIS-Aqua.mp4')"
   ]
  },
  {
   "cell_type": "markdown",
   "metadata": {},
   "source": [
    "### Mensual\n",
    "__Medias mensuales__"
   ]
  },
  {
   "cell_type": "code",
   "execution_count": null,
   "metadata": {},
   "outputs": [],
   "source": [
    "def mediaMensual(dates, data):\n",
    "    \"\"\"\n",
    "    \"\"\"\n",
    "    \n",
    "    # medias mensuales\n",
    "    meanM = np.zeros((12, data.shape[1], data.shape[2])) * np.nan\n",
    "    for m, month in enumerate(range(1, 13)):\n",
    "        ks = [k for k, date in enumerate(dates) if date.month == month]\n",
    "        meanM[m,:,:] = np.nanmean(data[ks,:,:], axis=0)\n",
    "        \n",
    "    return meanM"
   ]
  },
  {
   "cell_type": "code",
   "execution_count": null,
   "metadata": {},
   "outputs": [],
   "source": [
    "# generar medias mensuales\n",
    "for sat in SC.keys():\n",
    "    SC[sat]['meanMSC'] = mediaMensual(SC[sat]['dates'], SC[sat]['SC'])"
   ]
  },
  {
   "cell_type": "code",
   "execution_count": null,
   "metadata": {},
   "outputs": [],
   "source": [
    "ncols = 6\n",
    "nrows = int(np.ceil(12 / ncols)) * 2\n",
    "fig, ax = plt.subplots(nrows=nrows, ncols=ncols, figsize=(2.75*ncols, 2.75*nrows))\n",
    "fig.subplots_adjust(right=0.9)\n",
    "\n",
    "r = 10\n",
    "vmin = np.floor(min([np.nanmin(SC[sat]['meanMSC']) for sat in SC.keys()]) / r) * r\n",
    "vmax = np.ceil(max([np.nanmax(SC[sat]['meanMSC']) for sat in SC.keys()]) / r) * r\n",
    "cmaps = ['summer_r', 'Blues']\n",
    "\n",
    "for s, (sat, cmap) in enumerate(zip(SC.keys(), cmaps)):\n",
    "    for k, month in enumerate(range(1, 13)):\n",
    "        f, c = int(k / ncols) + s * 2, k % ncols\n",
    "        im = ax[f,c].imshow(SC[sat]['meanMSC'][k,:,:], cmap=cmap, vmin=vmin, vmax=vmax)\n",
    "        ax[f,c].set_title(datetime(1900, month, 1).strftime('%b'), fontsize=13)\n",
    "        ax[f,c].axis('off')\n",
    "    \n",
    "    cbar_ax = fig.add_axes([0.925, 0.6 - 0.4 * s, 0.01, 0.2])\n",
    "    cbar_ax.tick_params(labelsize=12)\n",
    "    cb = plt.colorbar(im, cax=cbar_ax, orientation='vertical')\n",
    "    cb.set_label('mm/mes', fontsize=14)\n",
    "    fig.text(0.1, 0.7  - 0.4 * s, sat, fontsize=14, fontweight='bold', rotation=90,\n",
    "             verticalalignment='center')\n",
    "fig.text(0.5, .92, 'SC mensual', fontsize=15, fontweight='bold', horizontalalignment='center');\n",
    "plt.savefig(rutaExport + 'SC medias mensuales.png', dpi=300, tight_layout=True)"
   ]
  },
  {
   "cell_type": "code",
   "execution_count": null,
   "metadata": {},
   "outputs": [],
   "source": [
    "# mostrar la media mensual para cada celda y la media de la cuenca\n",
    "fig, axes = plt.subplots(ncols=2, figsize=(15, 3.5), sharey=True)\n",
    "\n",
    "r = 10\n",
    "ymax = np.ceil(max([np.nanmax(SC[sat]['meanMSC']) for sat in SC.keys()]) / r) * r\n",
    "colors = [['yellowgreen', 'darkolivegreen'], ['lightsteelblue', 'steelblue']]\n",
    "\n",
    "for c, (ax, sat) in enumerate(zip(axes, SC.keys())):\n",
    "    meanMSCx = SC[sat]['meanMSC']\n",
    "    for i in range(meanMSCx.shape[1]):\n",
    "        for j in range(meanMSCx.shape[2]):\n",
    "            if np.isnan(meanMSCx[:,i,j]).sum() == meanMSCx.shape[0]: # celda vacía\n",
    "                continue\n",
    "            else:\n",
    "                ax.plot(meanMSCx[:,i,j], lw=.25, c=colors[c][0], alpha=.25)\n",
    "    ax.plot(np.nanmean(meanMSCx, axis=(1, 2)), c=colors[c][1], lw=1.2)\n",
    "    ax.tick_params(labelsize=11)\n",
    "    ax.set(xlim=(0, 11), ylim=(0, ymax))\n",
    "    if c == 0:\n",
    "        ax.set_ylabel('SC mensual (mm)', fontsize=13);\n",
    "    monthnames = [datetime(1900, m, 1).strftime('%b') for m in range(1, 13)]\n",
    "    ax.set_xticklabels(monthnames[::2])\n",
    "    ax.set_title(sat, fontsize=13, fontweight='bold')\n",
    "plt.savefig(rutaExport + 'SC serie medias mensuales.png', dpi=300, tight_layout=True)"
   ]
  },
  {
   "cell_type": "markdown",
   "metadata": {},
   "source": [
    "#### Serie mensual"
   ]
  },
  {
   "cell_type": "code",
   "execution_count": null,
   "metadata": {},
   "outputs": [],
   "source": [
    "def serieMensual(dates, SC):\n",
    "    \"\"\"\n",
    "    \"\"\"\n",
    "    \n",
    "    start = datetime(dates[0].year, dates[0].month, 1).date()\n",
    "    end = dates[-1] + timedelta(8)\n",
    "    end = datetime(end.year, end.month, monthrange(end.year, end.month)[1]).date()\n",
    "    days = pd.date_range(start, end)\n",
    "    months = pd.date_range(start, end, freq='M')\n",
    "    len(days), len(months)\n",
    "\n",
    "    # serie mensuales\n",
    "    serieMSC = np.zeros((len(months), SC.shape[1], SC.shape[2])) * np.nan\n",
    "    for i in range(SC.shape[1]):\n",
    "        for j in range(SC.shape[2]):\n",
    "            print('celda {0:>5} de {1:>5}'.format(i * SC.shape[2] + j + 1,\n",
    "                                                  SC.shape[1] * SC.shape[2]), end='\\r')\n",
    "            if np.isnan(SC[:,i,j]).sum() == SC.shape[0]: # ningún dato en toda la serie\n",
    "                continue\n",
    "            else:\n",
    "                # generar serie diaria\n",
    "                auxd = pd.Series(index=days)\n",
    "                for k, (st, et) in enumerate(zip(dates, SC[:,i,j])):\n",
    "                    if np.isnan(et):\n",
    "                        continue\n",
    "                    else:\n",
    "                        if st != dates[-1]:\n",
    "                            en = dates[k+1]\n",
    "                        else:\n",
    "                            en = st + timedelta(8)\n",
    "                        auxd[st:en - timedelta(1)] = et / (en - st).days\n",
    "                # generar serie mensual\n",
    "                auxm = auxd.groupby([auxd.index.year, auxd.index.month]).agg(np.nanmean)\n",
    "                auxm.index = [datetime(idx[0], idx[1], monthrange(idx[0], idx[1])[1]).date() for idx in auxm.index]\n",
    "                # asignar serie mensual a su celda en el array 3D\n",
    "                serieMSC[:,i,j] = auxm.iloc[:serieMSC.shape[0]].copy()\n",
    "                del auxd, auxm\n",
    "    return serieMSC, months"
   ]
  },
  {
   "cell_type": "code",
   "execution_count": null,
   "metadata": {},
   "outputs": [],
   "source": [
    "# generar series de SC mensual\n",
    "for sat in SC.keys():\n",
    "    SC[sat]['serieMSC'], SC[sat]['months'] = serieMensual(SC[sat]['dates'], SC[sat]['SC'])"
   ]
  },
  {
   "cell_type": "code",
   "execution_count": null,
   "metadata": {},
   "outputs": [],
   "source": [
    "plotMODISseries(SC, 'serieMSC', 'months', r=2, ylabel='SC')\n",
    "plt.savefig(rutaExport + 'SC serie mensual.png', dpi=300, tight_layout=True)"
   ]
  },
  {
   "cell_type": "code",
   "execution_count": null,
   "metadata": {},
   "outputs": [],
   "source": [
    "# video of monthly-aggregated Terra's data\n",
    "animate3Darray(SC['Terra']['serieMSC'], SC['Terra']['months'], minmax=[0, 10],\n",
    "               cblabel='SC (mm)', fps=2, dpi=200,\n",
    "               pathfile=rutaExport + 'SCdeva_MODIS-Terra.mp4')"
   ]
  },
  {
   "cell_type": "code",
   "execution_count": null,
   "metadata": {},
   "outputs": [],
   "source": [
    "animate3Darray(SC['Aqua']['serieMSC'], SC['Aqua']['months'], minmax=[0, 10],\n",
    "               cblabel='SC (mm)', fps=2, dpi=200,\n",
    "               pathfile=rutaExport + 'SCdeva_MODIS-Aqua.mp4')"
   ]
  },
  {
   "cell_type": "markdown",
   "metadata": {},
   "source": [
    "### Anual\n",
    "__Media anual__"
   ]
  },
  {
   "cell_type": "code",
   "execution_count": null,
   "metadata": {},
   "outputs": [],
   "source": [
    "for sat in SC.keys():\n",
    "    SC[sat]['meanASC'] = np.nanmean(SC[sat]['SC'], axis=0) * 365 / 8"
   ]
  },
  {
   "cell_type": "code",
   "execution_count": null,
   "metadata": {},
   "outputs": [],
   "source": [
    "# mapa de SC media anual\n",
    "fig, axes = plt.subplots(ncols=2, figsize=(8, 4))\n",
    "\n",
    "r = 100\n",
    "vmin = np.floor(min([np.nanmin(SC[sat]['meanASC']) for sat in SC.keys()]) / r) * r\n",
    "vmax = np.ceil(max([np.nanmax(SC[sat]['meanASC']) for sat in SC.keys()]) / r) * r\n",
    "\n",
    "cmaps = ['summer_r', 'Blues']\n",
    "\n",
    "for c, (ax, sat) in enumerate(zip(axes, SC.keys())):\n",
    "    im = ax.imshow(SC[sat]['meanASC'], cmap=cmaps[c], vmin=vmin, vmax=vmax)\n",
    "    divider = make_axes_locatable(ax)\n",
    "    cax = divider.append_axes('right', size='5%', pad=0.05)\n",
    "    fig.colorbar(im, cax=cax, orientation='vertical')\n",
    "    ax.set_title(sat, fontsize=13, fontweight='bold')\n",
    "    ax.axis('off');\n",
    "plt.savefig(rutaExport + 'SC mapa media anual.png', dpi=300, tight_layout=True)"
   ]
  },
  {
   "cell_type": "markdown",
   "metadata": {},
   "source": [
    "__Serie anual__"
   ]
  },
  {
   "cell_type": "code",
   "execution_count": null,
   "metadata": {},
   "outputs": [],
   "source": [
    "def serieAnual(dates, SC):\n",
    "    \n",
    "    # años con datos suficientes\n",
    "    years = np.unique(np.array([date.year for date in dates]))\n",
    "    ksyear = {}\n",
    "    for year in years:\n",
    "        ks = [k for k, date in enumerate(dates) if date.year == year]\n",
    "        if len(ks) < 40: # si faltan más de 5 mapas en un año \n",
    "            years = years[years != year]\n",
    "            continue\n",
    "        else:\n",
    "            ksyear[year] = ks\n",
    "\n",
    "    # medias anuales        \n",
    "    serieASC = np.zeros((len(years), SC.shape[1], SC.shape[2])) * np.nan\n",
    "    for y, year in enumerate(years):\n",
    "        serieASC[y,:,:] = np.nanmean(SC[ksyear[year],:,:], axis=0) * 365 / 8\n",
    "        \n",
    "    return serieASC, years"
   ]
  },
  {
   "cell_type": "code",
   "execution_count": null,
   "metadata": {},
   "outputs": [],
   "source": [
    "# generar series de SC anual\n",
    "for sat in SC.keys():\n",
    "    SC[sat]['serieASC'], SC[sat]['years'] = serieAnual(SC[sat]['dates'], SC[sat]['SC'])"
   ]
  },
  {
   "cell_type": "code",
   "execution_count": null,
   "metadata": {},
   "outputs": [],
   "source": [
    "plotMODISseries(SC, 'serieASC', 'years', r=100, ylabel='SC anual (mm)', lw=.25, alpha=.25)\n",
    "plt.savefig(rutaExport + 'SC serie anual.png', dpi=300, tight_layout=True)"
   ]
  },
  {
   "cell_type": "code",
   "execution_count": null,
   "metadata": {},
   "outputs": [],
   "source": [
    "ymin = min([np.min(SC[sat]['years']) for sat in SC.keys()])\n",
    "ymax = max([np.max(SC[sat]['years']) for sat in SC.keys()])\n",
    "years = np.arange(ymin, ymax + 1)\n",
    "\n",
    "ncols = 6\n",
    "nrows = int(np.ceil(len(years) / ncols)) * 2\n",
    "fig, ax = plt.subplots(nrows=nrows, ncols=ncols, figsize=(2.75*ncols, 2.75*nrows))\n",
    "fig.subplots_adjust(bottom=0.1)\n",
    "\n",
    "r = 100\n",
    "vmin = np.floor(min([np.nanmin(SC[sat]['serieASC']) for sat in SC.keys()]) / r) * r\n",
    "vmax = np.ceil(max([np.nanmax(SC[sat]['serieASC']) for sat in SC.keys()]) / r) * r\n",
    "cmaps = ['summer_r', 'Blues']\n",
    "\n",
    "for s, (sat, cmap) in enumerate(zip(SC.keys(), cmaps)):\n",
    "    for y, year in enumerate(years):\n",
    "        f, c = int(y / ncols + s * (nrows / 2)), y % ncols\n",
    "        if year in SC[sat]['years']:\n",
    "            k = np.where(year == SC[sat]['years'])[0][0]\n",
    "            im = ax[f,c].imshow(SC[sat]['serieASC'][k,:,:], cmap=cmap, vmin=vmin, vmax=vmax)\n",
    "            ax[f,c].set_title(year, fontsize=13)\n",
    "            ax[f,c].axis('off')\n",
    "        else:\n",
    "            ax[f,c].axis('off')\n",
    "    \n",
    "    cbar_ax = fig.add_axes([0.92, 0.6  - .4 * s, 0.01, 0.2])\n",
    "    cbar_ax.tick_params(labelsize=12)\n",
    "    cb = plt.colorbar(im, cax=cbar_ax, orientation='vertical')\n",
    "    cb.set_label('mm/año', fontsize=13)\n",
    "    fig.text(.1, .7 - .4 * s, sat, fontsize=14, fontweight='bold', rotation=90,\n",
    "             verticalalignment='center')\n",
    "fig.text(.5, .92, 'SC anual', fontsize=15, fontweight='bold',\n",
    "         horizontalalignment='center');\n",
    "plt.savefig(rutaExport + 'SC mapas anuales.png', dpi=300, tight_layout=True)"
   ]
  },
  {
   "cell_type": "markdown",
   "metadata": {},
   "source": [
    "## EOF\n",
    "### Terra"
   ]
  },
  {
   "cell_type": "code",
   "execution_count": null,
   "metadata": {},
   "outputs": [],
   "source": [
    "eofMODIS(SC['Terra']['serieASC'], SC['Terra']['Y'], nmodes=4, coordsIn='epsg:25830',\n",
    "         lons=SC['Terra']['X'], plot='corr')\n",
    "\n",
    "eofs = eofMODIS.eofs\n",
    "pcs = eofMODIS.pcs\n",
    "corr = eofMODIS.correlation\n",
    "var = eofMODIS.explainedVariance\n",
    "plt.savefig(rutaExport + 'SC eofs-Terra anual.png', dpi=300, tight_layout=True)"
   ]
  },
  {
   "cell_type": "markdown",
   "metadata": {},
   "source": [
    "### Aqua"
   ]
  },
  {
   "cell_type": "code",
   "execution_count": null,
   "metadata": {},
   "outputs": [],
   "source": [
    "eofMODIS(SC['Aqua']['serieASC'], SC['Aqua']['Y'], nmodes=4, coordsIn='epsg:25830',\n",
    "         lons=SC['Aqua']['X'], plot='corr')\n",
    "\n",
    "eofs = eofMODIS.eofs\n",
    "pcs = eofMODIS.pcs\n",
    "corr = eofMODIS.correlation\n",
    "var = eofMODIS.explainedVariance\n",
    "plt.savefig(rutaExport + 'SC eofs-Aqua anual.png', dpi=300, tight_layout=True)"
   ]
  },
  {
   "cell_type": "markdown",
   "metadata": {},
   "source": [
    "<font color='indianred'>__¡Hay que completar los datos!__ El paquete `eof` elimina las celdas en las que hay algún NaN."
   ]
  },
  {
   "cell_type": "code",
   "execution_count": null,
   "metadata": {},
   "outputs": [],
   "source": [
    "# At · A = Lambda\n",
    "AtA = np.matrix(pcs) * np.matrix(np.transpose(pcs))\n",
    "Lambda = np.diag(lambdas)"
   ]
  },
  {
   "cell_type": "code",
   "execution_count": null,
   "metadata": {},
   "outputs": [],
   "source": [
    "reconstructed_data = solver.reconstructedField(4)\n",
    "pseudo_pcs = solver.projectField(other_field)"
   ]
  },
  {
   "cell_type": "code",
   "execution_count": null,
   "metadata": {},
   "outputs": [],
   "source": [
    "# 'SOLVERS' multivariable\n",
    "from eofs.multivariate.standard import MultivariateEof\n",
    "msolver = MultivariateEof([data1, data2, data3])\n",
    "eofs_data1, eofs_data2, eofs_data3 = msolver.eofs()\n",
    "pcs = msolver.pcs()"
   ]
  },
  {
   "cell_type": "markdown",
   "metadata": {},
   "source": [
    "### EOF"
   ]
  },
  {
   "cell_type": "code",
   "execution_count": null,
   "metadata": {},
   "outputs": [],
   "source": [
    "data[0,:,:].flatten()"
   ]
  },
  {
   "cell_type": "code",
   "execution_count": null,
   "metadata": {},
   "outputs": [],
   "source": [
    "# matriz F: filas, pasos temporales; columnas, puntos en el espacio\n",
    "F = data.reshape((data.shape[0], data.shape[1] * data.shape[2]))\n",
    "F.shape"
   ]
  },
  {
   "cell_type": "code",
   "execution_count": null,
   "metadata": {},
   "outputs": [],
   "source": [
    "# # eliminar filas sin ningún dato\n",
    "# F = F[np.nansum(np.isnan(F), axis=1) == 0]"
   ]
  },
  {
   "cell_type": "code",
   "execution_count": null,
   "metadata": {},
   "outputs": [],
   "source": [
    "# eliminar la media de cada columna\n",
    "F_ = F - np.nanmean(F, axis=0)"
   ]
  },
  {
   "cell_type": "code",
   "execution_count": null,
   "metadata": {},
   "outputs": [],
   "source": [
    "# matriz de covarianza\n",
    "np.transpose(F)"
   ]
  },
  {
   "cell_type": "code",
   "execution_count": null,
   "metadata": {},
   "outputs": [],
   "source": [
    "plt.imshow(np.cov(F_))"
   ]
  },
  {
   "cell_type": "code",
   "execution_count": null,
   "metadata": {},
   "outputs": [],
   "source": [
    "# calcular anomalías \n",
    "anomSCx = SCx - meanASCx\n",
    "plt.imshow(np.nanmin(anomSCx, axis=0), cmap='coolwarm');"
   ]
  },
  {
   "cell_type": "code",
   "execution_count": null,
   "metadata": {},
   "outputs": [],
   "source": [
    "# Create an EOF solver to do the EOF analysis. Square-root of cosine of\n",
    "# latitude weights are applied before the computation of EOFs.\n",
    "coslat = np.cos(np.deg2rad(lats)).clip(0., 1.)\n",
    "wgts = np.sqrt(coslat)[..., np.newaxis]\n",
    "solver = Eof(z_djf, weights=wgts)"
   ]
  },
  {
   "cell_type": "code",
   "execution_count": null,
   "metadata": {},
   "outputs": [],
   "source": []
  },
  {
   "cell_type": "code",
   "execution_count": null,
   "metadata": {},
   "outputs": [],
   "source": []
  },
  {
   "cell_type": "code",
   "execution_count": null,
   "metadata": {},
   "outputs": [],
   "source": []
  },
  {
   "cell_type": "code",
   "execution_count": null,
   "metadata": {},
   "outputs": [],
   "source": []
  },
  {
   "cell_type": "code",
   "execution_count": null,
   "metadata": {},
   "outputs": [],
   "source": [
    "import iris\n",
    "from eofs.iris import Eof"
   ]
  },
  {
   "cell_type": "code",
   "execution_count": null,
   "metadata": {
    "scrolled": true
   },
   "outputs": [],
   "source": [
    "# # read a spatial-temporal field, time must be the first dimension\n",
    "sst = iris.load_cube(test)\n",
    "# sst"
   ]
  },
  {
   "cell_type": "code",
   "execution_count": null,
   "metadata": {},
   "outputs": [],
   "source": [
    "# create a solver class, taking advantage of built-in weighting\n",
    "solver = Eof(test, weights='coslat')"
   ]
  },
  {
   "cell_type": "code",
   "execution_count": null,
   "metadata": {},
   "outputs": [],
   "source": []
  },
  {
   "cell_type": "code",
   "execution_count": null,
   "metadata": {},
   "outputs": [],
   "source": []
  },
  {
   "cell_type": "markdown",
   "metadata": {},
   "source": [
    "##### Toda la hoja MODIS"
   ]
  },
  {
   "cell_type": "code",
   "execution_count": null,
   "metadata": {},
   "outputs": [],
   "source": [
    "# Mapas de SC de la cuenca del Deva\n",
    "MODIS_maps(rutaMODIS, files, var='SC_500m', coordsOut='epsg:25830')\n",
    "data = MODIS_maps.data\n",
    "XX, YY = MODIS_maps.Xcoords, MODIS_maps.Ycoords\n",
    "\n",
    "print('filas: {0:>3}\\tcolumnas: {1:>3}\\tfechas: {2:>3}'.format(*data.shape))"
   ]
  },
  {
   "cell_type": "code",
   "execution_count": null,
   "metadata": {},
   "outputs": [],
   "source": [
    "# SC media en el periodo\n",
    "datamean = np.nanmean(data, axis=2)"
   ]
  },
  {
   "cell_type": "code",
   "execution_count": null,
   "metadata": {},
   "outputs": [],
   "source": [
    "fig, ax = plt.subplots(figsize=(8, 8))\n",
    "\n",
    "# provincias\n",
    "ESP.geometry.boundary.plot(ax=ax, edgecolor='k', lw=.8, zorder=3)\n",
    "# SC\n",
    "SCmap = ax.scatter(XX, YY, marker='s', c=datamean, cmap='summer_r', s=1, zorder=1)\n",
    "cb = plt.colorbar(SCmap, shrink=.5)\n",
    "cb.set_label('mm', fontsize=12)\n",
    "\n",
    "\n",
    "# configuración\n",
    "ax.set(xlim=(-20000, 600000), ylim=(4500000, 4900000))\n",
    "ax.set_title('SC media', fontsize=13, fontweight='bold');\n",
    "ax.set_axis_off();"
   ]
  },
  {
   "cell_type": "markdown",
   "metadata": {},
   "source": [
    "##### Cuenca del Deva"
   ]
  },
  {
   "cell_type": "code",
   "execution_count": null,
   "metadata": {},
   "outputs": [],
   "source": [
    "# Mapas de SC de la cuenca del Deva\n",
    "MODIS_maps(rutaMODIS, files, var='ET_500m', coordsOut='epsg:25830', basin=dem)\n",
    "datab = MODIS_maps.data\n",
    "XXb, YYb, datesb = MODIS_maps.Xcoords, MODIS_maps.Ycoords, MODIS_maps.dates\n",
    "\n",
    "print('filas: {0:>3}\\tcolumnas: {1:>3}\\tfechas: {2:>3}'.format(*datab.shape))"
   ]
  },
  {
   "cell_type": "code",
   "execution_count": null,
   "metadata": {
    "scrolled": true
   },
   "outputs": [],
   "source": [
    "# años con datos\n",
    "years = np.unique(np.array([date.year for date in datesb]))\n",
    "years"
   ]
  },
  {
   "cell_type": "code",
   "execution_count": null,
   "metadata": {
    "scrolled": true
   },
   "outputs": [],
   "source": [
    "# medias anuales\n",
    "databyear = np.zeros((datab.shape[0], datab.shape[1], len(years))) * np.nan\n",
    "for y, year in enumerate(years):\n",
    "    ks = [k for k, date in enumerate(datesb) if date.year == year]\n",
    "    if len(ks) < 40:\n",
    "        years.remove(year)\n",
    "        continue\n",
    "    else:\n",
    "        print(year)\n",
    "        databyear[:,:,y] = np.nanmean(datab[:,:,ks], axis=2)"
   ]
  },
  {
   "cell_type": "code",
   "execution_count": null,
   "metadata": {},
   "outputs": [],
   "source": [
    "if 'databyear' in locals():\n",
    "    np.dstack((databyear, np.nanmean(datab[:,:,ks], axis=2)))\n",
    "else:\n",
    "    databyear = np.nanmean(datab[:,:,ks], axis=2)"
   ]
  },
  {
   "cell_type": "code",
   "execution_count": null,
   "metadata": {},
   "outputs": [],
   "source": []
  },
  {
   "cell_type": "code",
   "execution_count": null,
   "metadata": {},
   "outputs": [],
   "source": []
  },
  {
   "cell_type": "code",
   "execution_count": null,
   "metadata": {},
   "outputs": [],
   "source": []
  },
  {
   "cell_type": "code",
   "execution_count": null,
   "metadata": {},
   "outputs": [],
   "source": []
  },
  {
   "cell_type": "code",
   "execution_count": null,
   "metadata": {},
   "outputs": [],
   "source": [
    "tyear = 2002"
   ]
  },
  {
   "cell_type": "code",
   "execution_count": null,
   "metadata": {},
   "outputs": [],
   "source": [
    "# ET amedia en el periodo\n",
    "databmean = np.nanmean(datab, axis=2)"
   ]
  },
  {
   "cell_type": "raw",
   "metadata": {},
   "source": []
  },
  {
   "cell_type": "code",
   "execution_count": null,
   "metadata": {},
   "outputs": [],
   "source": [
    "fig, ax = plt.subplots(figsize=(8, 8))\n",
    "\n",
    "# provincias\n",
    "ESP.geometry.boundary.plot(ax=ax, edgecolor='k', lw=1, ls='--', zorder=2)\n",
    "# ET\n",
    "ETmap = ax.scatter(ET['Terra']['XX'], ET['Terra']['YY'], marker='s', c=ET['Terra']['meanAET'],\n",
    "                   cmap='YlGn', s=20, zorder=2)\n",
    "cb = plt.colorbar(ETmap, shrink=.5)\n",
    "cb.set_label('mm', fontsize=12)\n",
    "# mdt\n",
    "ax.imshow(dem, cmap='pink', extent=[XXdem[0], XXdem[-1], YYdem[-1], YYdem[0]], zorder=1)\n",
    "\n",
    "# configuración\n",
    "ax.set_title('ET media', fontsize=13, fontweight='bold')\n",
    "ax.axis('off');"
   ]
  },
  {
   "cell_type": "code",
   "execution_count": null,
   "metadata": {},
   "outputs": [],
   "source": [
    "plt.figure(figsize=(8, 8))\n",
    "plt.imshow(dem, cmap='pink', extent=[XXdem[0], XXdem[-1], YYdem[-1], YYdem[0]], zorder=1)\n",
    "plt.imshow(ET['Terra']['meanAET'], extent=[XXa[0,0], XXa[-1,-1], YYa[-1,-1], YYa[0,0]])"
   ]
  },
  {
   "cell_type": "code",
   "execution_count": null,
   "metadata": {},
   "outputs": [],
   "source": [
    "[XXa[0,0], XXa[-1,-1], YYa[-1,-1], YYa[0,0]]"
   ]
  },
  {
   "cell_type": "code",
   "execution_count": null,
   "metadata": {},
   "outputs": [],
   "source": []
  }
 ],
 "metadata": {
  "kernelspec": {
   "display_name": "Python 3",
   "language": "python",
   "name": "python3"
  },
  "language_info": {
   "codemirror_mode": {
    "name": "ipython",
    "version": 3
   },
   "file_extension": ".py",
   "mimetype": "text/x-python",
   "name": "python",
   "nbconvert_exporter": "python",
   "pygments_lexer": "ipython3",
   "version": "3.9.0"
  },
  "varInspector": {
   "cols": {
    "lenName": 16,
    "lenType": 16,
    "lenVar": 40
   },
   "kernels_config": {
    "python": {
     "delete_cmd_postfix": "",
     "delete_cmd_prefix": "del ",
     "library": "var_list.py",
     "varRefreshCmd": "print(var_dic_list())"
    },
    "r": {
     "delete_cmd_postfix": ") ",
     "delete_cmd_prefix": "rm(",
     "library": "var_list.r",
     "varRefreshCmd": "cat(var_dic_list()) "
    }
   },
   "types_to_exclude": [
    "module",
    "function",
    "builtin_function_or_method",
    "instance",
    "_Feature"
   ],
   "window_display": false
  }
 },
 "nbformat": 4,
 "nbformat_minor": 4
}
