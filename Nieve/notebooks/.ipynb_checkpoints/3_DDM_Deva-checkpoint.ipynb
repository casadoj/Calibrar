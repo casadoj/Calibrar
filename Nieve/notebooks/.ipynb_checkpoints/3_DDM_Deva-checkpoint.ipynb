{
 "cells": [
  {
   "cell_type": "markdown",
   "metadata": {},
   "source": [
    "# Modelo de nieve en el Deva\n",
    "***\n",
    "_Autor:_    __Jesús Casado__ <br> _Revisión:_ __6/12/2019__ <br>\n",
    "\n",
    "__Introducción__<br>\n",
    "Se aplica el método grado-día sobre un caso ejemplo, la cuenca alta del río Deva.\n",
    "\n",
    "__Cosas a mejorar__ <br>\n",
    "* La temperatura a usar puede ser la mínima o la media. Analizar.\n",
    "* Reclasificar datos de MODIS en binarios (cubierto, no cubierto, NaN para nubes).\n",
    "* Reclasficiar resultados del modelo grado-día.\n",
    "* Combinar datos de Terra y Aqua para evitar huecos.\n",
    "\n",
    "***\n",
    "\n",
    "__Índice__ <br>\n",
    "[__1. Datos__](#1.-Datos)<br>\n",
    "[1.1 Nieve MODIS](#1.1-Nieve-MODIS)<br>\n",
    "[1.2 Precipitación y temperatura](#1.2-Precipitación-y-temperatura)<br>\n",
    "[1.3 Radiación](#1.3-Radiación)<br>\n",
    "\n",
    "[__2. Método de grado-día__](#2.-Método-de-grado-día)<br>\n",
    "\n",
    "[__3. Rendimiento__](#3.-Rendimiento)<br>"
   ]
  },
  {
   "cell_type": "code",
   "execution_count": 1,
   "metadata": {},
   "outputs": [],
   "source": [
    "import os\n",
    "import numpy as np\n",
    "import numpy.ma as ma\n",
    "import pandas as pd\n",
    "import matplotlib.pyplot as plt\n",
    "from pandas.plotting import register_matplotlib_converters\n",
    "register_matplotlib_converters()\n",
    "import seaborn as sns\n",
    "sns.set()\n",
    "from netCDF4 import Dataset\n",
    "from datetime import date, datetime, timedelta\n",
    "import geopandas as gpd\n",
    "from calendar import monthrange"
   ]
  },
  {
   "cell_type": "code",
   "execution_count": 2,
   "metadata": {},
   "outputs": [],
   "source": [
    "rutaBase = os.getcwd().replace('\\\\', '/') + '/'"
   ]
  },
  {
   "cell_type": "code",
   "execution_count": 3,
   "metadata": {},
   "outputs": [],
   "source": [
    "os.chdir(rutaBase + '../../py/')\n",
    "from funciones_modelo_nieve import *\n",
    "from funciones_raster import *\n",
    "from funciones_rendimiento_espacial import *\n",
    "#from class_MODIS import *\n",
    "os.chdir(rutaBase)"
   ]
  },
  {
   "cell_type": "code",
   "execution_count": 4,
   "metadata": {},
   "outputs": [],
   "source": [
    "os.chdir(rutaBase + '../../../MODIS/py/')\n",
    "from funciones_MODIS import *\n",
    "os.chdir(rutaBase)"
   ]
  },
  {
   "cell_type": "markdown",
   "metadata": {},
   "source": [
    "## 1. Datos"
   ]
  },
  {
   "cell_type": "markdown",
   "metadata": {},
   "source": [
    "### 1.1 Cartografía"
   ]
  },
  {
   "cell_type": "code",
   "execution_count": 5,
   "metadata": {},
   "outputs": [
    {
     "ename": "DriverError",
     "evalue": "C:/Users/jcr693/Documents/GitHub/Calibrar/Nieve/notebooks/../../data/GIS/mask_465_deva.shp: No such file or directory",
     "output_type": "error",
     "traceback": [
      "\u001b[1;31m---------------------------------------------------------------------------\u001b[0m",
      "\u001b[1;31mCPLE_OpenFailedError\u001b[0m                      Traceback (most recent call last)",
      "\u001b[1;32mfiona/_shim.pyx\u001b[0m in \u001b[0;36mfiona._shim.gdal_open_vector\u001b[1;34m()\u001b[0m\n",
      "\u001b[1;32mfiona/_err.pyx\u001b[0m in \u001b[0;36mfiona._err.exc_wrap_pointer\u001b[1;34m()\u001b[0m\n",
      "\u001b[1;31mCPLE_OpenFailedError\u001b[0m: C:/Users/jcr693/Documents/GitHub/Calibrar/Nieve/notebooks/../../data/GIS/mask_465_deva.shp: No such file or directory",
      "\nDuring handling of the above exception, another exception occurred:\n",
      "\u001b[1;31mDriverError\u001b[0m                               Traceback (most recent call last)",
      "\u001b[1;32m<ipython-input-5-e6f6d329a20b>\u001b[0m in \u001b[0;36m<module>\u001b[1;34m\u001b[0m\n\u001b[0;32m      3\u001b[0m \u001b[1;33m\u001b[0m\u001b[0m\n\u001b[0;32m      4\u001b[0m \u001b[1;31m# importar polígonos de las cuencas\u001b[0m\u001b[1;33m\u001b[0m\u001b[1;33m\u001b[0m\u001b[1;33m\u001b[0m\u001b[0m\n\u001b[1;32m----> 5\u001b[1;33m \u001b[0mcuenca\u001b[0m \u001b[1;33m=\u001b[0m \u001b[0mgpd\u001b[0m\u001b[1;33m.\u001b[0m\u001b[0mread_file\u001b[0m\u001b[1;33m(\u001b[0m\u001b[0mrutaGIS\u001b[0m \u001b[1;33m+\u001b[0m \u001b[1;34m\"mask_465_deva.shp\"\u001b[0m\u001b[1;33m)\u001b[0m\u001b[1;33m\u001b[0m\u001b[1;33m\u001b[0m\u001b[0m\n\u001b[0m\u001b[0;32m      6\u001b[0m \u001b[1;33m\u001b[0m\u001b[0m\n\u001b[0;32m      7\u001b[0m \u001b[1;31m# importar mdt de la cuenca\u001b[0m\u001b[1;33m\u001b[0m\u001b[1;33m\u001b[0m\u001b[1;33m\u001b[0m\u001b[0m\n",
      "\u001b[1;32mC:\\ProgramFiles\\Anaconda3\\envs\\geo_env\\lib\\site-packages\\geopandas\\io\\file.py\u001b[0m in \u001b[0;36m_read_file\u001b[1;34m(filename, bbox, mask, rows, **kwargs)\u001b[0m\n\u001b[0;32m     94\u001b[0m \u001b[1;33m\u001b[0m\u001b[0m\n\u001b[0;32m     95\u001b[0m     \u001b[1;32mwith\u001b[0m \u001b[0mfiona_env\u001b[0m\u001b[1;33m(\u001b[0m\u001b[1;33m)\u001b[0m\u001b[1;33m:\u001b[0m\u001b[1;33m\u001b[0m\u001b[1;33m\u001b[0m\u001b[0m\n\u001b[1;32m---> 96\u001b[1;33m         \u001b[1;32mwith\u001b[0m \u001b[0mreader\u001b[0m\u001b[1;33m(\u001b[0m\u001b[0mpath_or_bytes\u001b[0m\u001b[1;33m,\u001b[0m \u001b[1;33m**\u001b[0m\u001b[0mkwargs\u001b[0m\u001b[1;33m)\u001b[0m \u001b[1;32mas\u001b[0m \u001b[0mfeatures\u001b[0m\u001b[1;33m:\u001b[0m\u001b[1;33m\u001b[0m\u001b[1;33m\u001b[0m\u001b[0m\n\u001b[0m\u001b[0;32m     97\u001b[0m \u001b[1;33m\u001b[0m\u001b[0m\n\u001b[0;32m     98\u001b[0m             \u001b[1;31m# In a future Fiona release the crs attribute of features will\u001b[0m\u001b[1;33m\u001b[0m\u001b[1;33m\u001b[0m\u001b[1;33m\u001b[0m\u001b[0m\n",
      "\u001b[1;32mC:\\ProgramFiles\\Anaconda3\\envs\\geo_env\\lib\\site-packages\\fiona\\env.py\u001b[0m in \u001b[0;36mwrapper\u001b[1;34m(*args, **kwargs)\u001b[0m\n\u001b[0;32m    398\u001b[0m     \u001b[1;32mdef\u001b[0m \u001b[0mwrapper\u001b[0m\u001b[1;33m(\u001b[0m\u001b[1;33m*\u001b[0m\u001b[0margs\u001b[0m\u001b[1;33m,\u001b[0m \u001b[1;33m**\u001b[0m\u001b[0mkwargs\u001b[0m\u001b[1;33m)\u001b[0m\u001b[1;33m:\u001b[0m\u001b[1;33m\u001b[0m\u001b[1;33m\u001b[0m\u001b[0m\n\u001b[0;32m    399\u001b[0m         \u001b[1;32mif\u001b[0m \u001b[0mlocal\u001b[0m\u001b[1;33m.\u001b[0m\u001b[0m_env\u001b[0m\u001b[1;33m:\u001b[0m\u001b[1;33m\u001b[0m\u001b[1;33m\u001b[0m\u001b[0m\n\u001b[1;32m--> 400\u001b[1;33m             \u001b[1;32mreturn\u001b[0m \u001b[0mf\u001b[0m\u001b[1;33m(\u001b[0m\u001b[1;33m*\u001b[0m\u001b[0margs\u001b[0m\u001b[1;33m,\u001b[0m \u001b[1;33m**\u001b[0m\u001b[0mkwargs\u001b[0m\u001b[1;33m)\u001b[0m\u001b[1;33m\u001b[0m\u001b[1;33m\u001b[0m\u001b[0m\n\u001b[0m\u001b[0;32m    401\u001b[0m         \u001b[1;32melse\u001b[0m\u001b[1;33m:\u001b[0m\u001b[1;33m\u001b[0m\u001b[1;33m\u001b[0m\u001b[0m\n\u001b[0;32m    402\u001b[0m             \u001b[1;32mif\u001b[0m \u001b[0misinstance\u001b[0m\u001b[1;33m(\u001b[0m\u001b[0margs\u001b[0m\u001b[1;33m[\u001b[0m\u001b[1;36m0\u001b[0m\u001b[1;33m]\u001b[0m\u001b[1;33m,\u001b[0m \u001b[0mstr\u001b[0m\u001b[1;33m)\u001b[0m\u001b[1;33m:\u001b[0m\u001b[1;33m\u001b[0m\u001b[1;33m\u001b[0m\u001b[0m\n",
      "\u001b[1;32mC:\\ProgramFiles\\Anaconda3\\envs\\geo_env\\lib\\site-packages\\fiona\\__init__.py\u001b[0m in \u001b[0;36mopen\u001b[1;34m(fp, mode, driver, schema, crs, encoding, layer, vfs, enabled_drivers, crs_wkt, **kwargs)\u001b[0m\n\u001b[0;32m    254\u001b[0m \u001b[1;33m\u001b[0m\u001b[0m\n\u001b[0;32m    255\u001b[0m         \u001b[1;32mif\u001b[0m \u001b[0mmode\u001b[0m \u001b[1;32min\u001b[0m \u001b[1;33m(\u001b[0m\u001b[1;34m'a'\u001b[0m\u001b[1;33m,\u001b[0m \u001b[1;34m'r'\u001b[0m\u001b[1;33m)\u001b[0m\u001b[1;33m:\u001b[0m\u001b[1;33m\u001b[0m\u001b[1;33m\u001b[0m\u001b[0m\n\u001b[1;32m--> 256\u001b[1;33m             c = Collection(path, mode, driver=driver, encoding=encoding,\n\u001b[0m\u001b[0;32m    257\u001b[0m                            layer=layer, enabled_drivers=enabled_drivers, **kwargs)\n\u001b[0;32m    258\u001b[0m         \u001b[1;32melif\u001b[0m \u001b[0mmode\u001b[0m \u001b[1;33m==\u001b[0m \u001b[1;34m'w'\u001b[0m\u001b[1;33m:\u001b[0m\u001b[1;33m\u001b[0m\u001b[1;33m\u001b[0m\u001b[0m\n",
      "\u001b[1;32mC:\\ProgramFiles\\Anaconda3\\envs\\geo_env\\lib\\site-packages\\fiona\\collection.py\u001b[0m in \u001b[0;36m__init__\u001b[1;34m(self, path, mode, driver, schema, crs, encoding, layer, vsi, archive, enabled_drivers, crs_wkt, ignore_fields, ignore_geometry, **kwargs)\u001b[0m\n\u001b[0;32m    160\u001b[0m             \u001b[1;32mif\u001b[0m \u001b[0mself\u001b[0m\u001b[1;33m.\u001b[0m\u001b[0mmode\u001b[0m \u001b[1;33m==\u001b[0m \u001b[1;34m'r'\u001b[0m\u001b[1;33m:\u001b[0m\u001b[1;33m\u001b[0m\u001b[1;33m\u001b[0m\u001b[0m\n\u001b[0;32m    161\u001b[0m                 \u001b[0mself\u001b[0m\u001b[1;33m.\u001b[0m\u001b[0msession\u001b[0m \u001b[1;33m=\u001b[0m \u001b[0mSession\u001b[0m\u001b[1;33m(\u001b[0m\u001b[1;33m)\u001b[0m\u001b[1;33m\u001b[0m\u001b[1;33m\u001b[0m\u001b[0m\n\u001b[1;32m--> 162\u001b[1;33m                 \u001b[0mself\u001b[0m\u001b[1;33m.\u001b[0m\u001b[0msession\u001b[0m\u001b[1;33m.\u001b[0m\u001b[0mstart\u001b[0m\u001b[1;33m(\u001b[0m\u001b[0mself\u001b[0m\u001b[1;33m,\u001b[0m \u001b[1;33m**\u001b[0m\u001b[0mkwargs\u001b[0m\u001b[1;33m)\u001b[0m\u001b[1;33m\u001b[0m\u001b[1;33m\u001b[0m\u001b[0m\n\u001b[0m\u001b[0;32m    163\u001b[0m             \u001b[1;32melif\u001b[0m \u001b[0mself\u001b[0m\u001b[1;33m.\u001b[0m\u001b[0mmode\u001b[0m \u001b[1;32min\u001b[0m \u001b[1;33m(\u001b[0m\u001b[1;34m'a'\u001b[0m\u001b[1;33m,\u001b[0m \u001b[1;34m'w'\u001b[0m\u001b[1;33m)\u001b[0m\u001b[1;33m:\u001b[0m\u001b[1;33m\u001b[0m\u001b[1;33m\u001b[0m\u001b[0m\n\u001b[0;32m    164\u001b[0m                 \u001b[0mself\u001b[0m\u001b[1;33m.\u001b[0m\u001b[0msession\u001b[0m \u001b[1;33m=\u001b[0m \u001b[0mWritingSession\u001b[0m\u001b[1;33m(\u001b[0m\u001b[1;33m)\u001b[0m\u001b[1;33m\u001b[0m\u001b[1;33m\u001b[0m\u001b[0m\n",
      "\u001b[1;32mfiona/ogrext.pyx\u001b[0m in \u001b[0;36mfiona.ogrext.Session.start\u001b[1;34m()\u001b[0m\n",
      "\u001b[1;32mfiona/_shim.pyx\u001b[0m in \u001b[0;36mfiona._shim.gdal_open_vector\u001b[1;34m()\u001b[0m\n",
      "\u001b[1;31mDriverError\u001b[0m: C:/Users/jcr693/Documents/GitHub/Calibrar/Nieve/notebooks/../../data/GIS/mask_465_deva.shp: No such file or directory"
     ]
    }
   ],
   "source": [
    "# ruta cartografía\n",
    "rutaGIS = os.path.join(rutaBase, '../../data/GIS/')\n",
    "\n",
    "# importar polígonos de las cuencas\n",
    "cuenca = gpd.read_file(rutaGIS + \"mask_465_deva.shp\")\n",
    "\n",
    "# importar mdt de la cuenca\n",
    "DEM = read_ascii(rutaGIS + 'dem_465_deva.asc', crs=25830)\n",
    "DEM.variable = 'elevación'\n",
    "DEM.units = 'm.s.n.m'"
   ]
  },
  {
   "cell_type": "markdown",
   "metadata": {},
   "source": [
    "### 1.2 Nieve MODIS"
   ]
  },
  {
   "cell_type": "code",
   "execution_count": null,
   "metadata": {},
   "outputs": [],
   "source": [
    "# Cargar netCDF con los datos climáticos\n",
    "rutaMODIS = os.path.join(rutaBase, '../data/')\n",
    "nc = Dataset(rutaMODIS + 'MODIS_Maximum_Snow_Extent_Terra+Aqua.nc', 'r', format='NETCDF4')\n",
    "\n",
    "# extraer datos\n",
    "data = nc['SC'][::]\n",
    "units = nc['SC'].units\n",
    "# fechas\n",
    "times = np.array([datetime(1, 1, 1).date() + timedelta(time) for time in nc['time'][:].data])\n",
    "# coordenadas\n",
    "X = nc['X'][:].data\n",
    "Y = nc['Y'][:].data\n",
    "crs = CRS.from_epsg(nc.coordinateSystem.split(':')[1])\n",
    "\n",
    "# guardar como objeto raster3D\n",
    "SCobs = raster3D(data, X, Y, times, variable='snow cover', label='SC', units=units,\n",
    "                   crs=crs)\n",
    "\n",
    "nc.close()"
   ]
  },
  {
   "cell_type": "markdown",
   "metadata": {},
   "source": [
    "#### Fechas de MODIS"
   ]
  },
  {
   "cell_type": "code",
   "execution_count": null,
   "metadata": {},
   "outputs": [],
   "source": [
    "# definir fechas de inicio y fin de los datos de MODIS\n",
    "start, end = SCobs.times.min(), SCobs.times.max()\n",
    "start = datetime(start.year, start.month, 1).date()\n",
    "end = datetime(end.year, end.month, monthrange(end.year, end.month)[1]).date()"
   ]
  },
  {
   "cell_type": "markdown",
   "metadata": {},
   "source": [
    "### 1.3 Precipitación y temperatura"
   ]
  },
  {
   "cell_type": "code",
   "execution_count": null,
   "metadata": {},
   "outputs": [],
   "source": [
    "# Cargar netCDF con los datos climáticos\n",
    "rutaClima = os.path.join(rutaBase, '../../data/clima/')\n",
    "nc = Dataset(rutaClima + 'clima_1265.nc', 'r', format='NETCDF4')\n",
    "\n",
    "# extraer variables\n",
    "X = nc['X'][:].data\n",
    "Y = nc['Y'][:].data\n",
    "dates = nc['time'][:].data\n",
    "dates = np.array([date(1979, 1, 1) + timedelta(days=int(d)) for d in dates])\n",
    "pcp = nc['pcp'][::].data\n",
    "tmp = nc['tmp'][::].data\n",
    "\n",
    "nc.close()"
   ]
  },
  {
   "cell_type": "code",
   "execution_count": null,
   "metadata": {},
   "outputs": [],
   "source": [
    "# guardar como objetos raster3D\n",
    "PCP = raster3D(pcp, X, Y, dates, units='mm', variable='Precipitación', label='P',\n",
    "            crs=CRS.from_epsg(25830))\n",
    "\n",
    "TMP = raster3D(tmp, X, Y, dates, units='°C', variable='Temperatura', label='T',\n",
    "            crs=CRS.from_epsg(25830))"
   ]
  },
  {
   "cell_type": "code",
   "execution_count": null,
   "metadata": {},
   "outputs": [],
   "source": [
    "# recortar a las fechas de MODIS\n",
    "PCP.extraer(start, end, axis=0, inplace=True)\n",
    "TMP.extraer(start, end, axis=0, inplace=True)"
   ]
  },
  {
   "cell_type": "code",
   "execution_count": null,
   "metadata": {},
   "outputs": [],
   "source": [
    "# enmascarar celdas sin ningún dato\n",
    "PCP.enmascararNaN()\n",
    "TMP.enmascararNaN()"
   ]
  },
  {
   "cell_type": "markdown",
   "metadata": {},
   "source": [
    "### 1.4 Radiación"
   ]
  },
  {
   "cell_type": "code",
   "execution_count": null,
   "metadata": {},
   "outputs": [],
   "source": [
    "rad = np.zeros((12, *DEM.data.shape)) * np.nan\n",
    "for i in range(1, 7):\n",
    "    asci = read_ascii(rutaClima + 'rad{0:02d}.asc'.format(i))\n",
    "    radi = asci.data\n",
    "    if i == 1:\n",
    "        # arrays de coorenadas\n",
    "        ncols, nrows, xll, yll, cs, noDATA = asci.attributes\n",
    "        Xrad = np.arange(xll, xll + cs *ncols, cs)\n",
    "        Yrad = np.arange(yll, yll + cs *nrows, cs)[::-1]\n",
    "        # recortar filas y columnas sin dato\n",
    "        radi, Xrad, Yrad = corregirRaster(radi, Xrad, Yrad)\n",
    "    else:\n",
    "        # recortar filas y columnas sin dato\n",
    "        radi = corregirRaster(radi)\n",
    "    # asignar mapa\n",
    "    rad[i-1,:,:] = radi.copy()\n",
    "    rad[12-i,:,:] = radi.copy()"
   ]
  },
  {
   "cell_type": "code",
   "execution_count": null,
   "metadata": {},
   "outputs": [],
   "source": [
    "# guardar como objeto raster3D\n",
    "RAD = raster3D(rad, Xrad, Yrad, np.arange(1, 13), variable='radiación', units='-',\n",
    "               label='Rad', crs=CRS.from_epsg(25830))\n",
    "RAD.enmascararNaN()"
   ]
  },
  {
   "cell_type": "markdown",
   "metadata": {},
   "source": [
    "### 1.5 Mapas de las variables"
   ]
  },
  {
   "cell_type": "code",
   "execution_count": null,
   "metadata": {},
   "outputs": [],
   "source": [
    "fig, axes = plt.subplots(nrows=3, ncols=2, figsize=(10, 15))\n",
    "\n",
    "for Var, ax in zip([DEM, PCP, TMP, RAD, SCobs], axes.flatten()):\n",
    "    try:\n",
    "        im = ax.imshow(np.nanmean(Var.data, axis=0), cmap='viridis', extent=Var.extent())\n",
    "    except:\n",
    "        im = ax.imshow(Var.data, cmap='viridis', extent=Var.extent)\n",
    "    cuenca.boundary.plot(ax=ax, edgecolor='k')\n",
    "\n",
    "    ax.set_title('{0} ({1})'.format(Var.variable, Var.units), fontsize=13)\n",
    "    ax.set_aspect('equal')\n",
    "    ax.axis('off');\n",
    "    \n",
    "axes[2,1].axis('off');"
   ]
  },
  {
   "cell_type": "markdown",
   "metadata": {},
   "source": [
    "## 2. Método de grado-día"
   ]
  },
  {
   "cell_type": "markdown",
   "metadata": {},
   "source": [
    "### 2.1 Cálculo sin radiación"
   ]
  },
  {
   "cell_type": "code",
   "execution_count": null,
   "metadata": {},
   "outputs": [],
   "source": [
    "# calcular modelo de nieve\n",
    "SWE, SM = degreeDayMethod(PCP, TMP, RAD=None, Ts=0., Tb=0., DDF1=2., DDF2=4., verbose=True)\n",
    "\n",
    "# reclasificar SWE en un mapa binario\n",
    "SCsim = snowCover(SWE, threshold=1)\n",
    "\n",
    "# agregar simulación a paso 8 días\n",
    "SCsim8 = remuestrearMODIS(SCobs, SCsim, func='max')"
   ]
  },
  {
   "cell_type": "markdown",
   "metadata": {},
   "source": [
    "### 2.2 Cálculo con radiación"
   ]
  },
  {
   "cell_type": "code",
   "execution_count": null,
   "metadata": {},
   "outputs": [],
   "source": [
    "# calcular modelo de nieve\n",
    "SWErad, SMrad = degreeDayMethod(PCP, TMP, RAD=RAD, Ts=0., Tb=0., DDF1=2., DDF2=4., verbose=True)\n",
    "\n",
    "# reclasificar SWE en un mapa binario\n",
    "SCradsim = snowCover(SWErad, threshold=1)\n",
    "\n",
    "# agregar simulación a paso 8 días\n",
    "SCradsim8 = remuestrearMODIS(SCobs, SCradsim, func='max')"
   ]
  },
  {
   "cell_type": "markdown",
   "metadata": {},
   "source": [
    "### 2.3 Comparativa"
   ]
  },
  {
   "cell_type": "code",
   "execution_count": null,
   "metadata": {},
   "outputs": [],
   "source": [
    "serie1 = pd.Series(np.nanmean(SWE.data, axis=(1,2)), index=SWE.times)\n",
    "serie2 = pd.Series(np.nanmean(SWErad.data, axis=(1,2)), index=SWErad.times)\n",
    "\n",
    "plt.figure(figsize=(16, 4))\n",
    "plt.ylabel('SWE (mm)')\n",
    "plt.plot(serie1, label='sin rad')\n",
    "plt.plot(serie2, label='con rad')\n",
    "plt.legend();"
   ]
  },
  {
   "cell_type": "code",
   "execution_count": null,
   "metadata": {},
   "outputs": [],
   "source": [
    "serie1 = pd.Series(np.nanmean(SM.data, axis=(1,2)), index=SM.times)\n",
    "serie2 = pd.Series(np.nanmean(SMrad.data, axis=(1,2)), index=SMrad.times)\n",
    "\n",
    "plt.figure(figsize=(16, 4))\n",
    "plt.ylabel('SM (mm)')\n",
    "plt.plot(serie1, label='sin rad');\n",
    "plt.plot(serie2, label='con rad');\n",
    "plt.legend();"
   ]
  },
  {
   "cell_type": "code",
   "execution_count": null,
   "metadata": {},
   "outputs": [],
   "source": [
    "fig, axes = plt.subplots(nrows=2, ncols=3, figsize=(15, 10))\n",
    "\n",
    "for (ax, Var) in zip(axes.flatten(), [SWE, SCsim, SM, SWErad, SCradsim, SMrad]):\n",
    "    # mapa de precipitación media\n",
    "    im = ax.imshow(Var.data.mean(axis=0), extent=Var.extent(), cmap='viridis')\n",
    "    cb = plt.colorbar(im, shrink=.6, ax=ax)\n",
    "    cb.set_label(Var.units)\n",
    "    ax.set_title(Var.variable)\n",
    "    ax.axis('off');"
   ]
  },
  {
   "cell_type": "code",
   "execution_count": null,
   "metadata": {},
   "outputs": [],
   "source": [
    "time = times[10]\n",
    "print(time)\n",
    "fig, axes = plt.subplots(ncols=3, figsize=(15, 5))\n",
    "\n",
    "for ax, Var in zip(axes, [SWE, SCsim, SCobs]):\n",
    "    #cuenca.plot(color='lightgray', ax=ax, zorder=0, alpha=.25)\n",
    "    cuenca.boundary.plot(color='lightgray', ax=ax, zorder=0)\n",
    "    Var.plot(time=time, ax=ax)\n",
    "    ax.set_title(Var.variable)\n",
    "    ax.axis('off')"
   ]
  },
  {
   "cell_type": "markdown",
   "metadata": {},
   "source": [
    "## 3 Rendimiento"
   ]
  },
  {
   "cell_type": "markdown",
   "metadata": {},
   "source": [
    "### 3.1 SPAEF\n",
    "```Python\n",
    "# SPAEF en un único paso temporal\n",
    "t = 10\n",
    "spaef = SPAEF(SCobs.data[t,:,:], SCsim8.data[t,:,:], verbose=True, plot=True)\n",
    "\n",
    "# serie temporal de SPAEF\n",
    "spaef = pd.Series(index=SCsim8.times, dtype=float)\n",
    "for t, time in enumerate(spaef.index):\n",
    "    spaef[time] = SPAEF(SCobs.data[t,:,:], SCsim8.data[t,:,:], verbose=False)\n",
    "\n",
    "print('SPAEF = {0:.3f}'.format(spaef.mean()))\n",
    "plt.plot(spaef);\n",
    "```\n",
    "### 3.2 KGE\n",
    "```Python\n",
    "# KGE en un día concreto\n",
    "t = 10\n",
    "kge = KGEsp(SCobs.data[t,:,:], SCsim8.data[t,:,:], verbose=True, plot=True)\n",
    "\n",
    "# serie temporal de KGE\n",
    "kge = pd.Series(index=SCsim8.times, dtype=float)\n",
    "for t, time in enumerate(kge.index):\n",
    "    kge[time] = KGEsp(SCobs.data[t,:,:], SCsim.data[t,:,:], verbose=False)\n",
    "\n",
    "print('KGE = {0:.3f}'.format(kge.mean()))\n",
    "plt.plot(kge);\n",
    "```"
   ]
  },
  {
   "cell_type": "markdown",
   "metadata": {},
   "source": [
    "### 3.3 f1\n",
    "#### Sin radiación"
   ]
  },
  {
   "cell_type": "code",
   "execution_count": null,
   "metadata": {},
   "outputs": [],
   "source": [
    "# rendimiento en f1_score\n",
    "f1Serie = rendimiento_clasificacion(SCobs, SCsim8, score='f1')\n",
    "f1Mean = f1Serie.mean()\n",
    "\n",
    "print('f1 = {0:.3f}'.format(f1Mean.round(3)))\n",
    "plt.figure(figsize=(16, 4))\n",
    "plt.plot(f1Serie)\n",
    "plt.ylim(0, 1);"
   ]
  },
  {
   "cell_type": "markdown",
   "metadata": {},
   "source": [
    "#### Con radiación"
   ]
  },
  {
   "cell_type": "code",
   "execution_count": null,
   "metadata": {},
   "outputs": [],
   "source": [
    "# rendimiento en f1_score\n",
    "f1radSerie = rendimiento_clasificacion(SCobs, SCradsim8, score='f1', average='micro')\n",
    "f1radMean = f1radSerie.mean()\n",
    "\n",
    "print('f1 = {0:.3f}'.format(f1radMean.round(3)))\n",
    "plt.figure(figsize=(16, 4))\n",
    "plt.plot(f1radSerie)\n",
    "plt.ylim(0, 1);"
   ]
  },
  {
   "cell_type": "code",
   "execution_count": null,
   "metadata": {},
   "outputs": [],
   "source": [
    "# definir colores\n",
    "colors = np.array([[255, 255, 255 , 0], [33, 178, 171, 130]])\n",
    "colors = colors / 255.\n",
    "cmap = ListedColormap(colors)\n",
    "boundaries = [0, .5, 1]\n",
    "norm = BoundaryNorm(boundaries, cmap.N, clip=True)\n",
    "snow_patch = mpatches.Patch(color=cmap.colors[1], label='snow')"
   ]
  },
  {
   "cell_type": "code",
   "execution_count": null,
   "metadata": {},
   "outputs": [],
   "source": [
    "# definir límites del mapa\n",
    "xmin, ymin, xmax, ymax = cuenca.bounds.values[0]\n",
    "xmin -= DEM.cellsize * 2\n",
    "ymin -= DEM.cellsize * 2\n",
    "xmax += DEM.cellsize * 2\n",
    "ymax += DEM.cellsize * 2\n",
    "extent = [xmin, xmax, ymin, ymax]"
   ]
  },
  {
   "cell_type": "code",
   "execution_count": null,
   "metadata": {},
   "outputs": [],
   "source": [
    "t = 19\n",
    "time = SCsim8.times[t]\n",
    "print(time)\n",
    "fig, axes = plt.subplots(ncols=3, figsize=(15, 5))\n",
    "\n",
    "print('f1 = {0:.3f}'.format(f1Serie[time]))\n",
    "for i, (ax, Var, f1) in enumerate(zip(axes, [SCsim8, SCradsim8, SCobs], [f1Serie, f1radSerie, None])):\n",
    "    #cuenca.plot(color='lightgray', ax=ax, zorder=0, alpha=.25)\n",
    "    ax.imshow(DEM.data, extent=DEM.extent, cmap='pink')\n",
    "    im = ax.imshow(Var.data[t,:,:], extent=Var.extent(), cmap=cmap, norm=norm)\n",
    "    if i in [0, 1]:\n",
    "        ax.text(0.5, -0.04, 'f1 = {0:.3f}'.format(f1[time]), horizontalalignment='center', fontsize=12,\n",
    "                transform=ax.transAxes)\n",
    "    ax.set_title(Var.variable)\n",
    "    ax.axis('off');\n",
    "fig.legend(handles=[snow_patch], loc=8, fontsize=13);"
   ]
  },
  {
   "cell_type": "code",
   "execution_count": null,
   "metadata": {},
   "outputs": [],
   "source": [
    "rutaOut = os.path.join(rutaBase, '../output/')\n",
    "mp4File = rutaOut + 'SC_simulado_vs_observado.mp4'\n",
    "video2(SCradsim8, SCobs, cuenca, cmap, norm, DEM, fps=3, dpi=300, figsize=(12, 6), extent=extent,\n",
    "       labels=['simulado', 'observado'], export=mp4File)"
   ]
  },
  {
   "cell_type": "code",
   "execution_count": null,
   "metadata": {},
   "outputs": [],
   "source": []
  }
 ],
 "metadata": {
  "kernelspec": {
   "display_name": "Python 3",
   "language": "python",
   "name": "python3"
  },
  "language_info": {
   "codemirror_mode": {
    "name": "ipython",
    "version": 3
   },
   "file_extension": ".py",
   "mimetype": "text/x-python",
   "name": "python",
   "nbconvert_exporter": "python",
   "pygments_lexer": "ipython3",
   "version": "3.9.0"
  }
 },
 "nbformat": 4,
 "nbformat_minor": 4
}
