{
 "cells": [
  {
   "cell_type": "markdown",
   "metadata": {},
   "source": [
    "# Nieve MODIS\n",
    "_Autor:_    __Jesús Casado__ <br> _Revisión:_ __04/12/2020__ <br>\n",
    "\n",
    "__Introducción__<br>\n",
    "Datos de MODIS sobre cobertura de nieve en la cuenca del Deva. \n",
    "1. Se cargan los datos originales (8 días) y se agregan a diversas frecuencias temporales (mensual y anual). Los datos se muestran en mapas y series.\n",
    "2. Introducción al análisis de EOFs sobre los datos anteriores.\n",
    "\n",
    "__Cosas que arreglar__ <br>\n",
    "Cómo leer atributos del archivo _hdf_ de MODIS.\n",
    "\n",
    "***\n",
    "\n",
    "__Índice__ <br>\n",
    "__[Datos](#Datos)__<br>\n",
    "[DEM de la cuenca](#DEM-de-la-cuenca-(ETRS89-UTM30N))<br>\n",
    "[Evapotranspiración MODIS](#Evapotranspiración-MODIS)<br>\n",
    "\n",
    "__[Análisis](#Análisis)__<br>\n",
    "[8 diario](#8-diario)<br>\n",
    "[Mensual](#Mensual)<br>\n",
    "[Anual](#Anual)<br>\n",
    "[EOF](#EOF)<br>"
   ]
  },
  {
   "cell_type": "code",
   "execution_count": 1,
   "metadata": {},
   "outputs": [],
   "source": [
    "import os\n",
    "rutaBase = os.getcwd().replace('\\\\', '/') + '/'"
   ]
  },
  {
   "cell_type": "code",
   "execution_count": 2,
   "metadata": {},
   "outputs": [],
   "source": [
    "import numpy as np\n",
    "import pandas as pd\n",
    "import matplotlib.pyplot as plt\n",
    "from pandas.plotting import register_matplotlib_converters\n",
    "register_matplotlib_converters()\n",
    "%matplotlib inline\n",
    "import seaborn as sns\n",
    "sns.set_style(\"whitegrid\")\n",
    "from mpl_toolkits.axes_grid1 import make_axes_locatable\n",
    "from matplotlib.gridspec import GridSpec\n",
    "from matplotlib.colors import ListedColormap, BoundaryNorm\n",
    "from netCDF4 import Dataset, num2date, date2num\n",
    "from datetime import datetime\n",
    "from calendar import monthrange\n",
    "import time\n",
    "import geopandas as gpd\n",
    "import matplotlib.patheffects as pe\n",
    "import matplotlib.animation as animation\n",
    "from IPython.display import HTML\n",
    "from pyproj import Proj, transform, CRS\n",
    "#os.environ['PROJ_LIB'] = r'C:\\Anaconda3\\pkgs\\proj4-4.9.3-vc14_5\\Library\\share'"
   ]
  },
  {
   "cell_type": "code",
   "execution_count": 3,
   "metadata": {},
   "outputs": [],
   "source": [
    "os.chdir(rutaBase + '../../../MODIS/py/')\n",
    "from funciones_MODIS import *\n",
    "#from funciones_EOF import *\n",
    "os.chdir(rutaBase)"
   ]
  },
  {
   "cell_type": "code",
   "execution_count": 4,
   "metadata": {},
   "outputs": [],
   "source": [
    "os.chdir(rutaBase + '../../py')\n",
    "#from class_MODIS import *\n",
    "from funciones_raster import *"
   ]
  },
  {
   "cell_type": "markdown",
   "metadata": {},
   "source": [
    "## 1 Cartografía"
   ]
  },
  {
   "cell_type": "code",
   "execution_count": 5,
   "metadata": {},
   "outputs": [],
   "source": [
    "# ruta cartografía\n",
    "#rutaGIS = 'C:/Users/jcr693/OneDrive - UNICAN - Estudiantes/Proyectos/IAHR2020/GIS/'\n",
    "rutaGIS = os.path.join(rutaBase, '../../data/GIS/')\n",
    "\n",
    "# importar polígonos de las cuencas\n",
    "cuenca = gpd.read_file(rutaGIS + \"mask_465_deva.shp\")\n",
    "\n",
    "# importar mdt de la cuenca\n",
    "DEM = read_ascii(rutaGIS + 'dem_465_deva.asc', crs=25830)\n",
    "DEM.variable = 'elevación'\n",
    "DEM.units = 'm.s.n.m'"
   ]
  },
  {
   "cell_type": "code",
   "execution_count": 6,
   "metadata": {},
   "outputs": [
    {
     "data": {
      "image/png": "[encoded data removed]",
      "text/plain": [
       "<Figure size 432x432 with 1 Axes>"
      ]
     },
     "metadata": {
      "needs_background": "light"
     },
     "output_type": "display_data"
    }
   ],
   "source": [
    "fig, ax = plt.subplots(figsize=(6, 6))\n",
    "\n",
    "cuenca.boundary.plot(ax=ax, edgecolor='k')\n",
    "ax.imshow(DEM.data, cmap='pink', extent=DEM.extent)\n",
    "\n",
    "ax.set_title('DEM cuenca del DEVA-1265', fontsize=13, fontweight='bold')\n",
    "ax.set_aspect('equal')\n",
    "ax.axis('off');"
   ]
  },
  {
   "cell_type": "markdown",
   "metadata": {},
   "source": [
    "## 2 Datos MODIS: Terra y Aqua"
   ]
  },
  {
   "cell_type": "markdown",
   "metadata": {},
   "source": [
    "### 2.1 Cargar datos brutos"
   ]
  },
  {
   "cell_type": "code",
   "execution_count": 7,
   "metadata": {},
   "outputs": [],
   "source": [
    "# rutas de entrada y salida\n",
    "rutaMODIS = 'C:/Users/jcr693/OneDrive - UNICAN - Estudiantes/Cartografia/MODIS/'"
   ]
  },
  {
   "cell_type": "code",
   "execution_count": 8,
   "metadata": {},
   "outputs": [],
   "source": [
    "# parámetros de la extracción de datos de MODIS\n",
    "products = {'Terra': 'MOD10A2', 'Aqua': 'MYD10A2'}\n",
    "var = 'Maximum_Snow_Extent'\n",
    "units = '-'\n",
    "dateslim = ('2005-10-01', '2015-09-30')#None\n",
    "tiles = ['h17v04']"
   ]
  },
  {
   "cell_type": "code",
   "execution_count": 9,
   "metadata": {},
   "outputs": [
    {
     "name": "stdout",
     "output_type": "stream",
     "text": [
      "TERRA\n",
      "-----\n",
      "Seleccionar archivos\n",
      "nº de archivos (fechas): 460\n",
      "\n",
      "Generar atributos globales\n",
      "dimensión:\t\t(2400, 2400)\n",
      "esquina inf. izqda.:\t(-1111950.52, 4447802.08)\n",
      "esquina sup. dcha.:\t(      0.00, 5559752.60)\n",
      "\n",
      "Crear máscaras\n",
      "dimensión:\t\t(  48,   49)\n",
      "esquina inf. izqda.:\t(-394443.47, 4782916.80)\n",
      "esquina sup. dcha.:\t(-372195.19, 4804701.58)\n",
      "\n",
      "Importar datos\n",
      "Fecha 460 de 460: 2015-09-30\t||\tTile  1 de  1: h17v04\n"
     ]
    },
    {
     "ename": "NameError",
     "evalue": "name 'raster3D' is not defined",
     "output_type": "error",
     "traceback": [
      "\u001b[1;31m---------------------------------------------------------------------------\u001b[0m",
      "\u001b[1;31mNameError\u001b[0m                                 Traceback (most recent call last)",
      "\u001b[1;32m<ipython-input-9-da3a2207e362>\u001b[0m in \u001b[0;36m<module>\u001b[1;34m\u001b[0m\n\u001b[0;32m     14\u001b[0m \u001b[1;33m\u001b[0m\u001b[0m\n\u001b[0;32m     15\u001b[0m     \u001b[1;31m# extraer datos de MODIS\u001b[0m\u001b[1;33m\u001b[0m\u001b[1;33m\u001b[0m\u001b[1;33m\u001b[0m\u001b[0m\n\u001b[1;32m---> 16\u001b[1;33m     modis = MODIS_extract(rutaMODIS, product, var, tiles, dateslim=dateslim,\n\u001b[0m\u001b[0;32m     17\u001b[0m                           extent=extent, verbose=True)\n\u001b[0;32m     18\u001b[0m \u001b[1;33m\u001b[0m\u001b[0m\n",
      "\u001b[1;32m~\\Documents\\GitHub\\MODIS\\py\\funciones_MODIS.py\u001b[0m in \u001b[0;36mMODIS_extract\u001b[1;34m(path, product, var, tiles, factor, dateslim, extent, verbose)\u001b[0m\n\u001b[0;32m   1038\u001b[0m     \u001b[1;31m# GUARDAR RESULTADOS\u001b[0m\u001b[1;33m\u001b[0m\u001b[1;33m\u001b[0m\u001b[1;33m\u001b[0m\u001b[0m\n\u001b[0;32m   1039\u001b[0m     \u001b[1;31m# ------------------\u001b[0m\u001b[1;33m\u001b[0m\u001b[1;33m\u001b[0m\u001b[1;33m\u001b[0m\u001b[0m\n\u001b[1;32m-> 1040\u001b[1;33m     \u001b[0mmodis\u001b[0m \u001b[1;33m=\u001b[0m \u001b[0mraster3D\u001b[0m\u001b[1;33m(\u001b[0m\u001b[0mdata\u001b[0m\u001b[1;33m,\u001b[0m \u001b[0mXmodis\u001b[0m\u001b[1;33m,\u001b[0m \u001b[0mYmodis\u001b[0m\u001b[1;33m,\u001b[0m \u001b[0mdates\u001b[0m\u001b[1;33m,\u001b[0m \u001b[0mcrs\u001b[0m\u001b[1;33m=\u001b[0m\u001b[0msinusoidal\u001b[0m\u001b[1;33m)\u001b[0m\u001b[1;33m\u001b[0m\u001b[1;33m\u001b[0m\u001b[0m\n\u001b[0m\u001b[0;32m   1041\u001b[0m \u001b[1;33m\u001b[0m\u001b[0m\n\u001b[0;32m   1042\u001b[0m     \u001b[1;32mreturn\u001b[0m \u001b[0mmodis\u001b[0m\u001b[1;33m\u001b[0m\u001b[1;33m\u001b[0m\u001b[0m\n",
      "\u001b[1;31mNameError\u001b[0m: name 'raster3D' is not defined"
     ]
    }
   ],
   "source": [
    "# sistema de coordenadas de MODIS\n",
    "sinusoidal = CRS.from_proj4('+proj=sinu +lon_0=0 +x_0=0 +y_0=0 +a=6371007.181 +b=6371007.181 +units=m +no_defs ')\n",
    "\n",
    "# definir extensión a extraer de MODIS\n",
    "left, bottom, right, top = cuenca.to_crs(sinusoidal).bounds.loc[0,:]\n",
    "cellsize = DEM.cellsize\n",
    "extent = [left - cellsize, right + cellsize, bottom - cellsize, top + cellsize]\n",
    "\n",
    "SC = {}\n",
    "for sat in products:\n",
    "    print(sat.upper())\n",
    "    print('-' * len(sat))\n",
    "    product = products[sat]\n",
    "\n",
    "    # extraer datos de MODIS\n",
    "    modis = MODIS_extract(rutaMODIS, product, var, tiles, dateslim=dateslim,\n",
    "                          extent=extent, verbose=True)\n",
    "\n",
    "    # reproyectar a UTM-30N según el vecino más cercano\n",
    "    modis.reproyectar(DEM.crs, cellsize, n_neighbors=1, weights='distance', p=1,\n",
    "                      snap=DEM, inplace=True)\n",
    "\n",
    "    # recortar a la cuenca\n",
    "    modis.recortar(cuenca, buffer=10, inplace=True)\n",
    "\n",
    "    # guardar datos como clase MODIS\n",
    "    SC[sat] = modis\n",
    "\n",
    "    print('\\n')    "
   ]
  },
  {
   "cell_type": "markdown",
   "metadata": {},
   "source": [
    "### 2.2 Exportar datos brutos"
   ]
  },
  {
   "cell_type": "code",
   "execution_count": null,
   "metadata": {},
   "outputs": [],
   "source": [
    "# ruta y archivo donde guardar los datos extraios\n",
    "rutaExport = os.path.join(rutaBase, '../data/')\n",
    "if os.path.exists(rutaExport) == False:\n",
    "    os.makedirs(rutaExport)\n",
    "filename = 'MODIS_' + var + '.nc'"
   ]
  },
  {
   "cell_type": "code",
   "execution_count": null,
   "metadata": {},
   "outputs": [],
   "source": [
    "# definir el netcdf\n",
    "ncMODIS = Dataset(rutaExport + filename, 'w', format='NETCDF4')\n",
    "\n",
    "# crear grupos\n",
    "terra = ncMODIS.createGroup('Terra')\n",
    "aqua = ncMODIS.createGroup('Aqua')\n",
    "\n",
    "# crear atributos\n",
    "ncMODIS.description = 'Serie temporal de mapas de SC de la cuenca del Deva obtenidos a partir de MODIS'\n",
    "ncMODIS.history = 'Creado el ' + datetime.now().date().strftime('%Y-%m-%d')\n",
    "ncMODIS.source = 'https://e4ftl01.cr.usgs.gov/'\n",
    "ncMODIS.coordinateSystem = 'epsg:{0}'.format(modis.crs.to_epsg()) # 'SINUSOIDAL'\n",
    "\n",
    "for group, sat, product in zip([terra, aqua], ['Terra', 'Aqua'], ['MOD16A2', 'MYD16A2']):\n",
    "    # crear las dimensiones\n",
    "    time = group.createDimension('time', len(SC[sat].times))\n",
    "    Y = group.createDimension('Y', len(SC[sat].Y))\n",
    "    X = group.createDimension('X', len(SC[sat].X))\n",
    "\n",
    "    # crear variables\n",
    "    Var = group.createVariable(product, 'f4', ('time', 'Y', 'X'))\n",
    "    Var.units = units\n",
    "    times = group.createVariable('time', 'f8', ('time',))\n",
    "    times.units = 'días desde el 0001-01-01'\n",
    "    times.calendar = 'Gregoriano'\n",
    "    Xs = group.createVariable('X', 'u4', ('X',))\n",
    "    Xs.units = 'm'\n",
    "    Ys = group.createVariable('Y', 'u4', ('Y',))\n",
    "    Ys.units = 'm'\n",
    "\n",
    "    # variable SC\n",
    "    Var[:,:,:] = SC[sat].data[:,:,:]\n",
    "    # variable 'time'\n",
    "    deltas = [date - datetime(1, 1, 1).date() for date in SC[sat].times]\n",
    "    times[:] = [delta.days for delta in deltas]\n",
    "    # variable 'X'\n",
    "    Xs[:] = SC[sat].X # + cellsize / 2\n",
    "    # variable 'Y'\n",
    "    Ys[:] = SC[sat].Y # + cellsize / 2\n",
    "\n",
    "ncMODIS.close()"
   ]
  },
  {
   "cell_type": "markdown",
   "metadata": {},
   "source": [
    "## 3 Tratamiento de datos\n",
    "### 3.1 Importar datos"
   ]
  },
  {
   "cell_type": "code",
   "execution_count": null,
   "metadata": {},
   "outputs": [],
   "source": [
    "# Cargar netcdf con los datos MODIS\n",
    "nc = Dataset(rutaExport + filename, 'r', format='NETCDF4')\n",
    "#print(nc)\n",
    "\n",
    "# extraer datos en un diccionario\n",
    "SC = {}\n",
    "for sat, product in zip(['Terra', 'Aqua'], ['MOD16A2', 'MYD16A2']):\n",
    "    # evapotranspiración\n",
    "    data = nc[sat][product][::].data\n",
    "    units = nc[sat][product].units\n",
    "    # fechas\n",
    "    times = np.array([datetime(1, 1, 1).date() + timedelta(time) for time in nc[sat]['time'][:].data])\n",
    "    # coordenadas\n",
    "    X = nc[sat]['X'][:].data\n",
    "    Y = nc[sat]['Y'][:].data\n",
    "    crs = CRS.from_epsg(nc.coordinateSystem.split(':')[1])\n",
    "    \n",
    "    # guardar como objeto raster3D\n",
    "    SC[sat] = raster3D(data, X, Y, times, variable='snow cover', label='SC', units=units,\n",
    "                       crs=crs)\n",
    "    SC[sat].enmascararNaN()\n",
    "\n",
    "nc.close()"
   ]
  },
  {
   "cell_type": "markdown",
   "metadata": {},
   "source": [
    "### 3.2 Reclasificar\n",
    "Se convierten los datos de covertura de nieve en un mapa binario de presencia-ausencia de nieve. Para ello se convierten en __NaN__ todos las clases dudosas (missing data, no decision, night, lake, ocean, cloud, lake ice, detector saturated), en __1__ las presencias (snow) y en __0__ las ausencias de nieve (no snow)."
   ]
  },
  {
   "cell_type": "code",
   "execution_count": null,
   "metadata": {},
   "outputs": [],
   "source": [
    "# clases en los mapas de cobertura de nieve de MODIS\n",
    "snowClass = {0: 'missing data',\n",
    "             1: 'no decision',\n",
    "             11: 'night',\n",
    "             25: 'no snow',\n",
    "             37: 'lake',\n",
    "             39: 'ocean',\n",
    "             50: 'cloud',\n",
    "             100: 'lake ice',\n",
    "             200: 'snow',\n",
    "             254: 'detector saturated',\n",
    "             255: 'fill'}"
   ]
  },
  {
   "cell_type": "code",
   "execution_count": null,
   "metadata": {},
   "outputs": [],
   "source": [
    "# nº de celdas en cada una de las clases\n",
    "for sat in SC:\n",
    "    print(sat.upper())\n",
    "    print('-'*len(sat))\n",
    "    data = SC[sat].data\n",
    "    for clase in snowClass:\n",
    "        print('{0}: {1}'.format(snowClass[clase], np.sum(data == clase)))\n",
    "    print()"
   ]
  },
  {
   "cell_type": "code",
   "execution_count": null,
   "metadata": {},
   "outputs": [],
   "source": [
    "# reclasificar mapas\n",
    "for sat in SC:\n",
    "    \n",
    "    data = SC[sat].data\n",
    "    # convertir en nan datos sin interés\n",
    "    for clase in [0, 1, 11, 50, 254, 255]:\n",
    "        data[data == clase] = np.nan\n",
    "    # convertir en 1 las presencias\n",
    "    data[data == 200] = 1\n",
    "    # convertir en 0 las ausencias\n",
    "    data[data == 25] = 0\n",
    "    SC[sat].data = data"
   ]
  },
  {
   "cell_type": "markdown",
   "metadata": {},
   "source": [
    "### 3.3 Unificar datos de Terra y Aqua"
   ]
  },
  {
   "cell_type": "code",
   "execution_count": null,
   "metadata": {},
   "outputs": [],
   "source": [
    "# extraer datos de Terra y Aqua\n",
    "terra = SC['Terra'].data\n",
    "aqua = SC['Aqua'].data\n",
    "\n",
    "# partiendo de los datos de Terra\n",
    "mix = terra.copy()\n",
    "\n",
    "# se añaden los datos de Aqua donde Terra tenga NaN\n",
    "maskAqua = np.isnan(terra) & ~np.isnan(aqua)\n",
    "mix[maskAqua] = aqua[maskAqua]\n",
    "\n",
    "# definir objeto raster3D\n",
    "SCobs = raster3D(mix, SC['Terra'].X, SC['Terra'].Y, SC['Terra'].times, SC['Terra'].units,\n",
    "                variable='observed snow cover', label='SCobs', crs=SC['Terra'].crs)"
   ]
  },
  {
   "cell_type": "code",
   "execution_count": null,
   "metadata": {},
   "outputs": [],
   "source": [
    "t = 60\n",
    "time = times[t]\n",
    "print(time)\n",
    "fig, axes = plt.subplots(ncols=3, figsize=(15, 5))\n",
    "\n",
    "for ax, Var in zip(axes, [SC['Terra'], SC['Aqua'], SCobs]):\n",
    "    #cuenca.plot(color='lightgray', ax=ax, zorder=0, alpha=.25)\n",
    "    cuenca.boundary.plot(color='lightgray', ax=ax, zorder=0)\n",
    "    Var.plot(time=time, ax=ax)\n",
    "    ax.set_title(Var.variable)\n",
    "    ax.axis('off')"
   ]
  },
  {
   "cell_type": "markdown",
   "metadata": {},
   "source": [
    "### 3.4 Exportar datos tratados"
   ]
  },
  {
   "cell_type": "code",
   "execution_count": null,
   "metadata": {},
   "outputs": [],
   "source": [
    "filename = 'MODIS_Maximum_Snow_Extent_Terra+Aqua.nc'"
   ]
  },
  {
   "cell_type": "code",
   "execution_count": null,
   "metadata": {},
   "outputs": [],
   "source": [
    "# definir el netcdf\n",
    "ncMODIS = Dataset(rutaExport + filename, 'w', format='NETCDF4')\n",
    "\n",
    "# crear atributos\n",
    "ncMODIS.description = 'Serie temporal de mapas de SC de la cuenca del Deva obtenidos a partir de MODIS'\n",
    "ncMODIS.history = 'Creado el ' + datetime.now().date().strftime('%Y-%m-%d')\n",
    "ncMODIS.source = 'https://e4ftl01.cr.usgs.gov/'\n",
    "ncMODIS.coordinateSystem = 'epsg:{0}'.format(modis.crs.to_epsg()) # 'SINUSOIDAL'\n",
    "\n",
    "# crear las dimensiones\n",
    "time = ncMODIS.createDimension('time', len(SCobs.times))\n",
    "Y = ncMODIS.createDimension('Y', len(SCobs.Y))\n",
    "X = ncMODIS.createDimension('X', len(SCobs.X))\n",
    "\n",
    "# crear variables\n",
    "Var = ncMODIS.createVariable('SC', 'f4', ('time', 'Y', 'X'))\n",
    "Var.units = units\n",
    "times = ncMODIS.createVariable('time', 'f8', ('time',))\n",
    "times.units = 'días desde el 0001-01-01'\n",
    "times.calendar = 'Gregoriano'\n",
    "Xs = ncMODIS.createVariable('X', 'u4', ('X',))\n",
    "Xs.units = 'm'\n",
    "Ys = ncMODIS.createVariable('Y', 'u4', ('Y',))\n",
    "Ys.units = 'm'\n",
    "\n",
    "# variable SC\n",
    "Var[:,:,:] = SCobs.data[:,:,:]\n",
    "# variable 'time'\n",
    "deltas = [date - datetime(1, 1, 1).date() for date in SCobs.times]\n",
    "times[:] = [delta.days for delta in deltas]\n",
    "# variable 'X'\n",
    "Xs[:] = SCobs.X # + cellsize / 2\n",
    "# variable 'Y'\n",
    "Ys[:] = SCobs.Y # + cellsize / 2\n",
    "\n",
    "ncMODIS.close()"
   ]
  },
  {
   "cell_type": "markdown",
   "metadata": {},
   "source": [
    "## 4 Vídeo"
   ]
  },
  {
   "cell_type": "code",
   "execution_count": null,
   "metadata": {},
   "outputs": [],
   "source": [
    "# definir colores\n",
    "colors = np.array([[255, 255, 255 , 0], [33, 178, 171, 130]])\n",
    "colors = colors / 255.\n",
    "cmap = ListedColormap(colors)\n",
    "boundaries = [0, .5, 1]\n",
    "norm = BoundaryNorm(boundaries, cmap.N, clip=True)"
   ]
  },
  {
   "cell_type": "code",
   "execution_count": null,
   "metadata": {},
   "outputs": [],
   "source": [
    "# definir límites del mapa\n",
    "xmin, ymin, xmax, ymax = cuenca.bounds.values[0]\n",
    "xmin -= cellsize * 2\n",
    "ymin -= cellsize * 2\n",
    "xmax += cellsize * 2\n",
    "ymax += cellsize * 2\n",
    "extent = [xmin, xmax, ymin, ymax]"
   ]
  },
  {
   "cell_type": "code",
   "execution_count": null,
   "metadata": {},
   "outputs": [],
   "source": [
    "# video(SC['Terra'], cuenca, cmap, norm, DEM, figsize=(6, 6), extent=extent)"
   ]
  },
  {
   "cell_type": "code",
   "execution_count": null,
   "metadata": {},
   "outputs": [],
   "source": [
    "rutaOut = os.path.join(rutaBase, '../output/')\n",
    "mp4File = rutaOut + 'SC_Terra_Aqua.mp4'\n",
    "video2(SC['Terra'], SC['Aqua'], cuenca, cmap, norm, DEM, fps=3, dpi=300, ax=axes[0], figsize=(12, 6), extent=extent,\n",
    "       labels=['Terra', 'Aqua'], export=mp4File)"
   ]
  },
  {
   "cell_type": "code",
   "execution_count": null,
   "metadata": {},
   "outputs": [],
   "source": []
  }
 ],
 "metadata": {
  "kernelspec": {
   "display_name": "Python 3",
   "language": "python",
   "name": "python3"
  },
  "language_info": {
   "codemirror_mode": {
    "name": "ipython",
    "version": 3
   },
   "file_extension": ".py",
   "mimetype": "text/x-python",
   "name": "python",
   "nbconvert_exporter": "python",
   "pygments_lexer": "ipython3",
   "version": "3.9.0"
  },
  "varInspector": {
   "cols": {
    "lenName": 16,
    "lenType": 16,
    "lenVar": 40
   },
   "kernels_config": {
    "python": {
     "delete_cmd_postfix": "",
     "delete_cmd_prefix": "del ",
     "library": "var_list.py",
     "varRefreshCmd": "print(var_dic_list())"
    },
    "r": {
     "delete_cmd_postfix": ") ",
     "delete_cmd_prefix": "rm(",
     "library": "var_list.r",
     "varRefreshCmd": "cat(var_dic_list()) "
    }
   },
   "types_to_exclude": [
    "module",
    "function",
    "builtin_function_or_method",
    "instance",
    "_Feature"
   ],
   "window_display": false
  }
 },
 "nbformat": 4,
 "nbformat_minor": 4
}
