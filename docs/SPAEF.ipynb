{
 "cells": [
  {
   "cell_type": "markdown",
   "metadata": {},
   "source": [
    "# SPAtial EFficiency metric\n",
    "_Autor:_    __Jesús Casado__ <br> _Revisión:_ __22/01/2020__\n",
    "\n",
    "__Introducción__<br>\n",
    "Se genera el código para aplicar la métrica de rendimiento de un modelo hidrólogico SPAEF [(Koch et al., 2018)](https://www.geosci-model-dev.net/11/1873/2018/). Es una función objetivo que analiza espacialmente el rendimiento del modelo y que emula la lógica detrás del criterio KGE (Kling-Gupta efficiency) [(Gupta et al., 2009)](https://www.sciencedirect.com/science/article/pii/S0022169409004843), utilizado habitualmente para el caudal.\n",
    "\n",
    "$$SPAEF=1-\\sqrt{(\\alpha-1)^2+(\\beta-1)^2+(\\gamma-1)^2}$$\n",
    "Donde:\n",
    "$$\\alpha=\\rho(obs,sim)\n",
    "\\;\\;\\;\n",
    "\\beta=\\frac{\\frac{\\sigma_{sim}}{\\mu_{sim}}}{\\frac{\\sigma_{obs}}{\\mu_{obs}}}\n",
    "\\;\\;\\;\n",
    "\\gamma=\\frac{\\sum_{j=1}^{n}min(K_j,L_j)}{\\sum_{j=1}^{n}K_j}$$\n",
    "\n",
    "Como caso de estudio al que aplicar el código se utilizan los resultados de la simulación de la evapotranspiración en la cuenca alta del río Deva.\n",
    "\n",
    "__Cosas que arreglar__ <br>\n",
    "\n",
    "***\n",
    "\n",
    "__Índice__ <br>\n",
    "__[0 Configuración](#0-Configuración)__<br>\n",
    "\n",
    "__[1 Sesgo](#1-Sesgo)__<br>\n",
    "[1.1 Resultados SCEUA](#1.1-Resultados-SCEUA)<br>"
   ]
  },
  {
   "cell_type": "code",
   "execution_count": 1,
   "metadata": {},
   "outputs": [],
   "source": [
    "import numpy as np\n",
    "import pandas as pd\n",
    "import matplotlib.pyplot as plt\n",
    "%matplotlib inline\n",
    "plt.style.use('seaborn-whitegrid')\n",
    "plt.style.use('dark_background')\n",
    "import os\n",
    "rutaBase = os.getcwd().replace('\\\\', '/') + '/'"
   ]
  },
  {
   "cell_type": "code",
   "execution_count": null,
   "metadata": {},
   "outputs": [],
   "source": []
  }
 ],
 "metadata": {
  "kernelspec": {
   "display_name": "Python 3",
   "language": "python",
   "name": "python3"
  },
  "language_info": {
   "codemirror_mode": {
    "name": "ipython",
    "version": 3
   },
   "file_extension": ".py",
   "mimetype": "text/x-python",
   "name": "python",
   "nbconvert_exporter": "python",
   "pygments_lexer": "ipython3",
   "version": "3.7.3"
  }
 },
 "nbformat": 4,
 "nbformat_minor": 4
}
