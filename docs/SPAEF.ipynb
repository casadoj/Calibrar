{
 "cells": [
  {
   "cell_type": "markdown",
   "metadata": {},
   "source": [
    "# SPAtial EFficiency metric\n",
    "_Autor:_    __Jesús Casado__ <br> _Revisión:_ __24/01/2020__\n",
    "\n",
    "__Introducción__<br>\n",
    "Se genera el código para aplicar la métrica de rendimiento de un modelo hidrólogico SPAEF [(Koch et al., 2018)](https://www.geosci-model-dev.net/11/1873/2018/). Es una función objetivo que analiza espacialmente el rendimiento del modelo y que emula la lógica detrás del criterio KGE (Kling-Gupta efficiency) [(Gupta et al., 2009)](https://www.sciencedirect.com/science/article/pii/S0022169409004843), utilizado habitualmente para el caudal.\n",
    "\n",
    "$$SPAEF=1-\\sqrt{(\\alpha-1)^2+(\\beta-1)^2+(\\gamma-1)^2}$$\n",
    "Donde $\\alpha$ es el coeficiente de correlación de Pearson, $\\beta$ el cociente entre los coeficientes de variación (representativo de la variabilidad espacial), y $\\gamma$ es la intersección entre los histogramas normalizados del patrón observado ($K$) y del patrón simulado ($L$):\n",
    "$$\\alpha=\\rho(obs,sim)\n",
    "\\;,\\;\\;\n",
    "\\beta=\\frac{\\frac{\\sigma_{sim}}{\\mu_{sim}}}{\\frac{\\sigma_{obs}}{\\mu_{obs}}}\n",
    "\\;,\\;\\;\n",
    "\\gamma=\\frac{\\sum_{j=1}^{n}min(K_j,L_j)}{\\sum_{j=1}^{n}K_j}$$\n",
    "\n",
    "Como caso de estudio al que aplicar el código se utilizan los resultados de la simulación de la evapotranspiración en la cuenca alta del río Deva.\n",
    "\n",
    "<font color='indianred'>__Limitación__: compara el acuerdo entre dos mapas, no entre dos series de mapas. Es decir, hay que obtener un mapa medio representativo de la variable. </font>\n",
    "\n",
    "__Cosas que arreglar__ <br>\n",
    "\n",
    "***\n",
    "\n",
    "__Índice__ <br>\n",
    "__[0 Configuración](#0-Configuración)__<br>\n",
    "\n",
    "__[1 Sesgo](#1-Sesgo)__<br>\n",
    "[1.1 Resultados SCEUA](#1.1-Resultados-SCEUA)<br>"
   ]
  },
  {
   "cell_type": "code",
   "execution_count": 1,
   "metadata": {},
   "outputs": [
    {
     "name": "stdout",
     "output_type": "stream",
     "text": [
      "F:/Codigo/GitHub/Calibrar/docs/\n"
     ]
    }
   ],
   "source": [
    "import numpy as np\n",
    "import pandas as pd\n",
    "\n",
    "from datetime import datetime, timedelta\n",
    "from netCDF4 import Dataset\n",
    "import os\n",
    "rutaBase = os.getcwd().replace('\\\\', '/') + '/'\n",
    "print(rutaBase)"
   ]
  },
  {
   "cell_type": "code",
   "execution_count": 2,
   "metadata": {},
   "outputs": [],
   "source": [
    "os.chdir(rutaBase + '..')\n",
    "from read_write import read_ascii, write_ascii"
   ]
  },
  {
   "cell_type": "code",
   "execution_count": 3,
   "metadata": {},
   "outputs": [],
   "source": [
    "import matplotlib.pyplot as plt\n",
    "plt.style.use('seaborn-whitegrid')\n",
    "plt.style.use('dark_background')\n",
    "%matplotlib inline\n",
    "from mpl_toolkits.axes_grid1 import make_axes_locatable\n",
    "from matplotlib.gridspec import GridSpec\n",
    "\n",
    "import seaborn as sns\n",
    "sns.set()\n",
    "custom_style = {'axes.facecolor': 'k',\n",
    "                'axes.edgecolor': 'gray',\n",
    "                'axes.labelcolor': 'white',\n",
    "                'figure.facecolor': 'k',\n",
    "                'grid.color': 'gray',\n",
    "                'text.color': 'white',\n",
    "                'xtick.color': 'white',\n",
    "                'ytick.color': 'white',\n",
    "                \"xtick.major.size\": 0,\n",
    "                \"ytick.major.size\": 0}\n",
    "sns.set_style(style='darkgrid', rc=custom_style)"
   ]
  },
  {
   "cell_type": "markdown",
   "metadata": {},
   "source": [
    "***\n",
    "## Configuración"
   ]
  },
  {
   "cell_type": "code",
   "execution_count": 4,
   "metadata": {},
   "outputs": [],
   "source": [
    "var = 'ET'"
   ]
  },
  {
   "cell_type": "markdown",
   "metadata": {},
   "source": [
    "***\n",
    "## Cargar datos\n",
    "#### MODIS"
   ]
  },
  {
   "cell_type": "code",
   "execution_count": 5,
   "metadata": {},
   "outputs": [],
   "source": [
    "# fijar ruta y nombre del archivo\n",
    "rutaMODIS = rutaBase + '../../MODIS/output/' + var + '/'\n",
    "filename = 'MODIS_' + var + '_ArcGIS.nc'"
   ]
  },
  {
   "cell_type": "code",
   "execution_count": 6,
   "metadata": {},
   "outputs": [],
   "source": [
    "# Cargar netcdf con los datos MODIS\n",
    "ncRead = Dataset(rutaMODIS + filename, 'r', format='NETCDF4')\n",
    "\n",
    "# extraer datos en un diccionario\n",
    "Data = {'Terra': {}, 'Aqua': {}}\n",
    "for sat in ['Terra', 'Aqua']:\n",
    "    # evapotranspiración\n",
    "    Data[sat][var] = ncRead[sat][var][::]\n",
    "    # fechas\n",
    "    Data[sat]['dates'] = [datetime(1, 1, 1) + timedelta(time) for time in ncRead[sat]['time'][:]]\n",
    "    # coordenadas\n",
    "    Data[sat]['X'] = ncRead[sat]['X'][:]\n",
    "    Data[sat]['Y'] = ncRead[sat]['Y'][:]\n",
    "\n",
    "ncRead.close()"
   ]
  },
  {
   "cell_type": "code",
   "execution_count": 7,
   "metadata": {},
   "outputs": [
    {
     "name": "stdout",
     "output_type": "stream",
     "text": [
      "Terra:\t(840, 46, 47)\n",
      "Aqua:\t(774, 46, 47)\n"
     ]
    }
   ],
   "source": [
    "print('Terra:\\t{0}'.format(Data['Terra'][var].shape))\n",
    "print('Aqua:\\t{0}'.format(Data['Aqua'][var].shape))"
   ]
  },
  {
   "cell_type": "markdown",
   "metadata": {},
   "source": [
    "Voy a utilizar los datos de __Terra__ porque comienzan antes y, por tanto, tienen mayor solape con el periodo de simulación en TETIS."
   ]
  },
  {
   "cell_type": "code",
   "execution_count": 8,
   "metadata": {},
   "outputs": [],
   "source": [
    "del Data['Aqua']"
   ]
  },
  {
   "cell_type": "markdown",
   "metadata": {},
   "source": [
    "#### TETIS"
   ]
  },
  {
   "cell_type": "code",
   "execution_count": null,
   "metadata": {},
   "outputs": [],
   "source": [
    "# fijar rutas y nombre del archivo\n",
    "rutaData = rutaBase + '../data/'\n",
    "filename = 'TETIS_' + var + '.nc'"
   ]
  },
  {
   "cell_type": "code",
   "execution_count": null,
   "metadata": {},
   "outputs": [],
   "source": [
    "if os.path.exists(rutaData + filename):\n",
    "    # IMPORTAR NETCDF\n",
    "    # ---------------\n",
    "    # Cargar netcdf con los datos MODIS\n",
    "    ncRead = Dataset(rutaData + filename, 'r', format='NETCDF4')\n",
    "    # extraer datos en un diccionario\n",
    "    Data = {'TETIS': {}}\n",
    "    # evapotranspiración\n",
    "    Data['TETIS'][var] = ncRead[var][::]\n",
    "    # fechas\n",
    "    Data['TETIS']['dates'] = [datetime(1, 1, 1) + timedelta(time) for time in ncRead['time'][:]]\n",
    "    # coordenadas\n",
    "    Data['TETIS']['X'] = ncRead['X'][:]\n",
    "    Data['TETIS']['Y'] = ncRead['Y'][:]\n",
    "    # cerrar conexión\n",
    "    ncRead.close()\n",
    "    \n",
    "else:\n",
    "    # IMPORTAR ASCII DE TETIS\n",
    "    # -----------------------\n",
    "    # ruta del proyecto TETIS\n",
    "    rutaTETIS = 'F:/Proyectos/GESDIVAH/SDM/TETIS/PdE/Actual/Bias/'\n",
    "\n",
    "    # lista de archivos con los resultados\n",
    "    os.chdir(rutaTETIS + '_ASCII/')\n",
    "    files = [file for file in os.listdir() if file[-3:] == 'asc']\n",
    "\n",
    "    # cargar archivos ascii con los resultados de TETIS\n",
    "    for i, file in enumerate(files):\n",
    "        print('archivo {0:>3} de {1}: {2}'.format(i+1, len(files), file), end='\\r')\n",
    "        # leer archivo ascii\n",
    "        read_ascii(file)\n",
    "        if i == 0:\n",
    "            Datatetis = read_ascii.data\n",
    "            atrsTetis = read_ascii.attributes\n",
    "        else:\n",
    "            Datatetis = np.dstack((Datatetis, read_ascii.data))    \n",
    "\n",
    "    # transformar 'Datatetis' para que la primera dimensión sea el tiempo\n",
    "    Datatetis = np.moveaxis(Datatetis, 2, 0)\n",
    "    \n",
    "    # guardar en un diccionario\n",
    "    TETISdict = {}\n",
    "    TETISdict[var] = Datatetis\n",
    "    del Datatetis\n",
    "\n",
    "    # fechas de cada mapa\n",
    "    datesStr = [file.split('_')[1].split('.')[0][:8] for file in files]\n",
    "    TETISdict['dates'] = [datetime(int(date[:4]), int(date[4:6]), int(date[6:8])).date() for date in datesStr]\n",
    "    del datesStr\n",
    "\n",
    "    # coordenadas\n",
    "    TETISdict['X'] = np.arange(atrsTetis[2], atrsTetis[2] + atrsTetis[0] * atrsTetis[5] + 1,\n",
    "                                 atrsTetis[5])\n",
    "    TETISdict['Y'] = np.arange(atrsTetis[3], atrsTetis[3] + atrsTetis[1] * atrsTetis[5] + 1,\n",
    "                                 atrsTetis[5])\n",
    "\n",
    "    # GENERAR NETCDF\n",
    "    # --------------\n",
    "    # definir el netcdf\n",
    "    if os.path.exists(rutaBase + '../data/') == False:\n",
    "        os.makedirs(rutaBase + '../data/') # crear carpeta donde guardarlo\n",
    "    ncTETIS = Dataset(rutaData + filename, 'w', format='NETCDF4')\n",
    "\n",
    "    # crear atributos\n",
    "    ncTETIS.description = 'Serie temporal de mapas de evapotranspiración simulados con TETIS de la cuenca del Deva'\n",
    "    ncTETIS.history = 'Creado el ' + datetime.now().date().strftime('%Y-%m-%d')\n",
    "    ncTETIS.coordinateSystem = 'epsg:25830' # ETRS89 30N\n",
    "\n",
    "    # crear las dimensiones\n",
    "    time = ncTETIS.createDimension('time', len(TETISdict['dates']))\n",
    "    Y = ncTETIS.createDimension('Y', len(TETISdict['Y']))\n",
    "    X = ncTETIS.createDimension('X', len(TETISdict['X']))\n",
    "\n",
    "    # crear variables\n",
    "    data = ncTETIS.createVariable(var, 'f4', ('time', 'Y', 'X'))\n",
    "    data.units = 'mm/8días'\n",
    "    times = ncTETIS.createVariable('time', 'f8', ('time',))\n",
    "    times.units = 'días desde el 0001-01-01'\n",
    "    times.calendar = 'Gregoriano'\n",
    "    Xs = ncTETIS.createVariable('X', 'u4', ('X',))\n",
    "    Xs.units = 'm'\n",
    "    Ys = ncTETIS.createVariable('Y', 'u4', ('Y',))\n",
    "    Ys.units = 'm'\n",
    "\n",
    "    # variable\n",
    "    data[:,:,:] = TETISdict[var][:,:,:]\n",
    "    # variable 'time'\n",
    "    deltas = [date - datetime(1, 1, 1).date() for date in TETISdict['dates']]\n",
    "    times[:] = [delta.days for delta in deltas]\n",
    "    # variable 'X'\n",
    "    Xs[:] = TETISdict['X']\n",
    "    # variable 'Y'\n",
    "    Ys[:] = TETISdict['Y']\n",
    "\n",
    "    ncTETIS.close()"
   ]
  },
  {
   "cell_type": "code",
   "execution_count": null,
   "metadata": {},
   "outputs": [],
   "source": []
  },
  {
   "cell_type": "code",
   "execution_count": null,
   "metadata": {},
   "outputs": [],
   "source": [
    "# guardar en el diccionario con todos los datos\n",
    "Data['TETIS'] = {}\n",
    "Data['TETIS'][var] = Datatetis\n",
    "del Datatetis\n",
    "\n",
    "# fechas de cada mapa\n",
    "datesStr = [file.split('_')[1].split('.')[0][:8] for file in files]\n",
    "Data['TETIS']['dates'] = [datetime(int(date[:4]), int(date[4:6]), int(date[6:8])).date() for date in datesStr]\n",
    "del datesStr\n",
    "\n",
    "# coordenadas\n",
    "Data['TETIS']['X'] = np.arange(atrsTetis[2], atrsTetis[2] + atrsTetis[0] * atrsTetis[5] + 1,\n",
    "                             atrsTetis[5])\n",
    "Data['TETIS']['Y'] = np.arange(atrsTetis[3], atrsTetis[3] + atrsTetis[1] * atrsTetis[5] + 1,\n",
    "                             atrsTetis[5])"
   ]
  },
  {
   "cell_type": "markdown",
   "metadata": {},
   "source": [
    "### Seleccionar periodo de estudio\n",
    "Se seleccionan los datos correspondientes al periodo en el que ambas fuentes (Terra y TETIS) tienen datos."
   ]
  },
  {
   "cell_type": "code",
   "execution_count": null,
   "metadata": {},
   "outputs": [],
   "source": [
    "dateMin = max(Data['Terra']['dates'][0].date(), Data['TETIS']['dates'][0])\n",
    "dateMax = min(Data['Terra']['dates'][-1].date(), Data['TETIS']['dates'][-1])\n",
    "print('fecha de inicio:\\t{0}\\nfecha de fin:\\t\\t{1}'.format(dateMin, dateMax))"
   ]
  },
  {
   "cell_type": "markdown",
   "metadata": {},
   "source": [
    "__Terra__"
   ]
  },
  {
   "cell_type": "code",
   "execution_count": null,
   "metadata": {},
   "outputs": [],
   "source": [
    "# seleccionar datos de Terra dentro de las fechas de inicio y fin\n",
    "datesTerra = np.array([d.date() for d in Data['Terra']['dates']])\n",
    "mask = (datesTerra >= dateMin) & (datesTerra <= dateMax)\n",
    "Data['Terra']['dates'] = datesTerra[mask]\n",
    "print('nº de fechas:\\t{0}'.format(len(Data['Terra']['dates'])))\n",
    "\n",
    "# recortar los mapas dentro de las fechas de inicio y fin\n",
    "Data['Terra'][var] = Data['Terra'][var][mask, :, :]\n",
    "print('dimensiones:\\t{0}'.format(Data['Terra'][var].shape))\n",
    "\n",
    "del datesTerra, mask"
   ]
  },
  {
   "cell_type": "markdown",
   "metadata": {},
   "source": [
    "__TETIS__"
   ]
  },
  {
   "cell_type": "code",
   "execution_count": null,
   "metadata": {},
   "outputs": [],
   "source": [
    "# seleccionar datos de TETIS dentro de las fechas de inicio y fin\n",
    "datesTetis = np.array(Data['TETIS']['dates'])\n",
    "mask = (datesTetis >= dateMin) & (datesTetis <= dateMax)\n",
    "Data['TETIS']['dates'] = datesTetis[mask]\n",
    "print('nº de fechas:\\t{0}'.format(len(Data['TETIS']['dates'])))\n",
    "\n",
    "# recortar los mapas dentro de las fechas de inicio y fin\n",
    "Data['TETIS'][var] = Data['TETIS'][var][mask, :, :]\n",
    "print('dimensiones:\\t{0}'.format(Data['TETIS'][var].shape))\n",
    "\n",
    "del datesTetis, mask"
   ]
  },
  {
   "cell_type": "markdown",
   "metadata": {},
   "source": [
    "***\n",
    "## Análisis\n",
    "### Evapotranspiración media"
   ]
  },
  {
   "cell_type": "code",
   "execution_count": null,
   "metadata": {},
   "outputs": [],
   "source": [
    "np.nanmax((Data['TETIS'][var]))"
   ]
  },
  {
   "cell_type": "code",
   "execution_count": null,
   "metadata": {},
   "outputs": [],
   "source": [
    "np.nanmax((Data['Terra'][var]))"
   ]
  },
  {
   "cell_type": "code",
   "execution_count": null,
   "metadata": {},
   "outputs": [],
   "source": [
    "# mapas medios del periodo\n",
    "for src in ['Terra', 'TETIS']:\n",
    "    Data[src][var + '_'] = np.nanmean(Data[src][var], axis=0)"
   ]
  },
  {
   "cell_type": "code",
   "execution_count": null,
   "metadata": {},
   "outputs": [],
   "source": [
    "plotMODISseries(Data, var, 'dates', r=10, src=['TETIS', 'Terra'])"
   ]
  },
  {
   "cell_type": "code",
   "execution_count": null,
   "metadata": {},
   "outputs": [],
   "source": [
    "fig, axes = plt.subplots(ncols=2, figsize=(10, 5))\n",
    "fig.subplots_adjust(right=0.9)\n",
    "\n",
    "r = 10\n",
    "vmin = np.floor(min(np.nanmin(Data['TETIS'][var + '_']),\n",
    "                    np.nanmin(Data['Terra'][var + '_'])) / r) * r\n",
    "vmax = np.ceil(max(np.nanmax(Data['TETIS'][var + '_']),\n",
    "                   np.nanmax(Data['Terra'][var + '_'])) / r) * r\n",
    "cmap = 'summer_r'\n",
    "\n",
    "for ax, src in zip(axes, ['TETIS', 'Terra']):\n",
    "    im = ax.imshow(Data[src][var + '_'], cmap='summer_r')\n",
    "    ax.set_title(src, fontsize=13)\n",
    "    ax.axis('off')\n",
    "    \n",
    "cbar_ax = fig.add_axes([0.925, 0.3, 0.01, 0.4])\n",
    "cbar_ax.tick_params(labelsize=12)\n",
    "cb = plt.colorbar(im, cax=cbar_ax, orientation='vertical')\n",
    "cb.set_label('mm/8 días', fontsize=14)\n",
    "    \n",
    "fig.text(0.5, .92, var + ' media', fontsize=15, fontweight='bold', horizontalalignment='center');"
   ]
  },
  {
   "cell_type": "code",
   "execution_count": null,
   "metadata": {},
   "outputs": [],
   "source": [
    "np.nanmax(Data['Terra']['ET'])"
   ]
  },
  {
   "cell_type": "code",
   "execution_count": null,
   "metadata": {},
   "outputs": [],
   "source": [
    "plotMODISseris(Data, var, 'dates', 10, src=['Terra', 'TETIS'], ymin=0, ylabel=var + ' (mm)')"
   ]
  },
  {
   "cell_type": "code",
   "execution_count": null,
   "metadata": {},
   "outputs": [],
   "source": [
    "ymin=None\n",
    "ylabel=None\n",
    "lw=.25\n",
    "alpha=.1"
   ]
  },
  {
   "cell_type": "code",
   "execution_count": null,
   "metadata": {},
   "outputs": [],
   "source": [
    "# mostrar la serie 8-diaria para cada celda y la media de la cuenca\n",
    "fig, axes = plt.subplots(nrows=2, figsize=(15, 7), sharex=True)\n",
    "\n",
    "xlim = [min(min(Data['Terra']['dates']), min(Data['TETIS']['dates'])),\n",
    "        max(max(Data['Terra']['dates']), max(Data['TETIS']['dates']))]\n",
    "ymin = 0\n",
    "ymax = np.ceil(max([np.nanmax(Data[sat][var]) for sat in Data.keys()]) / r) * r\n",
    "colors = [['yellowgreen', 'darkolivegreen'], ['lightsteelblue', 'steelblue']]\n",
    "\n",
    "for c, (ax, sat) in enumerate(zip(axes, ['Terra', 'TETIS'])):\n",
    "    timex, datax = Data[sat]['dates'], Data[sat][var]\n",
    "    for i in range(datax.shape[1]):\n",
    "        for j in range(datax.shape[2]):\n",
    "            if np.all(np.isnan(datax[:,i,j])): # celda vacía\n",
    "                continue\n",
    "            else:\n",
    "                # serie de una celda\n",
    "                ax.plot(timex, datax[:, i,j], lw=lw, c=colors[c][0], alpha=alpha)\n",
    "    # serie media areal\n",
    "    ax.plot(timex, np.nanmean(datax, axis=(1, 2)), c=colors[c][1], lw=4*lw)\n",
    "    # configuración\n",
    "    ax.tick_params(labelsize=11)\n",
    "    ax.set(xlim=xlim, ylim=(ymin, ymax))\n",
    "    ax.set_ylabel(ylabel, fontsize=13)\n",
    "    ax.set_title(sat, fontsize=13, fontweight='bold');"
   ]
  },
  {
   "cell_type": "code",
   "execution_count": null,
   "metadata": {},
   "outputs": [],
   "source": [
    "i, j = 0, 0"
   ]
  },
  {
   "cell_type": "code",
   "execution_count": null,
   "metadata": {},
   "outputs": [],
   "source": [
    "np.all(np.isnan(datax[:,i,j]))"
   ]
  },
  {
   "cell_type": "code",
   "execution_count": null,
   "metadata": {},
   "outputs": [],
   "source": [
    "if ymin == True:\n",
    "    ymin = np.floor(min([np.nanmin(data[sat][var]) for sat in data.keys()]) / r) * r\n",
    "else:\n",
    "    ymin = 0\n",
    "ymax = np.ceil(max([np.nanmax(data[sat][var]) for sat in data.keys()]) / r) * r\n",
    "colors = [['yellowgreen', 'darkolivegreen'], ['lightsteelblue', 'steelblue']]\n",
    "\n",
    "for c, (ax, sat) in enumerate(zip(axes, ['Terra', 'Aqua'])):\n",
    "    timex, datax = data[sat][timevar], data[sat][var]\n",
    "    for i in range(datax.shape[1]):\n",
    "        for j in range(datax.shape[2]):\n",
    "            if np.all(np.isnan(datax[:,i,j])): # celda vacía\n",
    "                continue\n",
    "            else:\n",
    "                # serie de una celda\n",
    "                ax.plot(timex, datax[:, i,j], lw=lw, c=colors[c][0], alpha=alpha)\n",
    "    # serie media areal\n",
    "    ax.plot(timex, np.nanmean(datax, axis=(1, 2)), c=colors[c][1], lw=4*lw)\n",
    "    # configuración\n",
    "    ax.tick_params(labelsize=11)\n",
    "    ax.set(xlim=xlim, ylim=(ymin, ymax))\n",
    "    ax.set_ylabel(ylabel, fontsize=13)\n",
    "    ax.set_title(sat, fontsize=13, fontweight='bold');"
   ]
  },
  {
   "cell_type": "markdown",
   "metadata": {},
   "source": [
    "1. <font color='steelblue'>Generar mapas medios</font>. Probaría inicialmente con un mapa medio de junio, al igual que hace Koch (2018).\n",
    "2. <font color='steelblue'>Normalizar mapas</font>. Necesario para comparar dos mapas que puedan tener diferentes magnitudes\n",
    "3. <font color='steelblue'>Hacer coincidir la resolución espacial</font>. Seguramente sea mejor suavizar el mapa de mayor resolución (TETIS) para acomodarse al de menor resolución (MODIS).\n",
    "4. <font color='steelblue'>Analizar SPAEF</font>\n",
    "\n",
    "<font color='indianred'>¡UNIDADES DE MODIS!</font>"
   ]
  },
  {
   "cell_type": "markdown",
   "metadata": {},
   "source": [
    "#### 1 Generar mapas medios\n",
    "__TETIS__"
   ]
  },
  {
   "cell_type": "code",
   "execution_count": null,
   "metadata": {},
   "outputs": [],
   "source": [
    "# evapotranspiración media en junio\n",
    "mask = np.array([d.month == 6 for d in datesTetis])\n",
    "print('nº de mapas en junio: {0}'.format(mask.sum()))\n",
    "meanTETIS = np.nanmean(ETtetis[mask,:,:], axis=0)"
   ]
  },
  {
   "cell_type": "markdown",
   "metadata": {},
   "source": [
    "__Terra__"
   ]
  },
  {
   "cell_type": "code",
   "execution_count": null,
   "metadata": {},
   "outputs": [],
   "source": [
    "# evapotranspiración media en junio\n",
    "mask = np.array([d.month == 6 for d in datesTerra])\n",
    "print('nº de mapas en junio: {0}'.format(mask.sum()))\n",
    "meanTerra = np.nanmean(ETterra[mask,:,:], axis=0).data"
   ]
  },
  {
   "cell_type": "code",
   "execution_count": null,
   "metadata": {},
   "outputs": [],
   "source": [
    "fig, axes = plt.subplots(ncols=2, figsize=(10, 5))\n",
    "fig.subplots_adjust(right=0.9)\n",
    "\n",
    "r = 10\n",
    "vmin = np.floor(min(np.nanmin(meanTETIS), np.nanmin(meanTerra)) / r) * r\n",
    "vmax = np.ceil(max(np.nanmax(meanTETIS), np.nanmax(meanTerra)) / r) * r\n",
    "cmap = 'summer_r'\n",
    "\n",
    "for ax, data, title in zip(axes, [meanTETIS, meanTerra], ['TETIS', 'Terra']):\n",
    "    im = ax.imshow(data, cmap=cmap, vmin=vmin, vmax=vmax)\n",
    "    ax.set_title(title, fontsize=13)\n",
    "    ax.axis('off')\n",
    "    \n",
    "cbar_ax = fig.add_axes([0.925, 0.3, 0.01, 0.4])\n",
    "cbar_ax.tick_params(labelsize=12)\n",
    "cb = plt.colorbar(im, cax=cbar_ax, orientation='vertical')\n",
    "cb.set_label('mm/mes', fontsize=14)\n",
    "    \n",
    "fig.text(0.5, .92, 'ET media junio', fontsize=15, fontweight='bold', horizontalalignment='center');"
   ]
  },
  {
   "cell_type": "markdown",
   "metadata": {},
   "source": [
    "<font color='indianred'>A simple vista se observa un gran __sesgo__ entre el mapa simulado y el mapa de MODIS</font>. Mientras que el mapa de MODIS otorga valores de hasta 50 mm de ET en el mes de junio, el mapa simulado no pasa de los 10 mm. Para demostrar este sesgo, se muestran más abajo el resumen estadístico (cuantiles, media y desviación típica) de ambos mapas.\n",
    "\n",
    "Si se ajustan por separado las leyendas de los dos mapas, se observa que la variabilidad del mapa simulado es muy superior a la del mapa de MODIS, y que los patrones espaciales de ambos mapas no corresponden"
   ]
  },
  {
   "cell_type": "code",
   "execution_count": null,
   "metadata": {},
   "outputs": [],
   "source": [
    "print('Resumen del mapa medio de junio de TETIS')\n",
    "print('min = {0:.1f}\\tmedian = {1:.1f}\\tmax = {2:.1f}\\tmean = {3:.1f}\\tstd = {4:.1f}'.format(np.nanmin(meanTETIS),\n",
    "                                                                                             np.nanmedian(meanTETIS),\n",
    "                                                                                             np.nanmax(meanTETIS),\n",
    "                                                                                             np.nanmean(meanTETIS),\n",
    "                                                                                             np.nanstd(meanTETIS)), end='\\n\\n')\n",
    "\n",
    "print('Resumen del mapa medio de junio de Terra')\n",
    "print('min = {0:.1f}\\tmedian = {1:.1f}\\tmax = {2:.1f}\\tmean = {3:.1f}\\tstd = {4:.1f}'.format(np.nanmin(meanTerra),\n",
    "                                                                                             np.nanmedian(meanTerra),\n",
    "                                                                                             np.nanmax(meanTerra),\n",
    "                                                                                             np.nanmean(meanTerra),\n",
    "                                                                                             np.nanstd(meanTerra)), end='\\n\\n')"
   ]
  },
  {
   "cell_type": "markdown",
   "metadata": {},
   "source": [
    "#### Normalizar mapas\n",
    "En el caso de la evapotranspiración, lo correcto no sería normalizar los datos, puesto que coinciden la variable y unidades de salida de TETIS con las de MODIS. Corregir los mapas supone obviar el sesgo comentado anteriormente, lo cual no es correcto. Sin embargo, en este ejemplo de prueba voy a normalizar los mapas para poder analizar el acuerdo entre histogramas."
   ]
  },
  {
   "cell_type": "code",
   "execution_count": null,
   "metadata": {},
   "outputs": [],
   "source": []
  },
  {
   "cell_type": "code",
   "execution_count": null,
   "metadata": {},
   "outputs": [],
   "source": []
  },
  {
   "cell_type": "code",
   "execution_count": null,
   "metadata": {},
   "outputs": [],
   "source": []
  },
  {
   "cell_type": "markdown",
   "metadata": {},
   "source": [
    "#### Superponer mapas"
   ]
  },
  {
   "cell_type": "code",
   "execution_count": null,
   "metadata": {},
   "outputs": [],
   "source": [
    "xTerra = ET['Terra']['X'].data\n",
    "yTerra = ET['Terra']['Y'].data\n",
    "\n",
    "print('Limites mapa de Terra')\n",
    "print('esquina inf. izda.: ({0},{1})'.format(xTerra[0], yTerra[-1]))\n",
    "print('esquina sup. dcha.: ({0},{1})'.format(xTerra[-1], yTerra[0]))"
   ]
  },
  {
   "cell_type": "code",
   "execution_count": null,
   "metadata": {},
   "outputs": [],
   "source": [
    "xTetis = np.arange(atrsTetis[2], atrsTetis[2] + atrsTetis[4] * atrsTetis[0], atrsTetis[4])\n",
    "yTetis = np.arange(atrsTetis[3], atrsTetis[3] + atrsTetis[4] * atrsTetis[1], atrsTetis[4])[::-1]\n",
    "\n",
    "print('Limites mapa de TETIS')\n",
    "print('esquina inf. izda.: ({0},{1})'.format(xTetis[0], yTetis[-1]))\n",
    "print('esquina sup. dcha.: ({0},{1})'.format(xTetis[-1], yTetis[0]))"
   ]
  },
  {
   "cell_type": "code",
   "execution_count": null,
   "metadata": {},
   "outputs": [],
   "source": [
    "plt.figure(figsize=(12, 5))\n",
    "\n",
    "plt.imshow(meanTETIS, extent=[xTerra[0], xTerra[-1], yTerra[-1], yTerra[0]])\n",
    "plt.imshow(meanTerra, extent=[xTetis[0], xTetis[-1], yTetis[-1], yTetis[0]], cmap='summer_r', alpha=.7)\n",
    "plt.axis('off');"
   ]
  },
  {
   "cell_type": "code",
   "execution_count": null,
   "metadata": {},
   "outputs": [],
   "source": [
    "# exportar ASCII de los mapas medios\n",
    "atrsTerra = [meanTerra.shape[1], meanTerra.shape[0], xTerra[0], yTerra[-1], 500, -9999.0]\n",
    "temp = meanTerra.copy()\n",
    "temp[np.isnan(temp)] = atrsTerra[5]\n",
    "write_ascii(rutaBase + '../output/Terra-meanETjune', temp, atrsTerra, format='%.1f ', epsg='25830')\n",
    "del temp"
   ]
  },
  {
   "cell_type": "code",
   "execution_count": null,
   "metadata": {},
   "outputs": [],
   "source": [
    "temp = meanTETIS.copy()\n",
    "temp[np.isnan(temp)] = atrsTetis[5]\n",
    "write_ascii(rutaBase + '../output/TETIS-meanETjune', temp, atrsTetis, format='%.1f ', epsg='25830')\n",
    "del temp"
   ]
  }
 ],
 "metadata": {
  "kernelspec": {
   "display_name": "Python 3",
   "language": "python",
   "name": "python3"
  },
  "language_info": {
   "codemirror_mode": {
    "name": "ipython",
    "version": 3
   },
   "file_extension": ".py",
   "mimetype": "text/x-python",
   "name": "python",
   "nbconvert_exporter": "python",
   "pygments_lexer": "ipython3",
   "version": "3.7.3"
  }
 },
 "nbformat": 4,
 "nbformat_minor": 4
}
