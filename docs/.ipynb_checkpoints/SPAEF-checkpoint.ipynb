{
 "cells": [
  {
   "cell_type": "code",
   "execution_count": null,
   "metadata": {},
   "outputs": [],
   "source": []
  },
  {
   "cell_type": "markdown",
   "metadata": {},
   "source": [
    "# SPAtial EFficiency metric\n",
    "_Autor:_    __Jesús Casado__ <br> _Revisión:_ __22/01/2020__\n",
    "\n",
    "__Introducción__<br>\n",
    "Se genera el código para aplicar la métrica de rendimiento de un modelo hidrólogico SPAEF [(Koch et al., 2018)](https://www.geosci-model-dev.net/11/1873/2018/). Es una función objetivo que analiza espacialmente el rendimiento del modelo y que emula la lógica detrás del criterio KGE (Kling-Gupta efficiency) [(Gupta et al., 2009)](https://www.sciencedirect.com/science/article/pii/S0022169409004843), utilizado habitualmente para el caudal.\n",
    "\n",
    "$$SPAEF=1-\\sqrt{(\\alpha-1)^2+(\\beta-1)^2+(\\gamma-1)^2}$$\n",
    "Donde $\\alpha$ es el coeficiente de correlación de Pearson, $\\beta$ el cociente entre los coeficientes de variación (representativo de la variabilidad espacial), y $\\gamma$ es la intersección entre los histogramas normalizados del patrón observado ($K$) y del patrón simulado ($L$):\n",
    "$$\\alpha=\\rho(obs,sim)\n",
    "\\;,\\;\\;\n",
    "\\beta=\\frac{\\frac{\\sigma_{sim}}{\\mu_{sim}}}{\\frac{\\sigma_{obs}}{\\mu_{obs}}}\n",
    "\\;,\\;\\;\n",
    "\\gamma=\\frac{\\sum_{j=1}^{n}min(K_j,L_j)}{\\sum_{j=1}^{n}K_j}$$\n",
    "\n",
    "Como caso de estudio al que aplicar el código se utilizan los resultados de la simulación de la evapotranspiración en la cuenca alta del río Deva.\n",
    "\n",
    "<font color='indianred'>__Limitación__: compara el acuerdo entre dos mapas, no entre dos series de mapas. Es decir, hay que obtener un mapa medio representativo de la variable. </font>\n",
    "\n",
    "__Cosas que arreglar__ <br>\n",
    "\n",
    "***\n",
    "\n",
    "__Índice__ <br>\n",
    "__[0 Configuración](#0-Configuración)__<br>\n",
    "\n",
    "__[1 Sesgo](#1-Sesgo)__<br>\n",
    "[1.1 Resultados SCEUA](#1.1-Resultados-SCEUA)<br>"
   ]
  },
  {
   "cell_type": "code",
   "execution_count": 1,
   "metadata": {},
   "outputs": [
    {
     "name": "stdout",
     "output_type": "stream",
     "text": [
      "F:/Codigo/GitHub/Calibrar/docs/\n"
     ]
    }
   ],
   "source": [
    "import numpy as np\n",
    "import pandas as pd\n",
    "import matplotlib.pyplot as plt\n",
    "%matplotlib inline\n",
    "plt.style.use('seaborn-whitegrid')\n",
    "plt.style.use('dark_background')\n",
    "from datetime import datetime, timedelta\n",
    "from netCDF4 import Dataset\n",
    "import os\n",
    "rutaBase = os.getcwd().replace('\\\\', '/') + '/'\n",
    "print(rutaBase)"
   ]
  },
  {
   "cell_type": "code",
   "execution_count": 2,
   "metadata": {},
   "outputs": [],
   "source": [
    "os.chdir(rutaBase + '..')\n",
    "from read_write import read_ascii"
   ]
  },
  {
   "cell_type": "markdown",
   "metadata": {},
   "source": [
    "## Cargar datos\n",
    "#### MODIS"
   ]
  },
  {
   "cell_type": "code",
   "execution_count": 3,
   "metadata": {},
   "outputs": [],
   "source": [
    "rutaMODIS = rutaBase + '../../MODIS/output/ET/'\n",
    "filename = 'MODIS_ET_500m.nc'"
   ]
  },
  {
   "cell_type": "code",
   "execution_count": 4,
   "metadata": {},
   "outputs": [],
   "source": [
    "# Cargar netcdf con los datos MODIS\n",
    "ncRead = Dataset(rutaMODIS + filename, 'r', format='NETCDF4')\n",
    "\n",
    "# extraer datos en un diccionario\n",
    "ET = {'Terra': {}, 'Aqua': {}}\n",
    "for sat, product in zip(['Terra', 'Aqua'], ['MOD16A2', 'MYD16A2']):\n",
    "    # evapotranspiración\n",
    "    ET[sat]['ET'] = ncRead[sat][product][::]\n",
    "    # fechas\n",
    "    ET[sat]['dates'] = [datetime(1, 1, 1) + timedelta(time) for time in ncRead[sat]['time'][:]]\n",
    "    # coordenadas\n",
    "    ET[sat]['X'] = ncRead[sat]['X'][:]\n",
    "    ET[sat]['Y'] = ncRead[sat]['Y'][:]\n",
    "\n",
    "ncRead.close()"
   ]
  },
  {
   "cell_type": "markdown",
   "metadata": {},
   "source": [
    "Voy a utilizar los datos de __Terra__ porque comienzan antes y, por tanto, tienen mayor solape con el periodo de simulación en TETIS."
   ]
  },
  {
   "cell_type": "markdown",
   "metadata": {},
   "source": [
    "#### TETIS"
   ]
  },
  {
   "cell_type": "code",
   "execution_count": 74,
   "metadata": {},
   "outputs": [],
   "source": [
    "rutaTETIS = 'F:/Proyectos/GESDIVAH/SDM/TETIS/PdE/Actual/Bias/'"
   ]
  },
  {
   "cell_type": "code",
   "execution_count": 75,
   "metadata": {},
   "outputs": [
    {
     "name": "stdout",
     "output_type": "stream",
     "text": [
      "archivo 121 de 121: Y1_200409080000.asc\r"
     ]
    }
   ],
   "source": [
    "# lista de archivos con los resultados\n",
    "os.chdir(rutaTETIS + '_ASCII/')\n",
    "files = [file for file in os.listdir() if file[-3:] == 'asc']\n",
    "\n",
    "# cargar archivos ascii con los resultados de TETIS\n",
    "for i, file in enumerate(files):\n",
    "    print('archivo {0:>3} de {1}: {2}'.format(i+1, len(files), file), end='\\r')\n",
    "    # leer archivo ascii\n",
    "    read_ascii(file)\n",
    "    if i == 0:\n",
    "        ETtetis = read_ascii.data\n",
    "        atrs = read_ascii.attributes\n",
    "    else:\n",
    "        ETtetis = np.dstack((ETtetis, read_ascii.data))\n",
    "# transformar 'ETtetis' para que la primera dimensión sea el tiempo\n",
    "tmp = np.ones((ETtetis.shape[2], ETtetis.shape[0], ETtetis.shape[1])) * np.nan\n",
    "for i in range(ETtetis.shape[2]):\n",
    "    tmp[i,:,:] = ETtetis[:,:,i]\n",
    "ETtetis = tmp\n",
    "del tmp"
   ]
  },
  {
   "cell_type": "code",
   "execution_count": 76,
   "metadata": {},
   "outputs": [],
   "source": [
    "# fechas de cada mapa\n",
    "datesStr = [file.split('_')[1].split('.')[0][:8] for file in files]\n",
    "datesTetis = [datetime(int(date[:4]), int(date[4:6]), int(date[6:8])).date() for date in datesStr]"
   ]
  },
  {
   "cell_type": "markdown",
   "metadata": {},
   "source": [
    "## Mapas medios"
   ]
  },
  {
   "cell_type": "code",
   "execution_count": 54,
   "metadata": {},
   "outputs": [
    {
     "name": "stdout",
     "output_type": "stream",
     "text": [
      "fecha de inicio:\t2001-01-01\n",
      "fecha de fin:\t\t2004-09-08\n"
     ]
    }
   ],
   "source": [
    "dateMin = max(ET['Terra']['dates'][0].date(), datesTetis[0])\n",
    "dateMax = min(ET['Terra']['dates'][-1].date(), datesTetis[-1])\n",
    "print('fecha de inicio:\\t{0}\\nfecha de fin:\\t\\t{1}'.format(dateMin, dateMax))"
   ]
  },
  {
   "cell_type": "markdown",
   "metadata": {},
   "source": [
    "#### Terra"
   ]
  },
  {
   "cell_type": "code",
   "execution_count": 66,
   "metadata": {},
   "outputs": [
    {
     "data": {
      "text/plain": [
       "(864, 48, 49)"
      ]
     },
     "execution_count": 66,
     "metadata": {},
     "output_type": "execute_result"
    }
   ],
   "source": [
    "ETterra = ET['Terra']['ET']\n",
    "ETterra.shape"
   ]
  },
  {
   "cell_type": "code",
   "execution_count": 67,
   "metadata": {},
   "outputs": [
    {
     "data": {
      "text/plain": [
       "169"
      ]
     },
     "execution_count": 67,
     "metadata": {},
     "output_type": "execute_result"
    }
   ],
   "source": [
    "datesTerra = np.array([d.date() for d in ET['Terra']['dates']])\n",
    "mask = (datesTerra >= dateMin) & (datesTerra <= dateMax)\n",
    "datesTerra = datesTerra[mask]\n",
    "len(datesTerra)"
   ]
  },
  {
   "cell_type": "code",
   "execution_count": 68,
   "metadata": {},
   "outputs": [
    {
     "data": {
      "text/plain": [
       "(169, 48, 49)"
      ]
     },
     "execution_count": 68,
     "metadata": {},
     "output_type": "execute_result"
    }
   ],
   "source": [
    "ETterra = ETterra[mask, :, :]\n",
    "ETterra.shape"
   ]
  },
  {
   "cell_type": "markdown",
   "metadata": {},
   "source": [
    "#### TETIS"
   ]
  },
  {
   "cell_type": "code",
   "execution_count": 77,
   "metadata": {},
   "outputs": [
    {
     "data": {
      "text/plain": [
       "(121, 216, 222)"
      ]
     },
     "execution_count": 77,
     "metadata": {},
     "output_type": "execute_result"
    }
   ],
   "source": [
    "ETtetis.shape"
   ]
  },
  {
   "cell_type": "code",
   "execution_count": 78,
   "metadata": {},
   "outputs": [
    {
     "data": {
      "text/plain": [
       "121"
      ]
     },
     "execution_count": 78,
     "metadata": {},
     "output_type": "execute_result"
    }
   ],
   "source": [
    "len(datesTetis)"
   ]
  },
  {
   "cell_type": "code",
   "execution_count": 79,
   "metadata": {},
   "outputs": [
    {
     "data": {
      "text/plain": [
       "45"
      ]
     },
     "execution_count": 79,
     "metadata": {},
     "output_type": "execute_result"
    }
   ],
   "source": [
    "datesTetis = np.array(datesTetis)\n",
    "mask = (datesTetis >= dateMin) & (datesTetis <= dateMax)\n",
    "datesTetis = datesTetis[mask]\n",
    "len(datesTetis)"
   ]
  },
  {
   "cell_type": "code",
   "execution_count": 80,
   "metadata": {},
   "outputs": [
    {
     "data": {
      "text/plain": [
       "(45, 216, 222)"
      ]
     },
     "execution_count": 80,
     "metadata": {},
     "output_type": "execute_result"
    }
   ],
   "source": [
    "ETtetis = ETtetis[mask, :, :]\n",
    "ETtetis.shape"
   ]
  },
  {
   "cell_type": "markdown",
   "metadata": {},
   "source": [
    "1. Hacer coincidir la resolución espacial\n",
    "2. Generar mapas medios\n",
    "3. Analizar SPAEF"
   ]
  },
  {
   "cell_type": "code",
   "execution_count": null,
   "metadata": {},
   "outputs": [],
   "source": []
  }
 ],
 "metadata": {
  "kernelspec": {
   "display_name": "Python 3",
   "language": "python",
   "name": "python3"
  },
  "language_info": {
   "codemirror_mode": {
    "name": "ipython",
    "version": 3
   },
   "file_extension": ".py",
   "mimetype": "text/x-python",
   "name": "python",
   "nbconvert_exporter": "python",
   "pygments_lexer": "ipython3",
   "version": "3.7.3"
  }
 },
 "nbformat": 4,
 "nbformat_minor": 4
}
