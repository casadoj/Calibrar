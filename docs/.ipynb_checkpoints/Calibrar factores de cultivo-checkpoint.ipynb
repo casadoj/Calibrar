{
 "cells": [
  {
   "cell_type": "markdown",
   "metadata": {},
   "source": [
    "# Calibrar factores de cultivo\n",
    "_Autor:_    __Jesús Casado__ <br> _Revisión:_ __03/02/2020__\n",
    "\n",
    "__Introducción__<br>\n",
    "Se analizar cómo podría ser posible calibrar la forma en que TETIS simula la evapotranspiración para que ésta reproduzca las observaciones de MODIS.\n",
    "\n",
    "En la evapotranspiración intervienen dos tanques: la evaporación ($E_6$) desde el tanque T6-interceptación y la evapotranspiración ($ET_1$) desde el tanque T1-estático.\n",
    "$$ET=E_6+ET_1<=ETP$$\n",
    "\n",
    "1.  La <font color='steelblue'>__evaporación desde el agua interceptada__</font>:\n",
    "$$E_6=min[ETP\\cdot\\lambda_v(t)\\cdot FC_2,H_6]$$\n",
    "Donde $ETP$ es la evapotranspiración potencial definida en el archivo de entrada, $\\lambda_v$ es el factor de cultivo mensual para cada tipo de cobertura del suelo y $FC_2$ es el factor corrector de la evapotranspiración (el parámetro calibrable).\n",
    "\n",
    "2.  La <font color='steelblue'>__evapotranspiración desde el tanque estático__</font>:\n",
    "$$ET_1=min[(ETP\\cdot FC_2-E_6)\\cdot\\lambda_v(t)\\cdot f(\\theta),H_1]$$\n",
    "Donde $f(\\theta)$ es la función de humedad que representa el contenido de humedad en el suelo en función de tres umbrales (punto de marchitez, humedad óptima y saturación).\n",
    "\n",
    "Según esta formulación, se puede alterar la evapotranspiración simulada de tres maneras: modificando los factores de cultivo, calibrando $FC_2$ y, en menor medida, modificando la humedad óptima. \n",
    "\n",
    "El método más obvio, y el utilizado hasta ahora, es <font color='steelblue'>calibrar el factor corrector $FC_2$</font>, lo cual tiene ciertas limitaciones. La primera es que se calibra la ET para reducir el sesgo del caudal, no para reproducir ET observada. Además, modificando $FC_2$ se puede ajustar la ET de la cuenca en términos globales para ajustar el balance hídrico a escalas temporales grandes, pero no se puede ajustar la variabilidad espacial ni intra-anual causada por el distinto comportamiento de las coberturas vegetales (ciclo vegetativo anual y comportamiento frente a la sequía). Por ello cobra gran importancia el ciclo vegetativo anual definido a través de los factores de cultivo mensuales de cada tipo de cobertura.\n",
    "\n",
    "Los <font color='steelblue'>factores de cultivo ($\\lambda_v(t)$)</font> corresponden a un mapa fijo del ciclo anual de la vegetación. Desde el punto de vista estrictamente teórico, es una aproximación muy simplista, puesto que la vegetación no responde al clima de cada año, sino que la fenología es estática. Más allá de ser una simplificación, la dificultad de definir a priori las curvas de factor de cultivo exigiría que dichas curvas fueran modulables durante la calibración, de manera que al menos se pueda ajustar dicha imagen fija en el año para que la simulación reproduzca la observación. La comparativa de la simulación en TETIS con la observación de MODIS para la cuenca del Deva deja claro que, más allá de haber un sesgo positivo en la simulación de la ET, hay un desfase temporal del ciclo vegetativo; la fase anual de ET en la simulación ocurre con antelación de 1 a 2 meses con respecto a la observación.\n",
    "\n",
    "<img src=\"../output/Comparativa series 8 diarias.png\" alt=\"Mountain View\" style=\"width:800px\">\n",
    "<img src=\"../output/Comparativa medias mensuales.png\" alt=\"Mountain View\" style=\"width:800px\">\n",
    "\n",
    "Lo ideal sería simular la vegetación de forma dinámica, de manera que el clima de las semanas previas defina el funcionamiento de la vegetación en un día dado. Es decir, que la fenología de la vegetación (su factor de cultivo) cambie año a año en función del clima de dicho año. Puesto que esto no es el objetivo por ahora, la idea sería ser capaces de modificar las curvas de cultivo estáticas para evitar el desfase entre simulación y observación anteriormente comentado. El objetivo de este _notebook_ es idear cómo modular dichas curvas.\n",
    "\n",
    "Una forma de idear cómo han de ser las curvas del factor de cultivo es a partir de los productos de LAI y cobertura del suelo de MODIS. Se puede extraer un _proxy_ de la curva de cultivo para cada tipo de cobertura. La magnitud absoluta deja de ser importante, puesto que será lo que se calibre con $FC_2$, siendo la clave el valor relativo entre tipos de cobertura.\n",
    "\n",
    "Utilizar la <font color='steelblue'>humedad óptima ($\\theta^*$)</font> permitiría mejorar la simulación de cómo las diferentes coberturas se comportan en situaciones de escasez de agua, de manera que algunas coberturas dejaran de evapotranspirar antes que otras conforme el suelo se seca. Hasta ahora no he utilizado nunca el punto óptimo. Si bien es una mejora en el realismo del funcionamiento de la vegetación, no creo que tenga un gran impacto sobre el balance hídrico de la cuenca.\n",
    "\n",
    "__Cosas que arreglar__ <br>"
   ]
  },
  {
   "cell_type": "markdown",
   "metadata": {},
   "source": [
    "***\n",
    "\n",
    "__Índice__ <br>\n",
    "__[1 Configuración](#1-Configuración)__<br>\n",
    "\n",
    "__[2 Datos](#2-Datos)__<br>\n",
    "[2.1 MODIS](#2.1-MODIS)<br>\n",
    "[2.2 TETIS](#2.2-TETIS)<br>\n",
    "[2.3 Periodo de estudio](#2.3-Correcciones)<br>\n",
    "[2.4 Unificar resolución de los mapas](#2.4-Unificar-resolución-de-los-mapas)<br>\n",
    "[2.5 Agregar serie diaria de TETIS](#2.5-Agregar-serie-diaria-de-TETIS)<br>\n",
    "\n",
    "__[3 Análisis](#3-Análisis)__<br>\n",
    "[3.1 Visual](#3.1-Visual)<br>\n",
    "[3.2 Rendimiento](#3.2-Rendimiento)<br>"
   ]
  },
  {
   "cell_type": "code",
   "execution_count": 14,
   "metadata": {},
   "outputs": [
    {
     "data": {
      "text/plain": [
       "'F:\\\\Codigo\\\\GitHub\\\\Calibrar'"
      ]
     },
     "execution_count": 14,
     "metadata": {},
     "output_type": "execute_result"
    }
   ],
   "source": [
    "os.getcwd()"
   ]
  },
  {
   "cell_type": "code",
   "execution_count": 1,
   "metadata": {},
   "outputs": [],
   "source": [
    "import numpy as np\n",
    "import pandas as pd\n",
    "import os\n",
    "rutaBase = os.getcwd().replace('\\\\', '/') + '/'\n",
    "from calendar import month_abbr"
   ]
  },
  {
   "cell_type": "code",
   "execution_count": 2,
   "metadata": {},
   "outputs": [],
   "source": [
    "import matplotlib.pyplot as plt\n",
    "import seaborn as sns\n",
    "sns.set()\n",
    "custom_style = {'axes.facecolor': 'k',\n",
    "                'axes.edgecolor': 'gray',\n",
    "                'axes.labelcolor': 'white',\n",
    "                'figure.facecolor': 'k',\n",
    "                'grid.color': 'gray',\n",
    "                'text.color': 'white',\n",
    "                'xtick.color': 'white',\n",
    "                'ytick.color': 'white',\n",
    "                \"xtick.major.size\": 0,\n",
    "                \"ytick.major.size\": 0}\n",
    "sns.set_style(style='darkgrid', rc=custom_style)"
   ]
  },
  {
   "cell_type": "code",
   "execution_count": 3,
   "metadata": {},
   "outputs": [],
   "source": [
    "os.chdir(rutaBase + '..')\n",
    "from read_write import read_ascii, write_ascii"
   ]
  },
  {
   "cell_type": "code",
   "execution_count": 4,
   "metadata": {},
   "outputs": [],
   "source": [
    "rutaTETIS = 'F:/Proyectos/GESDIVAH/SDM/TETIS/PdE/Actual/'"
   ]
  },
  {
   "cell_type": "code",
   "execution_count": 8,
   "metadata": {},
   "outputs": [],
   "source": [
    "months = [month_abbr[m] for m in range(1, 13)]\n",
    "cobVegs = ['BLF', 'CNF', 'SSH', 'PAST', 'DEN', 'UHD', 'WAE']"
   ]
  },
  {
   "cell_type": "markdown",
   "metadata": {},
   "source": [
    "__Cobertura de vegetación__"
   ]
  },
  {
   "cell_type": "code",
   "execution_count": 9,
   "metadata": {},
   "outputs": [
    {
     "data": {
      "image/png": "[encoded data removed]",
      "text/plain": [
       "<Figure size 432x288 with 1 Axes>"
      ]
     },
     "metadata": {
      "needs_background": "dark"
     },
     "output_type": "display_data"
    }
   ],
   "source": [
    "# leer ascii\n",
    "read_ascii(rutaTETIS + 'cobveg.asc', datatype='int')\n",
    "# extraer y recortar datos\n",
    "cobveg = read_ascii.data.astype('float')\n",
    "cobveg[cobveg.mask] = np.nan\n",
    "cobveg = cobveg.data\n",
    "maskrows = ~np.all(np.isnan(cobveg), axis=1)\n",
    "maskcols = ~np.all(np.isnan(cobveg), axis=0)\n",
    "cobveg = cobveg[maskrows,:][:,maskcols]\n",
    "# extraer atributos\n",
    "attrs = read_ascii.attributes\n",
    "\n",
    "plt.imshow(cobveg, cmap='summer_r')\n",
    "plt.axis('off');"
   ]
  },
  {
   "cell_type": "code",
   "execution_count": 10,
   "metadata": {},
   "outputs": [],
   "source": [
    "# 'data frame' con la fracción de cuenca perteneciente a cada cobertura\n",
    "counts = pd.Series(index=cobVegs)\n",
    "ncells = np.sum(~np.isnan(cobveg))\n",
    "for v, veg in enumerate(counts.index):\n",
    "    counts[veg] = np.sum(cobveg == v) / ncells"
   ]
  },
  {
   "cell_type": "markdown",
   "metadata": {},
   "source": [
    "__Factores de cultivo__"
   ]
  },
  {
   "cell_type": "code",
   "execution_count": 11,
   "metadata": {},
   "outputs": [],
   "source": [
    "# importar datos de la simulación de TETIS\n",
    "fETmes = pd.read_csv(rutaTETIS + 'FactorETmes_PdE.txt', sep='\\t',\n",
    "            skiprows=2, header=None)\n",
    "fETmes.columns = months + ['intercep']\n",
    "fETmes.index = cobVegs"
   ]
  },
  {
   "cell_type": "code",
   "execution_count": 12,
   "metadata": {},
   "outputs": [
    {
     "data": {
      "text/html": [
       "<div>\n",
       "<style scoped>\n",
       "    .dataframe tbody tr th:only-of-type {\n",
       "        vertical-align: middle;\n",
       "    }\n",
       "\n",
       "    .dataframe tbody tr th {\n",
       "        vertical-align: top;\n",
       "    }\n",
       "\n",
       "    .dataframe thead th {\n",
       "        text-align: right;\n",
       "    }\n",
       "</style>\n",
       "<table border=\"1\" class=\"dataframe\">\n",
       "  <thead>\n",
       "    <tr style=\"text-align: right;\">\n",
       "      <th></th>\n",
       "      <th>Jan</th>\n",
       "      <th>Feb</th>\n",
       "      <th>Mar</th>\n",
       "      <th>Apr</th>\n",
       "      <th>May</th>\n",
       "      <th>Jun</th>\n",
       "      <th>Jul</th>\n",
       "      <th>Aug</th>\n",
       "      <th>Sep</th>\n",
       "      <th>Oct</th>\n",
       "      <th>Nov</th>\n",
       "      <th>Dec</th>\n",
       "      <th>intercep</th>\n",
       "    </tr>\n",
       "  </thead>\n",
       "  <tbody>\n",
       "    <tr>\n",
       "      <th>BLF</th>\n",
       "      <td>0.30</td>\n",
       "      <td>0.30</td>\n",
       "      <td>0.80</td>\n",
       "      <td>0.90</td>\n",
       "      <td>0.90</td>\n",
       "      <td>0.90</td>\n",
       "      <td>0.90</td>\n",
       "      <td>0.90</td>\n",
       "      <td>0.90</td>\n",
       "      <td>0.80</td>\n",
       "      <td>0.60</td>\n",
       "      <td>0.30</td>\n",
       "      <td>1.80</td>\n",
       "    </tr>\n",
       "    <tr>\n",
       "      <th>CNF</th>\n",
       "      <td>0.80</td>\n",
       "      <td>0.80</td>\n",
       "      <td>0.80</td>\n",
       "      <td>0.80</td>\n",
       "      <td>0.80</td>\n",
       "      <td>0.80</td>\n",
       "      <td>0.80</td>\n",
       "      <td>0.80</td>\n",
       "      <td>0.80</td>\n",
       "      <td>0.80</td>\n",
       "      <td>0.80</td>\n",
       "      <td>0.80</td>\n",
       "      <td>1.30</td>\n",
       "    </tr>\n",
       "    <tr>\n",
       "      <th>SSH</th>\n",
       "      <td>0.50</td>\n",
       "      <td>0.50</td>\n",
       "      <td>0.50</td>\n",
       "      <td>0.60</td>\n",
       "      <td>0.70</td>\n",
       "      <td>0.70</td>\n",
       "      <td>0.70</td>\n",
       "      <td>0.70</td>\n",
       "      <td>0.60</td>\n",
       "      <td>0.50</td>\n",
       "      <td>0.50</td>\n",
       "      <td>0.50</td>\n",
       "      <td>1.50</td>\n",
       "    </tr>\n",
       "    <tr>\n",
       "      <th>PAST</th>\n",
       "      <td>0.30</td>\n",
       "      <td>0.30</td>\n",
       "      <td>0.40</td>\n",
       "      <td>0.50</td>\n",
       "      <td>0.50</td>\n",
       "      <td>0.60</td>\n",
       "      <td>0.50</td>\n",
       "      <td>0.20</td>\n",
       "      <td>0.20</td>\n",
       "      <td>0.30</td>\n",
       "      <td>0.30</td>\n",
       "      <td>0.30</td>\n",
       "      <td>1.00</td>\n",
       "    </tr>\n",
       "    <tr>\n",
       "      <th>DEN</th>\n",
       "      <td>0.00</td>\n",
       "      <td>0.00</td>\n",
       "      <td>0.00</td>\n",
       "      <td>0.00</td>\n",
       "      <td>0.00</td>\n",
       "      <td>0.00</td>\n",
       "      <td>0.00</td>\n",
       "      <td>0.00</td>\n",
       "      <td>0.00</td>\n",
       "      <td>0.00</td>\n",
       "      <td>0.00</td>\n",
       "      <td>0.00</td>\n",
       "      <td>0.00</td>\n",
       "    </tr>\n",
       "    <tr>\n",
       "      <th>UHD</th>\n",
       "      <td>0.00</td>\n",
       "      <td>0.00</td>\n",
       "      <td>0.00</td>\n",
       "      <td>0.00</td>\n",
       "      <td>0.00</td>\n",
       "      <td>0.00</td>\n",
       "      <td>0.00</td>\n",
       "      <td>0.00</td>\n",
       "      <td>0.00</td>\n",
       "      <td>0.00</td>\n",
       "      <td>0.00</td>\n",
       "      <td>0.00</td>\n",
       "      <td>0.00</td>\n",
       "    </tr>\n",
       "    <tr>\n",
       "      <th>WAE</th>\n",
       "      <td>0.00</td>\n",
       "      <td>0.00</td>\n",
       "      <td>0.00</td>\n",
       "      <td>0.00</td>\n",
       "      <td>0.00</td>\n",
       "      <td>0.00</td>\n",
       "      <td>0.00</td>\n",
       "      <td>0.00</td>\n",
       "      <td>0.00</td>\n",
       "      <td>0.00</td>\n",
       "      <td>0.00</td>\n",
       "      <td>0.00</td>\n",
       "      <td>0.00</td>\n",
       "    </tr>\n",
       "    <tr>\n",
       "      <th>Wmean</th>\n",
       "      <td>0.45</td>\n",
       "      <td>0.45</td>\n",
       "      <td>0.49</td>\n",
       "      <td>0.52</td>\n",
       "      <td>0.52</td>\n",
       "      <td>0.56</td>\n",
       "      <td>0.52</td>\n",
       "      <td>0.42</td>\n",
       "      <td>0.42</td>\n",
       "      <td>0.45</td>\n",
       "      <td>0.45</td>\n",
       "      <td>0.45</td>\n",
       "      <td>0.91</td>\n",
       "    </tr>\n",
       "  </tbody>\n",
       "</table>\n",
       "</div>"
      ],
      "text/plain": [
       "        Jan   Feb   Mar   Apr   May   Jun   Jul   Aug   Sep   Oct   Nov   Dec  \\\n",
       "BLF    0.30  0.30  0.80  0.90  0.90  0.90  0.90  0.90  0.90  0.80  0.60  0.30   \n",
       "CNF    0.80  0.80  0.80  0.80  0.80  0.80  0.80  0.80  0.80  0.80  0.80  0.80   \n",
       "SSH    0.50  0.50  0.50  0.60  0.70  0.70  0.70  0.70  0.60  0.50  0.50  0.50   \n",
       "PAST   0.30  0.30  0.40  0.50  0.50  0.60  0.50  0.20  0.20  0.30  0.30  0.30   \n",
       "DEN    0.00  0.00  0.00  0.00  0.00  0.00  0.00  0.00  0.00  0.00  0.00  0.00   \n",
       "UHD    0.00  0.00  0.00  0.00  0.00  0.00  0.00  0.00  0.00  0.00  0.00  0.00   \n",
       "WAE    0.00  0.00  0.00  0.00  0.00  0.00  0.00  0.00  0.00  0.00  0.00  0.00   \n",
       "Wmean  0.45  0.45  0.49  0.52  0.52  0.56  0.52  0.42  0.42  0.45  0.45  0.45   \n",
       "\n",
       "       intercep  \n",
       "BLF        1.80  \n",
       "CNF        1.30  \n",
       "SSH        1.50  \n",
       "PAST       1.00  \n",
       "DEN        0.00  \n",
       "UHD        0.00  \n",
       "WAE        0.00  \n",
       "Wmean      0.91  "
      ]
     },
     "execution_count": 12,
     "metadata": {},
     "output_type": "execute_result"
    }
   ],
   "source": [
    "# calcular el factor de cultivo ponderado\n",
    "for col in fETmes.columns:\n",
    "    fETmes.loc['Wmean', col] = round((fETmes[col] * counts).sum(axis=0), 2)\n",
    "\n",
    "fETmes"
   ]
  },
  {
   "cell_type": "code",
   "execution_count": 13,
   "metadata": {},
   "outputs": [
    {
     "data": {
      "image/png": "[encoded data removed]",
      "text/plain": [
       "<Figure size 576x288 with 1 Axes>"
      ]
     },
     "metadata": {
      "needs_background": "dark"
     },
     "output_type": "display_data"
    }
   ],
   "source": [
    "fig, ax = plt.subplots(figsize=(8, 4))\n",
    "for veg in cobVegs:\n",
    "    ax.plot(fETmes.loc[veg, months], lw=1.2, label=veg)\n",
    "ax.plot(fETmes.loc['Wmean', months], c='w', lw=2, label='mean')\n",
    "ax.set_xlim(0, 11)\n",
    "ax.set_ylim(-.01, 1)\n",
    "fig.legend(loc=8, ncol=4, bbox_to_anchor=(.25, -.04, 0.5, 0.1));"
   ]
  },
  {
   "cell_type": "markdown",
   "metadata": {},
   "source": [
    "<font color='indianred'> \n",
    "    \n",
    "*  No puede ser que la evapotranspiración de los cuerpos de agua sea nula. Al contrario, debería ser 0, puesto que es la 'pontencial'. ¿Cómo se simula una celda de agua?\n",
    "*  ¿Debe ser 0 la evapotranspiración del suelo desnudo? Probablemente no, puesto que evaporación sí se produce.\n",
    "*  ¿Debe ser 0 la evapotranspiración del suelo urbano?"
   ]
  },
  {
   "cell_type": "markdown",
   "metadata": {},
   "source": [
    "### MODIS Land Cover Classification"
   ]
  },
  {
   "cell_type": "code",
   "execution_count": null,
   "metadata": {},
   "outputs": [],
   "source": []
  }
 ],
 "metadata": {
  "kernelspec": {
   "display_name": "Python 3",
   "language": "python",
   "name": "python3"
  },
  "language_info": {
   "codemirror_mode": {
    "name": "ipython",
    "version": 3
   },
   "file_extension": ".py",
   "mimetype": "text/x-python",
   "name": "python",
   "nbconvert_exporter": "python",
   "pygments_lexer": "ipython3",
   "version": "3.7.3"
  }
 },
 "nbformat": 4,
 "nbformat_minor": 4
}
